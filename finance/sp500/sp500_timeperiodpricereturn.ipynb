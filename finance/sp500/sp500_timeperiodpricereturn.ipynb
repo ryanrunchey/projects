{
 "cells": [
  {
   "cell_type": "markdown",
   "metadata": {},
   "source": [
    "# Import Libraries"
   ]
  },
  {
   "cell_type": "code",
   "execution_count": 2,
   "metadata": {},
   "outputs": [],
   "source": [
    "import numpy as np\n",
    "import pandas as pd\n",
    "from datetime import datetime, timedelta\n",
    "import time\n",
    "\n",
    "%matplotlib inline\n",
    "import matplotlib.pyplot as plt\n",
    "import matplotlib.dates as mdates\n",
    "import seaborn; seaborn.set(style='white')"
   ]
  },
  {
   "cell_type": "markdown",
   "metadata": {},
   "source": [
    "# Import Data\n",
    "\n",
    "Yahoo Finance ^GSPC\n",
    "* Select\n",
    "    * Time Period: Jan 03, 1950 - Jul 05, 2018\n",
    "    * Show: Historical Prices\n",
    "    * Frequency: Daily \n",
    "    * Click -> \"Apply\"\n",
    "    * Click -> \"Download Data\"\n",
    "* URL: https://finance.yahoo.com/quote/%5EGSPC/history/"
   ]
  },
  {
   "cell_type": "code",
   "execution_count": 2,
   "metadata": {},
   "outputs": [],
   "source": [
    "sp_data_csv_path = 'sp500_yahoo_data_gspc_daily.csv'\n",
    "df = pd.read_csv(sp_data_csv_path)"
   ]
  },
  {
   "cell_type": "code",
   "execution_count": 3,
   "metadata": {},
   "outputs": [
    {
     "name": "stdout",
     "output_type": "stream",
     "text": [
      "<class 'pandas.core.frame.DataFrame'>\n",
      "RangeIndex: 17237 entries, 0 to 17236\n",
      "Data columns (total 7 columns):\n",
      "Date         17237 non-null object\n",
      "Open         17237 non-null float64\n",
      "High         17237 non-null float64\n",
      "Low          17237 non-null float64\n",
      "Close        17237 non-null float64\n",
      "Adj Close    17237 non-null float64\n",
      "Volume       17237 non-null int64\n",
      "dtypes: float64(5), int64(1), object(1)\n",
      "memory usage: 942.7+ KB\n"
     ]
    }
   ],
   "source": [
    "df.info()"
   ]
  },
  {
   "cell_type": "code",
   "execution_count": 4,
   "metadata": {},
   "outputs": [
    {
     "data": {
      "text/html": [
       "<div>\n",
       "<style scoped>\n",
       "    .dataframe tbody tr th:only-of-type {\n",
       "        vertical-align: middle;\n",
       "    }\n",
       "\n",
       "    .dataframe tbody tr th {\n",
       "        vertical-align: top;\n",
       "    }\n",
       "\n",
       "    .dataframe thead th {\n",
       "        text-align: right;\n",
       "    }\n",
       "</style>\n",
       "<table border=\"1\" class=\"dataframe\">\n",
       "  <thead>\n",
       "    <tr style=\"text-align: right;\">\n",
       "      <th></th>\n",
       "      <th>Date</th>\n",
       "      <th>Open</th>\n",
       "      <th>High</th>\n",
       "      <th>Low</th>\n",
       "      <th>Close</th>\n",
       "      <th>Adj Close</th>\n",
       "      <th>Volume</th>\n",
       "    </tr>\n",
       "  </thead>\n",
       "  <tbody>\n",
       "    <tr>\n",
       "      <th>0</th>\n",
       "      <td>1950-01-03</td>\n",
       "      <td>16.66</td>\n",
       "      <td>16.66</td>\n",
       "      <td>16.66</td>\n",
       "      <td>16.66</td>\n",
       "      <td>16.66</td>\n",
       "      <td>1260000</td>\n",
       "    </tr>\n",
       "    <tr>\n",
       "      <th>1</th>\n",
       "      <td>1950-01-04</td>\n",
       "      <td>16.85</td>\n",
       "      <td>16.85</td>\n",
       "      <td>16.85</td>\n",
       "      <td>16.85</td>\n",
       "      <td>16.85</td>\n",
       "      <td>1890000</td>\n",
       "    </tr>\n",
       "  </tbody>\n",
       "</table>\n",
       "</div>"
      ],
      "text/plain": [
       "         Date   Open   High    Low  Close  Adj Close   Volume\n",
       "0  1950-01-03  16.66  16.66  16.66  16.66      16.66  1260000\n",
       "1  1950-01-04  16.85  16.85  16.85  16.85      16.85  1890000"
      ]
     },
     "execution_count": 4,
     "metadata": {},
     "output_type": "execute_result"
    }
   ],
   "source": [
    "df.head(2)"
   ]
  },
  {
   "cell_type": "code",
   "execution_count": 5,
   "metadata": {},
   "outputs": [
    {
     "data": {
      "text/plain": [
       "(17237, 7)"
      ]
     },
     "execution_count": 5,
     "metadata": {},
     "output_type": "execute_result"
    }
   ],
   "source": [
    "df.shape"
   ]
  },
  {
   "cell_type": "code",
   "execution_count": 6,
   "metadata": {},
   "outputs": [],
   "source": [
    "# start program runtime\n",
    "time_start = time.time()"
   ]
  },
  {
   "cell_type": "markdown",
   "metadata": {},
   "source": [
    "# Time Period Calculations"
   ]
  },
  {
   "cell_type": "code",
   "execution_count": 7,
   "metadata": {},
   "outputs": [
    {
     "data": {
      "text/html": [
       "<div>\n",
       "<style scoped>\n",
       "    .dataframe tbody tr th:only-of-type {\n",
       "        vertical-align: middle;\n",
       "    }\n",
       "\n",
       "    .dataframe tbody tr th {\n",
       "        vertical-align: top;\n",
       "    }\n",
       "\n",
       "    .dataframe thead th {\n",
       "        text-align: right;\n",
       "    }\n",
       "</style>\n",
       "<table border=\"1\" class=\"dataframe\">\n",
       "  <thead>\n",
       "    <tr style=\"text-align: right;\">\n",
       "      <th></th>\n",
       "      <th>start_date</th>\n",
       "      <th>start_price</th>\n",
       "      <th>trading_days</th>\n",
       "      <th>end_date</th>\n",
       "      <th>end_price</th>\n",
       "    </tr>\n",
       "  </thead>\n",
       "  <tbody>\n",
       "    <tr>\n",
       "      <th>0</th>\n",
       "      <td>1950-01-03</td>\n",
       "      <td>16.66</td>\n",
       "      <td>1</td>\n",
       "      <td>1950-01-04</td>\n",
       "      <td>16.85</td>\n",
       "    </tr>\n",
       "    <tr>\n",
       "      <th>1</th>\n",
       "      <td>1950-01-04</td>\n",
       "      <td>16.85</td>\n",
       "      <td>1</td>\n",
       "      <td>1950-01-05</td>\n",
       "      <td>16.93</td>\n",
       "    </tr>\n",
       "  </tbody>\n",
       "</table>\n",
       "</div>"
      ],
      "text/plain": [
       "   start_date  start_price  trading_days    end_date  end_price\n",
       "0  1950-01-03        16.66             1  1950-01-04      16.85\n",
       "1  1950-01-04        16.85             1  1950-01-05      16.93"
      ]
     },
     "execution_count": 7,
     "metadata": {},
     "output_type": "execute_result"
    }
   ],
   "source": [
    "list_of_dataframes = []\n",
    "\n",
    "start_range = 1\n",
    "end_range = 252*30\n",
    "\n",
    "for i in np.arange(start_range, end_range + 1):\n",
    "    \n",
    "    trading_days = i\n",
    "    \n",
    "    df_tds = df[['Date', 'Close']].copy(deep=True)\n",
    "    df_tds.rename(columns={'Date': 'start_date', 'Close': 'start_price'}, inplace=True)\n",
    "    \n",
    "    df_tds['trading_days'] = trading_days\n",
    "    df_tds['end_date'] = df_tds['start_date'].shift(periods=-trading_days)\n",
    "    df_tds['end_price'] = df_tds['start_price'].shift(periods=-trading_days)\n",
    "    df_tds.dropna(inplace=True)\n",
    "    \n",
    "    list_of_dataframes.append(df_tds)\n",
    "\n",
    "df_list = pd.concat(list_of_dataframes)\n",
    "df_list.reset_index(drop=True, inplace=True)\n",
    "df_list.head(2)"
   ]
  },
  {
   "cell_type": "code",
   "execution_count": 8,
   "metadata": {},
   "outputs": [
    {
     "data": {
      "text/plain": [
       "(101731140, 5)"
      ]
     },
     "execution_count": 8,
     "metadata": {},
     "output_type": "execute_result"
    }
   ],
   "source": [
    "df_list.shape"
   ]
  },
  {
   "cell_type": "code",
   "execution_count": 9,
   "metadata": {},
   "outputs": [
    {
     "data": {
      "text/html": [
       "<div>\n",
       "<style scoped>\n",
       "    .dataframe tbody tr th:only-of-type {\n",
       "        vertical-align: middle;\n",
       "    }\n",
       "\n",
       "    .dataframe tbody tr th {\n",
       "        vertical-align: top;\n",
       "    }\n",
       "\n",
       "    .dataframe thead th {\n",
       "        text-align: right;\n",
       "    }\n",
       "</style>\n",
       "<table border=\"1\" class=\"dataframe\">\n",
       "  <thead>\n",
       "    <tr style=\"text-align: right;\">\n",
       "      <th></th>\n",
       "      <th>start_date</th>\n",
       "      <th>start_price</th>\n",
       "      <th>trading_days</th>\n",
       "      <th>end_date</th>\n",
       "      <th>end_price</th>\n",
       "      <th>price_difference</th>\n",
       "      <th>roi</th>\n",
       "    </tr>\n",
       "  </thead>\n",
       "  <tbody>\n",
       "    <tr>\n",
       "      <th>0</th>\n",
       "      <td>1950-01-03</td>\n",
       "      <td>16.66</td>\n",
       "      <td>1</td>\n",
       "      <td>1950-01-04</td>\n",
       "      <td>16.85</td>\n",
       "      <td>0.19</td>\n",
       "      <td>0.011405</td>\n",
       "    </tr>\n",
       "    <tr>\n",
       "      <th>1</th>\n",
       "      <td>1950-01-04</td>\n",
       "      <td>16.85</td>\n",
       "      <td>1</td>\n",
       "      <td>1950-01-05</td>\n",
       "      <td>16.93</td>\n",
       "      <td>0.08</td>\n",
       "      <td>0.004748</td>\n",
       "    </tr>\n",
       "  </tbody>\n",
       "</table>\n",
       "</div>"
      ],
      "text/plain": [
       "   start_date  start_price  trading_days    end_date  end_price  \\\n",
       "0  1950-01-03        16.66             1  1950-01-04      16.85   \n",
       "1  1950-01-04        16.85             1  1950-01-05      16.93   \n",
       "\n",
       "   price_difference       roi  \n",
       "0              0.19  0.011405  \n",
       "1              0.08  0.004748  "
      ]
     },
     "execution_count": 9,
     "metadata": {},
     "output_type": "execute_result"
    }
   ],
   "source": [
    "df_list['price_difference'] = df_list['end_price'] - df_list['start_price']\n",
    "df_list['roi'] = df_list['price_difference'] / df_list['start_price']\n",
    "df_list.head(2)"
   ]
  },
  {
   "cell_type": "code",
   "execution_count": 10,
   "metadata": {},
   "outputs": [],
   "source": [
    "# rearrange columns\n",
    "df_list = df_list[['start_date', 'end_date', 'trading_days', 'start_price', 'end_price', 'price_difference', 'roi']]"
   ]
  },
  {
   "cell_type": "code",
   "execution_count": 11,
   "metadata": {},
   "outputs": [
    {
     "data": {
      "text/html": [
       "<div>\n",
       "<style scoped>\n",
       "    .dataframe tbody tr th:only-of-type {\n",
       "        vertical-align: middle;\n",
       "    }\n",
       "\n",
       "    .dataframe tbody tr th {\n",
       "        vertical-align: top;\n",
       "    }\n",
       "\n",
       "    .dataframe thead th {\n",
       "        text-align: right;\n",
       "    }\n",
       "</style>\n",
       "<table border=\"1\" class=\"dataframe\">\n",
       "  <thead>\n",
       "    <tr style=\"text-align: right;\">\n",
       "      <th></th>\n",
       "      <th>start_date</th>\n",
       "      <th>end_date</th>\n",
       "      <th>trading_days</th>\n",
       "      <th>start_price</th>\n",
       "      <th>end_price</th>\n",
       "      <th>price_difference</th>\n",
       "      <th>roi</th>\n",
       "    </tr>\n",
       "  </thead>\n",
       "  <tbody>\n",
       "    <tr>\n",
       "      <th>101731138</th>\n",
       "      <td>1988-07-01</td>\n",
       "      <td>2018-07-02</td>\n",
       "      <td>7560</td>\n",
       "      <td>271.779999</td>\n",
       "      <td>2726.709961</td>\n",
       "      <td>2454.929962</td>\n",
       "      <td>9.032784</td>\n",
       "    </tr>\n",
       "    <tr>\n",
       "      <th>101731139</th>\n",
       "      <td>1988-07-05</td>\n",
       "      <td>2018-07-03</td>\n",
       "      <td>7560</td>\n",
       "      <td>275.809998</td>\n",
       "      <td>2713.219971</td>\n",
       "      <td>2437.409973</td>\n",
       "      <td>8.837279</td>\n",
       "    </tr>\n",
       "  </tbody>\n",
       "</table>\n",
       "</div>"
      ],
      "text/plain": [
       "           start_date    end_date  trading_days  start_price    end_price  \\\n",
       "101731138  1988-07-01  2018-07-02          7560   271.779999  2726.709961   \n",
       "101731139  1988-07-05  2018-07-03          7560   275.809998  2713.219971   \n",
       "\n",
       "           price_difference       roi  \n",
       "101731138       2454.929962  9.032784  \n",
       "101731139       2437.409973  8.837279  "
      ]
     },
     "execution_count": 11,
     "metadata": {},
     "output_type": "execute_result"
    }
   ],
   "source": [
    "df_list.tail(2)"
   ]
  },
  {
   "cell_type": "code",
   "execution_count": 12,
   "metadata": {},
   "outputs": [
    {
     "data": {
      "text/plain": [
       "(101731140, 7)"
      ]
     },
     "execution_count": 12,
     "metadata": {},
     "output_type": "execute_result"
    }
   ],
   "source": [
    "df_list.shape"
   ]
  },
  {
   "cell_type": "code",
   "execution_count": 13,
   "metadata": {},
   "outputs": [
    {
     "name": "stdout",
     "output_type": "stream",
     "text": [
      "101731140\n"
     ]
    }
   ],
   "source": [
    "print(len(df_list.index.unique()))"
   ]
  },
  {
   "cell_type": "code",
   "execution_count": 14,
   "metadata": {},
   "outputs": [
    {
     "name": "stdout",
     "output_type": "stream",
     "text": [
      "Calculations Runtime: 00:01:12.77\n"
     ]
    }
   ],
   "source": [
    "# print program runtime\n",
    "time_end = time.time()\n",
    "\n",
    "def timer(start,end):\n",
    "    hours, rem = divmod(end-start, 3600)\n",
    "    minutes, seconds = divmod(rem, 60)\n",
    "    print(\"Calculations Runtime: {:0>2}:{:0>2}:{:05.2f}\".format(int(hours),int(minutes),seconds))\n",
    "\n",
    "timer(time_start, time_end)"
   ]
  },
  {
   "cell_type": "markdown",
   "metadata": {},
   "source": [
    "## Store to_csv: df_list"
   ]
  },
  {
   "cell_type": "code",
   "execution_count": 15,
   "metadata": {},
   "outputs": [
    {
     "name": "stdout",
     "output_type": "stream",
     "text": [
      "sp500_timeperiodpricereturn_output_1-7560.csv\n"
     ]
    }
   ],
   "source": [
    "# store pandas dateframe to csv\n",
    "prefix = 'sp500_timeperiodpricereturn_output_'\n",
    "trading_days_range = str(start_range) + '-' + str(end_range)\n",
    "filetype = '.csv'\n",
    "filename = prefix + trading_days_range + filetype\n",
    "\n",
    "print(filename)\n",
    "df_list.to_csv(filename, index=False, chunksize=100000)"
   ]
  },
  {
   "cell_type": "markdown",
   "metadata": {},
   "source": [
    "# Summary of trading_days"
   ]
  },
  {
   "cell_type": "code",
   "execution_count": 3,
   "metadata": {},
   "outputs": [],
   "source": [
    "df_list = pd.read_csv('sp500_timeperiodpricereturn_output_1-7560.csv')"
   ]
  },
  {
   "cell_type": "code",
   "execution_count": 29,
   "metadata": {},
   "outputs": [
    {
     "data": {
      "text/html": [
       "<div>\n",
       "<style scoped>\n",
       "    .dataframe tbody tr th:only-of-type {\n",
       "        vertical-align: middle;\n",
       "    }\n",
       "\n",
       "    .dataframe tbody tr th {\n",
       "        vertical-align: top;\n",
       "    }\n",
       "\n",
       "    .dataframe thead th {\n",
       "        text-align: right;\n",
       "    }\n",
       "</style>\n",
       "<table border=\"1\" class=\"dataframe\">\n",
       "  <thead>\n",
       "    <tr style=\"text-align: right;\">\n",
       "      <th></th>\n",
       "      <th>number_of_periods</th>\n",
       "      <th>roi_mean</th>\n",
       "      <th>roi_median</th>\n",
       "      <th>roi_min</th>\n",
       "      <th>roi_max</th>\n",
       "      <th>roi_range</th>\n",
       "    </tr>\n",
       "    <tr>\n",
       "      <th>trading_days</th>\n",
       "      <th></th>\n",
       "      <th></th>\n",
       "      <th></th>\n",
       "      <th></th>\n",
       "      <th></th>\n",
       "      <th></th>\n",
       "    </tr>\n",
       "  </thead>\n",
       "  <tbody>\n",
       "    <tr>\n",
       "      <th>1</th>\n",
       "      <td>17236</td>\n",
       "      <td>0.000342</td>\n",
       "      <td>0.000468</td>\n",
       "      <td>-0.204669</td>\n",
       "      <td>0.115800</td>\n",
       "      <td>0.320470</td>\n",
       "    </tr>\n",
       "    <tr>\n",
       "      <th>2</th>\n",
       "      <td>17235</td>\n",
       "      <td>0.000686</td>\n",
       "      <td>0.001031</td>\n",
       "      <td>-0.245706</td>\n",
       "      <td>0.149173</td>\n",
       "      <td>0.394879</td>\n",
       "    </tr>\n",
       "    <tr>\n",
       "      <th>3</th>\n",
       "      <td>17234</td>\n",
       "      <td>0.001026</td>\n",
       "      <td>0.001707</td>\n",
       "      <td>-0.263375</td>\n",
       "      <td>0.139480</td>\n",
       "      <td>0.402855</td>\n",
       "    </tr>\n",
       "  </tbody>\n",
       "</table>\n",
       "</div>"
      ],
      "text/plain": [
       "              number_of_periods  roi_mean  roi_median   roi_min   roi_max  \\\n",
       "trading_days                                                                \n",
       "1                         17236  0.000342    0.000468 -0.204669  0.115800   \n",
       "2                         17235  0.000686    0.001031 -0.245706  0.149173   \n",
       "3                         17234  0.001026    0.001707 -0.263375  0.139480   \n",
       "\n",
       "              roi_range  \n",
       "trading_days             \n",
       "1              0.320470  \n",
       "2              0.394879  \n",
       "3              0.402855  "
      ]
     },
     "execution_count": 29,
     "metadata": {},
     "output_type": "execute_result"
    }
   ],
   "source": [
    "df_list_summary = (df_list.groupby(['trading_days'])\n",
    "                   .agg({'trading_days': 'count', 'roi': ['mean', 'median', 'min', 'max']}))\n",
    "\n",
    "df_list_summary = df_list_summary.rename(columns={\"trading_days\": \"number_of_periods\"})\n",
    "df_list_summary.columns = [\"_\".join(x) for x in df_list_summary.columns.ravel()]\n",
    "df_list_summary.rename(columns={'number_of_periods_count': 'number_of_periods'}, inplace=True)\n",
    "df_list_summary['roi_range'] = df_list_summary['roi_max'] - df_list_summary['roi_min']\n",
    "df_list_summary.head(3)"
   ]
  },
  {
   "cell_type": "code",
   "execution_count": 30,
   "metadata": {},
   "outputs": [],
   "source": [
    "df_count_nonneg = df_list.groupby(['trading_days'])['roi'].apply(lambda x: x[x >= 0].count()).to_frame(name='number_of_periods_nonneg')\n",
    "df_count_neg = df_list.groupby(['trading_days'])['roi'].apply(lambda x: x[x < 0].count()).to_frame(name='number_of_periods_neg')"
   ]
  },
  {
   "cell_type": "code",
   "execution_count": 31,
   "metadata": {},
   "outputs": [
    {
     "data": {
      "text/html": [
       "<div>\n",
       "<style scoped>\n",
       "    .dataframe tbody tr th:only-of-type {\n",
       "        vertical-align: middle;\n",
       "    }\n",
       "\n",
       "    .dataframe tbody tr th {\n",
       "        vertical-align: top;\n",
       "    }\n",
       "\n",
       "    .dataframe thead th {\n",
       "        text-align: right;\n",
       "    }\n",
       "</style>\n",
       "<table border=\"1\" class=\"dataframe\">\n",
       "  <thead>\n",
       "    <tr style=\"text-align: right;\">\n",
       "      <th></th>\n",
       "      <th>number_of_periods</th>\n",
       "      <th>roi_mean</th>\n",
       "      <th>roi_median</th>\n",
       "      <th>roi_min</th>\n",
       "      <th>roi_max</th>\n",
       "      <th>roi_range</th>\n",
       "      <th>number_of_periods_nonneg</th>\n",
       "      <th>number_of_periods_neg</th>\n",
       "    </tr>\n",
       "    <tr>\n",
       "      <th>trading_days</th>\n",
       "      <th></th>\n",
       "      <th></th>\n",
       "      <th></th>\n",
       "      <th></th>\n",
       "      <th></th>\n",
       "      <th></th>\n",
       "      <th></th>\n",
       "      <th></th>\n",
       "    </tr>\n",
       "  </thead>\n",
       "  <tbody>\n",
       "    <tr>\n",
       "      <th>1</th>\n",
       "      <td>17236</td>\n",
       "      <td>0.000342</td>\n",
       "      <td>0.000468</td>\n",
       "      <td>-0.204669</td>\n",
       "      <td>0.115800</td>\n",
       "      <td>0.320470</td>\n",
       "      <td>9255</td>\n",
       "      <td>7981</td>\n",
       "    </tr>\n",
       "    <tr>\n",
       "      <th>2</th>\n",
       "      <td>17235</td>\n",
       "      <td>0.000686</td>\n",
       "      <td>0.001031</td>\n",
       "      <td>-0.245706</td>\n",
       "      <td>0.149173</td>\n",
       "      <td>0.394879</td>\n",
       "      <td>9420</td>\n",
       "      <td>7815</td>\n",
       "    </tr>\n",
       "    <tr>\n",
       "      <th>3</th>\n",
       "      <td>17234</td>\n",
       "      <td>0.001026</td>\n",
       "      <td>0.001707</td>\n",
       "      <td>-0.263375</td>\n",
       "      <td>0.139480</td>\n",
       "      <td>0.402855</td>\n",
       "      <td>9614</td>\n",
       "      <td>7620</td>\n",
       "    </tr>\n",
       "  </tbody>\n",
       "</table>\n",
       "</div>"
      ],
      "text/plain": [
       "              number_of_periods  roi_mean  roi_median   roi_min   roi_max  \\\n",
       "trading_days                                                                \n",
       "1                         17236  0.000342    0.000468 -0.204669  0.115800   \n",
       "2                         17235  0.000686    0.001031 -0.245706  0.149173   \n",
       "3                         17234  0.001026    0.001707 -0.263375  0.139480   \n",
       "\n",
       "              roi_range  number_of_periods_nonneg  number_of_periods_neg  \n",
       "trading_days                                                              \n",
       "1              0.320470                      9255                   7981  \n",
       "2              0.394879                      9420                   7815  \n",
       "3              0.402855                      9614                   7620  "
      ]
     },
     "execution_count": 31,
     "metadata": {},
     "output_type": "execute_result"
    }
   ],
   "source": [
    "df_list_summary = df_list_summary.merge(df_count_nonneg, how='left', left_index=True, right_index=True)\n",
    "df_list_summary = df_list_summary.merge(df_count_neg, how='left', left_index=True, right_index=True)\n",
    "df_list_summary.head(3)"
   ]
  },
  {
   "cell_type": "code",
   "execution_count": 32,
   "metadata": {},
   "outputs": [
    {
     "data": {
      "text/html": [
       "<div>\n",
       "<style scoped>\n",
       "    .dataframe tbody tr th:only-of-type {\n",
       "        vertical-align: middle;\n",
       "    }\n",
       "\n",
       "    .dataframe tbody tr th {\n",
       "        vertical-align: top;\n",
       "    }\n",
       "\n",
       "    .dataframe thead th {\n",
       "        text-align: right;\n",
       "    }\n",
       "</style>\n",
       "<table border=\"1\" class=\"dataframe\">\n",
       "  <thead>\n",
       "    <tr style=\"text-align: right;\">\n",
       "      <th></th>\n",
       "      <th>number_of_periods</th>\n",
       "      <th>roi_mean</th>\n",
       "      <th>roi_median</th>\n",
       "      <th>roi_min</th>\n",
       "      <th>roi_max</th>\n",
       "      <th>roi_range</th>\n",
       "      <th>number_of_periods_nonneg</th>\n",
       "      <th>number_of_periods_neg</th>\n",
       "      <th>percent_of_periods_nonneg</th>\n",
       "      <th>percent_of_periods_neg</th>\n",
       "    </tr>\n",
       "    <tr>\n",
       "      <th>trading_days</th>\n",
       "      <th></th>\n",
       "      <th></th>\n",
       "      <th></th>\n",
       "      <th></th>\n",
       "      <th></th>\n",
       "      <th></th>\n",
       "      <th></th>\n",
       "      <th></th>\n",
       "      <th></th>\n",
       "      <th></th>\n",
       "    </tr>\n",
       "  </thead>\n",
       "  <tbody>\n",
       "    <tr>\n",
       "      <th>1</th>\n",
       "      <td>17236</td>\n",
       "      <td>0.000342</td>\n",
       "      <td>0.000468</td>\n",
       "      <td>-0.204669</td>\n",
       "      <td>0.115800</td>\n",
       "      <td>0.320470</td>\n",
       "      <td>9255</td>\n",
       "      <td>7981</td>\n",
       "      <td>0.536958</td>\n",
       "      <td>0.463042</td>\n",
       "    </tr>\n",
       "    <tr>\n",
       "      <th>2</th>\n",
       "      <td>17235</td>\n",
       "      <td>0.000686</td>\n",
       "      <td>0.001031</td>\n",
       "      <td>-0.245706</td>\n",
       "      <td>0.149173</td>\n",
       "      <td>0.394879</td>\n",
       "      <td>9420</td>\n",
       "      <td>7815</td>\n",
       "      <td>0.546562</td>\n",
       "      <td>0.453438</td>\n",
       "    </tr>\n",
       "    <tr>\n",
       "      <th>3</th>\n",
       "      <td>17234</td>\n",
       "      <td>0.001026</td>\n",
       "      <td>0.001707</td>\n",
       "      <td>-0.263375</td>\n",
       "      <td>0.139480</td>\n",
       "      <td>0.402855</td>\n",
       "      <td>9614</td>\n",
       "      <td>7620</td>\n",
       "      <td>0.557851</td>\n",
       "      <td>0.442149</td>\n",
       "    </tr>\n",
       "  </tbody>\n",
       "</table>\n",
       "</div>"
      ],
      "text/plain": [
       "              number_of_periods  roi_mean  roi_median   roi_min   roi_max  \\\n",
       "trading_days                                                                \n",
       "1                         17236  0.000342    0.000468 -0.204669  0.115800   \n",
       "2                         17235  0.000686    0.001031 -0.245706  0.149173   \n",
       "3                         17234  0.001026    0.001707 -0.263375  0.139480   \n",
       "\n",
       "              roi_range  number_of_periods_nonneg  number_of_periods_neg  \\\n",
       "trading_days                                                               \n",
       "1              0.320470                      9255                   7981   \n",
       "2              0.394879                      9420                   7815   \n",
       "3              0.402855                      9614                   7620   \n",
       "\n",
       "              percent_of_periods_nonneg  percent_of_periods_neg  \n",
       "trading_days                                                     \n",
       "1                              0.536958                0.463042  \n",
       "2                              0.546562                0.453438  \n",
       "3                              0.557851                0.442149  "
      ]
     },
     "execution_count": 32,
     "metadata": {},
     "output_type": "execute_result"
    }
   ],
   "source": [
    "df_list_summary['percent_of_periods_nonneg'] = df_list_summary['number_of_periods_nonneg'] / df_list_summary['number_of_periods']\n",
    "df_list_summary['percent_of_periods_neg'] = df_list_summary['number_of_periods_neg'] / df_list_summary['number_of_periods']\n",
    "df_list_summary.head(3)"
   ]
  },
  {
   "cell_type": "code",
   "execution_count": 33,
   "metadata": {},
   "outputs": [
    {
     "data": {
      "text/html": [
       "<div>\n",
       "<style scoped>\n",
       "    .dataframe tbody tr th:only-of-type {\n",
       "        vertical-align: middle;\n",
       "    }\n",
       "\n",
       "    .dataframe tbody tr th {\n",
       "        vertical-align: top;\n",
       "    }\n",
       "\n",
       "    .dataframe thead th {\n",
       "        text-align: right;\n",
       "    }\n",
       "</style>\n",
       "<table border=\"1\" class=\"dataframe\">\n",
       "  <thead>\n",
       "    <tr style=\"text-align: right;\">\n",
       "      <th></th>\n",
       "      <th>number_of_periods</th>\n",
       "      <th>roi_mean</th>\n",
       "      <th>roi_median</th>\n",
       "      <th>roi_min</th>\n",
       "      <th>roi_max</th>\n",
       "      <th>roi_range</th>\n",
       "      <th>number_of_periods_nonneg</th>\n",
       "      <th>number_of_periods_neg</th>\n",
       "      <th>percent_of_periods_nonneg</th>\n",
       "      <th>percent_of_periods_neg</th>\n",
       "      <th>marginal_nonneg_periods_per_day</th>\n",
       "      <th>cumulative_pos_periods_per_day</th>\n",
       "    </tr>\n",
       "    <tr>\n",
       "      <th>trading_days</th>\n",
       "      <th></th>\n",
       "      <th></th>\n",
       "      <th></th>\n",
       "      <th></th>\n",
       "      <th></th>\n",
       "      <th></th>\n",
       "      <th></th>\n",
       "      <th></th>\n",
       "      <th></th>\n",
       "      <th></th>\n",
       "      <th></th>\n",
       "      <th></th>\n",
       "    </tr>\n",
       "  </thead>\n",
       "  <tbody>\n",
       "    <tr>\n",
       "      <th>1</th>\n",
       "      <td>17236</td>\n",
       "      <td>0.000342</td>\n",
       "      <td>0.000468</td>\n",
       "      <td>-0.204669</td>\n",
       "      <td>0.115800</td>\n",
       "      <td>0.320470</td>\n",
       "      <td>9255</td>\n",
       "      <td>7981</td>\n",
       "      <td>0.536958</td>\n",
       "      <td>0.463042</td>\n",
       "      <td>NaN</td>\n",
       "      <td>0.000000</td>\n",
       "    </tr>\n",
       "    <tr>\n",
       "      <th>2</th>\n",
       "      <td>17235</td>\n",
       "      <td>0.000686</td>\n",
       "      <td>0.001031</td>\n",
       "      <td>-0.245706</td>\n",
       "      <td>0.149173</td>\n",
       "      <td>0.394879</td>\n",
       "      <td>9420</td>\n",
       "      <td>7815</td>\n",
       "      <td>0.546562</td>\n",
       "      <td>0.453438</td>\n",
       "      <td>0.009605</td>\n",
       "      <td>0.009605</td>\n",
       "    </tr>\n",
       "    <tr>\n",
       "      <th>3</th>\n",
       "      <td>17234</td>\n",
       "      <td>0.001026</td>\n",
       "      <td>0.001707</td>\n",
       "      <td>-0.263375</td>\n",
       "      <td>0.139480</td>\n",
       "      <td>0.402855</td>\n",
       "      <td>9614</td>\n",
       "      <td>7620</td>\n",
       "      <td>0.557851</td>\n",
       "      <td>0.442149</td>\n",
       "      <td>0.011289</td>\n",
       "      <td>0.020893</td>\n",
       "    </tr>\n",
       "  </tbody>\n",
       "</table>\n",
       "</div>"
      ],
      "text/plain": [
       "              number_of_periods  roi_mean  roi_median   roi_min   roi_max  \\\n",
       "trading_days                                                                \n",
       "1                         17236  0.000342    0.000468 -0.204669  0.115800   \n",
       "2                         17235  0.000686    0.001031 -0.245706  0.149173   \n",
       "3                         17234  0.001026    0.001707 -0.263375  0.139480   \n",
       "\n",
       "              roi_range  number_of_periods_nonneg  number_of_periods_neg  \\\n",
       "trading_days                                                               \n",
       "1              0.320470                      9255                   7981   \n",
       "2              0.394879                      9420                   7815   \n",
       "3              0.402855                      9614                   7620   \n",
       "\n",
       "              percent_of_periods_nonneg  percent_of_periods_neg  \\\n",
       "trading_days                                                      \n",
       "1                              0.536958                0.463042   \n",
       "2                              0.546562                0.453438   \n",
       "3                              0.557851                0.442149   \n",
       "\n",
       "              marginal_nonneg_periods_per_day  cumulative_pos_periods_per_day  \n",
       "trading_days                                                                   \n",
       "1                                         NaN                        0.000000  \n",
       "2                                    0.009605                        0.009605  \n",
       "3                                    0.011289                        0.020893  "
      ]
     },
     "execution_count": 33,
     "metadata": {},
     "output_type": "execute_result"
    }
   ],
   "source": [
    "df_list_summary['marginal_nonneg_periods_per_day'] = (df_list_summary['percent_of_periods_nonneg'] - \n",
    "                                                   df_list_summary['percent_of_periods_nonneg'].shift(1))\n",
    "\n",
    "df_list_summary['cumulative_pos_periods_per_day'] = (df_list_summary['percent_of_periods_nonneg'] - \n",
    "                                                   df_list_summary['percent_of_periods_nonneg'].iloc[0])\n",
    "\n",
    "df_list_summary.head(3)"
   ]
  },
  {
   "cell_type": "code",
   "execution_count": 34,
   "metadata": {},
   "outputs": [
    {
     "data": {
      "text/html": [
       "<div>\n",
       "<style scoped>\n",
       "    .dataframe tbody tr th:only-of-type {\n",
       "        vertical-align: middle;\n",
       "    }\n",
       "\n",
       "    .dataframe tbody tr th {\n",
       "        vertical-align: top;\n",
       "    }\n",
       "\n",
       "    .dataframe thead th {\n",
       "        text-align: right;\n",
       "    }\n",
       "</style>\n",
       "<table border=\"1\" class=\"dataframe\">\n",
       "  <thead>\n",
       "    <tr style=\"text-align: right;\">\n",
       "      <th></th>\n",
       "      <th>number_of_periods</th>\n",
       "      <th>roi_mean</th>\n",
       "      <th>roi_median</th>\n",
       "      <th>roi_min</th>\n",
       "      <th>roi_max</th>\n",
       "      <th>roi_range</th>\n",
       "      <th>number_of_periods_nonneg</th>\n",
       "      <th>number_of_periods_neg</th>\n",
       "      <th>percent_of_periods_nonneg</th>\n",
       "      <th>percent_of_periods_neg</th>\n",
       "      <th>marginal_nonneg_periods_per_day</th>\n",
       "      <th>cumulative_pos_periods_per_day</th>\n",
       "    </tr>\n",
       "    <tr>\n",
       "      <th>trading_days</th>\n",
       "      <th></th>\n",
       "      <th></th>\n",
       "      <th></th>\n",
       "      <th></th>\n",
       "      <th></th>\n",
       "      <th></th>\n",
       "      <th></th>\n",
       "      <th></th>\n",
       "      <th></th>\n",
       "      <th></th>\n",
       "      <th></th>\n",
       "      <th></th>\n",
       "    </tr>\n",
       "  </thead>\n",
       "  <tbody>\n",
       "    <tr>\n",
       "      <th>7556</th>\n",
       "      <td>9681</td>\n",
       "      <td>8.047896</td>\n",
       "      <td>7.717431</td>\n",
       "      <td>3.042454</td>\n",
       "      <td>19.805455</td>\n",
       "      <td>16.763001</td>\n",
       "      <td>9681</td>\n",
       "      <td>0</td>\n",
       "      <td>1.0</td>\n",
       "      <td>0.0</td>\n",
       "      <td>0.0</td>\n",
       "      <td>0.463042</td>\n",
       "    </tr>\n",
       "    <tr>\n",
       "      <th>7557</th>\n",
       "      <td>9680</td>\n",
       "      <td>8.050274</td>\n",
       "      <td>7.721897</td>\n",
       "      <td>3.056901</td>\n",
       "      <td>19.601385</td>\n",
       "      <td>16.544483</td>\n",
       "      <td>9680</td>\n",
       "      <td>0</td>\n",
       "      <td>1.0</td>\n",
       "      <td>0.0</td>\n",
       "      <td>0.0</td>\n",
       "      <td>0.463042</td>\n",
       "    </tr>\n",
       "    <tr>\n",
       "      <th>7558</th>\n",
       "      <td>9679</td>\n",
       "      <td>8.052662</td>\n",
       "      <td>7.723589</td>\n",
       "      <td>3.062680</td>\n",
       "      <td>19.739295</td>\n",
       "      <td>16.676614</td>\n",
       "      <td>9679</td>\n",
       "      <td>0</td>\n",
       "      <td>1.0</td>\n",
       "      <td>0.0</td>\n",
       "      <td>0.0</td>\n",
       "      <td>0.463042</td>\n",
       "    </tr>\n",
       "    <tr>\n",
       "      <th>7559</th>\n",
       "      <td>9678</td>\n",
       "      <td>8.055076</td>\n",
       "      <td>7.716492</td>\n",
       "      <td>3.079911</td>\n",
       "      <td>19.635878</td>\n",
       "      <td>16.555967</td>\n",
       "      <td>9678</td>\n",
       "      <td>0</td>\n",
       "      <td>1.0</td>\n",
       "      <td>0.0</td>\n",
       "      <td>0.0</td>\n",
       "      <td>0.463042</td>\n",
       "    </tr>\n",
       "    <tr>\n",
       "      <th>7560</th>\n",
       "      <td>9677</td>\n",
       "      <td>8.057493</td>\n",
       "      <td>7.720622</td>\n",
       "      <td>3.095808</td>\n",
       "      <td>20.322556</td>\n",
       "      <td>17.226748</td>\n",
       "      <td>9677</td>\n",
       "      <td>0</td>\n",
       "      <td>1.0</td>\n",
       "      <td>0.0</td>\n",
       "      <td>0.0</td>\n",
       "      <td>0.463042</td>\n",
       "    </tr>\n",
       "  </tbody>\n",
       "</table>\n",
       "</div>"
      ],
      "text/plain": [
       "              number_of_periods  roi_mean  roi_median   roi_min    roi_max  \\\n",
       "trading_days                                                                 \n",
       "7556                       9681  8.047896    7.717431  3.042454  19.805455   \n",
       "7557                       9680  8.050274    7.721897  3.056901  19.601385   \n",
       "7558                       9679  8.052662    7.723589  3.062680  19.739295   \n",
       "7559                       9678  8.055076    7.716492  3.079911  19.635878   \n",
       "7560                       9677  8.057493    7.720622  3.095808  20.322556   \n",
       "\n",
       "              roi_range  number_of_periods_nonneg  number_of_periods_neg  \\\n",
       "trading_days                                                               \n",
       "7556          16.763001                      9681                      0   \n",
       "7557          16.544483                      9680                      0   \n",
       "7558          16.676614                      9679                      0   \n",
       "7559          16.555967                      9678                      0   \n",
       "7560          17.226748                      9677                      0   \n",
       "\n",
       "              percent_of_periods_nonneg  percent_of_periods_neg  \\\n",
       "trading_days                                                      \n",
       "7556                                1.0                     0.0   \n",
       "7557                                1.0                     0.0   \n",
       "7558                                1.0                     0.0   \n",
       "7559                                1.0                     0.0   \n",
       "7560                                1.0                     0.0   \n",
       "\n",
       "              marginal_nonneg_periods_per_day  cumulative_pos_periods_per_day  \n",
       "trading_days                                                                   \n",
       "7556                                      0.0                        0.463042  \n",
       "7557                                      0.0                        0.463042  \n",
       "7558                                      0.0                        0.463042  \n",
       "7559                                      0.0                        0.463042  \n",
       "7560                                      0.0                        0.463042  "
      ]
     },
     "execution_count": 34,
     "metadata": {},
     "output_type": "execute_result"
    }
   ],
   "source": [
    "df_list_summary.tail()"
   ]
  },
  {
   "cell_type": "code",
   "execution_count": 35,
   "metadata": {},
   "outputs": [
    {
     "data": {
      "text/plain": [
       "number_of_periods                  0\n",
       "roi_mean                           0\n",
       "roi_median                         0\n",
       "roi_min                            0\n",
       "roi_max                            0\n",
       "roi_range                          0\n",
       "number_of_periods_nonneg           0\n",
       "number_of_periods_neg              0\n",
       "percent_of_periods_nonneg          0\n",
       "percent_of_periods_neg             0\n",
       "marginal_nonneg_periods_per_day    1\n",
       "cumulative_pos_periods_per_day     0\n",
       "dtype: int64"
      ]
     },
     "execution_count": 35,
     "metadata": {},
     "output_type": "execute_result"
    }
   ],
   "source": [
    "# expect 1 NaN in \"Marginal_Pos_Periods_Per_Day\" due to shift calculation\n",
    "df_list_summary.isnull().sum()"
   ]
  },
  {
   "cell_type": "code",
   "execution_count": 36,
   "metadata": {},
   "outputs": [
    {
     "data": {
      "text/plain": [
       "number_of_periods                  0\n",
       "roi_mean                           0\n",
       "roi_median                         0\n",
       "roi_min                            0\n",
       "roi_max                            0\n",
       "roi_range                          0\n",
       "number_of_periods_nonneg           0\n",
       "number_of_periods_neg              0\n",
       "percent_of_periods_nonneg          0\n",
       "percent_of_periods_neg             0\n",
       "marginal_nonneg_periods_per_day    0\n",
       "cumulative_pos_periods_per_day     0\n",
       "dtype: int64"
      ]
     },
     "execution_count": 36,
     "metadata": {},
     "output_type": "execute_result"
    }
   ],
   "source": [
    "df_list_summary.fillna(value=0, inplace=True)\n",
    "df_list_summary.isnull().sum()"
   ]
  },
  {
   "cell_type": "code",
   "execution_count": 37,
   "metadata": {},
   "outputs": [
    {
     "data": {
      "text/html": [
       "<div>\n",
       "<style scoped>\n",
       "    .dataframe tbody tr th:only-of-type {\n",
       "        vertical-align: middle;\n",
       "    }\n",
       "\n",
       "    .dataframe tbody tr th {\n",
       "        vertical-align: top;\n",
       "    }\n",
       "\n",
       "    .dataframe thead th {\n",
       "        text-align: right;\n",
       "    }\n",
       "</style>\n",
       "<table border=\"1\" class=\"dataframe\">\n",
       "  <thead>\n",
       "    <tr style=\"text-align: right;\">\n",
       "      <th></th>\n",
       "      <th>number_of_periods</th>\n",
       "      <th>roi_mean</th>\n",
       "      <th>roi_median</th>\n",
       "      <th>roi_min</th>\n",
       "      <th>roi_max</th>\n",
       "      <th>roi_range</th>\n",
       "      <th>number_of_periods_nonneg</th>\n",
       "      <th>number_of_periods_neg</th>\n",
       "      <th>percent_of_periods_nonneg</th>\n",
       "      <th>percent_of_periods_neg</th>\n",
       "      <th>marginal_nonneg_periods_per_day</th>\n",
       "      <th>cumulative_pos_periods_per_day</th>\n",
       "    </tr>\n",
       "    <tr>\n",
       "      <th>trading_days</th>\n",
       "      <th></th>\n",
       "      <th></th>\n",
       "      <th></th>\n",
       "      <th></th>\n",
       "      <th></th>\n",
       "      <th></th>\n",
       "      <th></th>\n",
       "      <th></th>\n",
       "      <th></th>\n",
       "      <th></th>\n",
       "      <th></th>\n",
       "      <th></th>\n",
       "    </tr>\n",
       "  </thead>\n",
       "  <tbody>\n",
       "    <tr>\n",
       "      <th>1</th>\n",
       "      <td>17236</td>\n",
       "      <td>0.000342</td>\n",
       "      <td>0.000468</td>\n",
       "      <td>-0.204669</td>\n",
       "      <td>0.115800</td>\n",
       "      <td>0.320470</td>\n",
       "      <td>9255</td>\n",
       "      <td>7981</td>\n",
       "      <td>0.536958</td>\n",
       "      <td>0.463042</td>\n",
       "      <td>0.000000</td>\n",
       "      <td>0.000000</td>\n",
       "    </tr>\n",
       "    <tr>\n",
       "      <th>2</th>\n",
       "      <td>17235</td>\n",
       "      <td>0.000686</td>\n",
       "      <td>0.001031</td>\n",
       "      <td>-0.245706</td>\n",
       "      <td>0.149173</td>\n",
       "      <td>0.394879</td>\n",
       "      <td>9420</td>\n",
       "      <td>7815</td>\n",
       "      <td>0.546562</td>\n",
       "      <td>0.453438</td>\n",
       "      <td>0.009605</td>\n",
       "      <td>0.009605</td>\n",
       "    </tr>\n",
       "    <tr>\n",
       "      <th>3</th>\n",
       "      <td>17234</td>\n",
       "      <td>0.001026</td>\n",
       "      <td>0.001707</td>\n",
       "      <td>-0.263375</td>\n",
       "      <td>0.139480</td>\n",
       "      <td>0.402855</td>\n",
       "      <td>9614</td>\n",
       "      <td>7620</td>\n",
       "      <td>0.557851</td>\n",
       "      <td>0.442149</td>\n",
       "      <td>0.011289</td>\n",
       "      <td>0.020893</td>\n",
       "    </tr>\n",
       "    <tr>\n",
       "      <th>4</th>\n",
       "      <td>17233</td>\n",
       "      <td>0.001366</td>\n",
       "      <td>0.002385</td>\n",
       "      <td>-0.285133</td>\n",
       "      <td>0.179735</td>\n",
       "      <td>0.464868</td>\n",
       "      <td>9685</td>\n",
       "      <td>7548</td>\n",
       "      <td>0.562003</td>\n",
       "      <td>0.437997</td>\n",
       "      <td>0.004152</td>\n",
       "      <td>0.025046</td>\n",
       "    </tr>\n",
       "    <tr>\n",
       "      <th>5</th>\n",
       "      <td>17232</td>\n",
       "      <td>0.001704</td>\n",
       "      <td>0.002800</td>\n",
       "      <td>-0.273280</td>\n",
       "      <td>0.191112</td>\n",
       "      <td>0.464391</td>\n",
       "      <td>9759</td>\n",
       "      <td>7473</td>\n",
       "      <td>0.566330</td>\n",
       "      <td>0.433670</td>\n",
       "      <td>0.004327</td>\n",
       "      <td>0.029373</td>\n",
       "    </tr>\n",
       "  </tbody>\n",
       "</table>\n",
       "</div>"
      ],
      "text/plain": [
       "              number_of_periods  roi_mean  roi_median   roi_min   roi_max  \\\n",
       "trading_days                                                                \n",
       "1                         17236  0.000342    0.000468 -0.204669  0.115800   \n",
       "2                         17235  0.000686    0.001031 -0.245706  0.149173   \n",
       "3                         17234  0.001026    0.001707 -0.263375  0.139480   \n",
       "4                         17233  0.001366    0.002385 -0.285133  0.179735   \n",
       "5                         17232  0.001704    0.002800 -0.273280  0.191112   \n",
       "\n",
       "              roi_range  number_of_periods_nonneg  number_of_periods_neg  \\\n",
       "trading_days                                                               \n",
       "1              0.320470                      9255                   7981   \n",
       "2              0.394879                      9420                   7815   \n",
       "3              0.402855                      9614                   7620   \n",
       "4              0.464868                      9685                   7548   \n",
       "5              0.464391                      9759                   7473   \n",
       "\n",
       "              percent_of_periods_nonneg  percent_of_periods_neg  \\\n",
       "trading_days                                                      \n",
       "1                              0.536958                0.463042   \n",
       "2                              0.546562                0.453438   \n",
       "3                              0.557851                0.442149   \n",
       "4                              0.562003                0.437997   \n",
       "5                              0.566330                0.433670   \n",
       "\n",
       "              marginal_nonneg_periods_per_day  cumulative_pos_periods_per_day  \n",
       "trading_days                                                                   \n",
       "1                                    0.000000                        0.000000  \n",
       "2                                    0.009605                        0.009605  \n",
       "3                                    0.011289                        0.020893  \n",
       "4                                    0.004152                        0.025046  \n",
       "5                                    0.004327                        0.029373  "
      ]
     },
     "execution_count": 37,
     "metadata": {},
     "output_type": "execute_result"
    }
   ],
   "source": [
    "df_list_summary.head()"
   ]
  },
  {
   "cell_type": "code",
   "execution_count": 38,
   "metadata": {},
   "outputs": [
    {
     "data": {
      "text/plain": [
       "7560"
      ]
     },
     "execution_count": 38,
     "metadata": {},
     "output_type": "execute_result"
    }
   ],
   "source": [
    "max(df_list_summary.index)"
   ]
  },
  {
   "cell_type": "code",
   "execution_count": 39,
   "metadata": {},
   "outputs": [
    {
     "data": {
      "text/plain": [
       "(7560, 12)"
      ]
     },
     "execution_count": 39,
     "metadata": {},
     "output_type": "execute_result"
    }
   ],
   "source": [
    "df_list_summary.shape"
   ]
  },
  {
   "cell_type": "markdown",
   "metadata": {},
   "source": [
    "## Store to_csv: df_list_summary"
   ]
  },
  {
   "cell_type": "code",
   "execution_count": 41,
   "metadata": {},
   "outputs": [
    {
     "name": "stdout",
     "output_type": "stream",
     "text": [
      "sp500_timeperiodpricereturn_output_summary_1-7560.csv\n"
     ]
    }
   ],
   "source": [
    "# store pandas dateframe to csv\n",
    "prefix = 'sp500_timeperiodpricereturn_output_summary_'\n",
    "trading_days_range = str(start_range) + '-' + str(end_range)\n",
    "filetype = '.csv'\n",
    "filename = prefix + trading_days_range + filetype\n",
    "\n",
    "print(filename)\n",
    "df_list_summary.to_csv(filename, chunksize=100000)"
   ]
  },
  {
   "cell_type": "code",
   "execution_count": null,
   "metadata": {},
   "outputs": [],
   "source": []
  }
 ],
 "metadata": {
  "kernelspec": {
   "display_name": "Python 3",
   "language": "python",
   "name": "python3"
  },
  "language_info": {
   "codemirror_mode": {
    "name": "ipython",
    "version": 3
   },
   "file_extension": ".py",
   "mimetype": "text/x-python",
   "name": "python",
   "nbconvert_exporter": "python",
   "pygments_lexer": "ipython3",
   "version": "3.6.4"
  },
  "toc": {
   "nav_menu": {},
   "number_sections": true,
   "sideBar": true,
   "skip_h1_title": false,
   "title_cell": "Table of Contents",
   "title_sidebar": "Contents",
   "toc_cell": false,
   "toc_position": {},
   "toc_section_display": true,
   "toc_window_display": true
  }
 },
 "nbformat": 4,
 "nbformat_minor": 2
}
