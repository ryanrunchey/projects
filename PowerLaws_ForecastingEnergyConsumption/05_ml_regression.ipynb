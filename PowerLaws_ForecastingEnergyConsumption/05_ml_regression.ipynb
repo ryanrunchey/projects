{
 "cells": [
  {
   "cell_type": "code",
   "execution_count": 1,
   "metadata": {},
   "outputs": [
    {
     "name": "stderr",
     "output_type": "stream",
     "text": [
      "/Users/ryanrunchey/anaconda3/envs/py36/lib/python3.6/site-packages/h5py/__init__.py:34: FutureWarning: Conversion of the second argument of issubdtype from `float` to `np.floating` is deprecated. In future, it will be treated as `np.float64 == np.dtype(float).type`.\n",
      "  from ._conv import register_converters as _register_converters\n",
      "Using TensorFlow backend.\n"
     ]
    }
   ],
   "source": [
    "import pandas as pd\n",
    "import numpy as np\n",
    "\n",
    "import matplotlib.pyplot as plt\n",
    "%matplotlib inline\n",
    "\n",
    "from keras.models import Sequential\n",
    "from keras.layers import Dense\n",
    "import keras.backend as K\n",
    "from keras.callbacks import EarlyStopping\n",
    "\n",
    "from keras.layers import LSTM"
   ]
  },
  {
   "cell_type": "code",
   "execution_count": 2,
   "metadata": {},
   "outputs": [],
   "source": [
    "# import machine learning dataframe\n",
    "\n",
    "directory = '../../data_PowerLaws_ForecastingEnergyConsumption/'\n",
    "\n",
    "df = pd.read_csv(directory + 'df_n_9.csv')"
   ]
  },
  {
   "cell_type": "markdown",
   "metadata": {},
   "source": [
    "# Regression"
   ]
  },
  {
   "cell_type": "code",
   "execution_count": 3,
   "metadata": {},
   "outputs": [
    {
     "data": {
      "text/html": [
       "<div>\n",
       "<style>\n",
       "    .dataframe thead tr:only-child th {\n",
       "        text-align: right;\n",
       "    }\n",
       "\n",
       "    .dataframe thead th {\n",
       "        text-align: left;\n",
       "    }\n",
       "\n",
       "    .dataframe tbody tr th {\n",
       "        vertical-align: top;\n",
       "    }\n",
       "</style>\n",
       "<table border=\"1\" class=\"dataframe\">\n",
       "  <thead>\n",
       "    <tr style=\"text-align: right;\">\n",
       "      <th></th>\n",
       "      <th>Unnamed: 0</th>\n",
       "      <th>obs_id</th>\n",
       "      <th>SiteId</th>\n",
       "      <th>Timestamp</th>\n",
       "      <th>ForecastId</th>\n",
       "      <th>Value</th>\n",
       "      <th>ForecastPeriodMin</th>\n",
       "      <th>Surface</th>\n",
       "      <th>BaseTemperature</th>\n",
       "      <th>isDayOff</th>\n",
       "      <th>...</th>\n",
       "      <th>Hour_Min_7_30</th>\n",
       "      <th>Hour_Min_7_45</th>\n",
       "      <th>Hour_Min_8_0</th>\n",
       "      <th>Hour_Min_8_15</th>\n",
       "      <th>Hour_Min_8_30</th>\n",
       "      <th>Hour_Min_8_45</th>\n",
       "      <th>Hour_Min_9_0</th>\n",
       "      <th>Hour_Min_9_15</th>\n",
       "      <th>Hour_Min_9_30</th>\n",
       "      <th>Hour_Min_9_45</th>\n",
       "    </tr>\n",
       "  </thead>\n",
       "  <tbody>\n",
       "    <tr>\n",
       "      <th>0</th>\n",
       "      <td>0</td>\n",
       "      <td>744519</td>\n",
       "      <td>1</td>\n",
       "      <td>2014-09-03</td>\n",
       "      <td>1</td>\n",
       "      <td>909655.510515</td>\n",
       "      <td>1440</td>\n",
       "      <td>1387.205119</td>\n",
       "      <td>18.0</td>\n",
       "      <td>0</td>\n",
       "      <td>...</td>\n",
       "      <td>0</td>\n",
       "      <td>0</td>\n",
       "      <td>0</td>\n",
       "      <td>0</td>\n",
       "      <td>0</td>\n",
       "      <td>0</td>\n",
       "      <td>0</td>\n",
       "      <td>0</td>\n",
       "      <td>0</td>\n",
       "      <td>0</td>\n",
       "    </tr>\n",
       "  </tbody>\n",
       "</table>\n",
       "<p>1 rows × 401 columns</p>\n",
       "</div>"
      ],
      "text/plain": [
       "   Unnamed: 0  obs_id  SiteId   Timestamp  ForecastId          Value  \\\n",
       "0           0  744519       1  2014-09-03           1  909655.510515   \n",
       "\n",
       "   ForecastPeriodMin      Surface  BaseTemperature  isDayOff      ...        \\\n",
       "0               1440  1387.205119             18.0         0      ...         \n",
       "\n",
       "   Hour_Min_7_30  Hour_Min_7_45  Hour_Min_8_0  Hour_Min_8_15  Hour_Min_8_30  \\\n",
       "0              0              0             0              0              0   \n",
       "\n",
       "   Hour_Min_8_45  Hour_Min_9_0  Hour_Min_9_15  Hour_Min_9_30  Hour_Min_9_45  \n",
       "0              0             0              0              0              0  \n",
       "\n",
       "[1 rows x 401 columns]"
      ]
     },
     "execution_count": 3,
     "metadata": {},
     "output_type": "execute_result"
    }
   ],
   "source": [
    "df.head(1)"
   ]
  },
  {
   "cell_type": "code",
   "execution_count": 4,
   "metadata": {},
   "outputs": [],
   "source": [
    "# drop unusable columns / features\n",
    "# easier to set X by using index slicing instead column names\n",
    "target = 'Value_Int'\n",
    "df = df.drop(['Unnamed: 0','Value_Lag_1','Value_Lag_2','Value_Lag_3','Value_Lag_4','Temperature',\\\n",
    "                  'Temp_Minus_BaseTemp','Temp_Div_BaseTemp','Hour','Minute_rd15','Hour_Min'], axis=1)"
   ]
  },
  {
   "cell_type": "code",
   "execution_count": null,
   "metadata": {},
   "outputs": [],
   "source": [
    "df['Value'] = df['Value_Int']\n",
    "df = df.drop('Value_Int', axis=1)\n",
    "df = df.rename(columns={\"Value\": \"Value_Int\"})\n",
    "df.head(2)"
   ]
  },
  {
   "cell_type": "code",
   "execution_count": null,
   "metadata": {},
   "outputs": [],
   "source": []
  },
  {
   "cell_type": "code",
   "execution_count": null,
   "metadata": {},
   "outputs": [],
   "source": []
  }
 ],
 "metadata": {
  "kernelspec": {
   "display_name": "Python 3",
   "language": "python",
   "name": "python3"
  },
  "language_info": {
   "codemirror_mode": {
    "name": "ipython",
    "version": 3
   },
   "file_extension": ".py",
   "mimetype": "text/x-python",
   "name": "python",
   "nbconvert_exporter": "python",
   "pygments_lexer": "ipython3",
   "version": "3.6.2"
  },
  "toc": {
   "nav_menu": {},
   "number_sections": true,
   "sideBar": true,
   "skip_h1_title": false,
   "title_cell": "Table of Contents",
   "title_sidebar": "Contents",
   "toc_cell": false,
   "toc_position": {
    "height": "calc(100% - 180px)",
    "left": "10px",
    "top": "150px",
    "width": "193px"
   },
   "toc_section_display": true,
   "toc_window_display": true
  }
 },
 "nbformat": 4,
 "nbformat_minor": 2
}
