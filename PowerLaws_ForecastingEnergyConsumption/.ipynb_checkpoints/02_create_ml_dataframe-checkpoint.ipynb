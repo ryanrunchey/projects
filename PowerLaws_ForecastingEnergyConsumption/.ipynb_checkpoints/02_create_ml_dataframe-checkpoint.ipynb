{
 "cells": [
  {
   "cell_type": "markdown",
   "metadata": {},
   "source": [
    "# Import Libraries & Data"
   ]
  },
  {
   "cell_type": "code",
   "execution_count": 1,
   "metadata": {},
   "outputs": [],
   "source": [
    "import pandas as pd\n",
    "import numpy as np\n",
    "\n",
    "import collections\n",
    "\n",
    "import matplotlib.pyplot as plt\n",
    "%matplotlib inline"
   ]
  },
  {
   "cell_type": "code",
   "execution_count": 2,
   "metadata": {},
   "outputs": [],
   "source": [
    "directory = '../../data_PowerLaws_ForecastingEnergyConsumption/'\n",
    "\n",
    "df_holidays = pd.read_csv(directory + 'holidays.csv', parse_dates=['Date'])\n",
    "df_metadata = pd.read_csv(directory + 'metadata.csv')\n",
    "df_submission_format = pd.read_csv(directory + 'submission_format.csv', parse_dates=['Timestamp'])\n",
    "df_submission_frequency = pd.read_csv(directory + 'submission_frequency.csv')\n",
    "df_train = pd.read_csv(directory + 'train.csv', parse_dates=['Timestamp'])\n",
    "df_weather = pd.read_csv(directory + 'weather.csv', parse_dates=['Timestamp'])"
   ]
  },
  {
   "cell_type": "code",
   "execution_count": 3,
   "metadata": {},
   "outputs": [],
   "source": [
    "# df_holidays drop unnecessary column\n",
    "df_holidays = df_holidays.drop('Unnamed: 0', axis=1)"
   ]
  },
  {
   "cell_type": "code",
   "execution_count": 4,
   "metadata": {},
   "outputs": [],
   "source": [
    "# df_metadata cast dtypes as int\n",
    "df_metadata['MondayIsDayOff'] = df_metadata['MondayIsDayOff'].astype(int)\n",
    "df_metadata['TuesdayIsDayOff'] = df_metadata['TuesdayIsDayOff'].astype(int)\n",
    "df_metadata['WednesdayIsDayOff'] = df_metadata['WednesdayIsDayOff'].astype(int)\n",
    "df_metadata['ThursdayIsDayOff'] = df_metadata['ThursdayIsDayOff'].astype(int)\n",
    "df_metadata['FridayIsDayOff'] = df_metadata['FridayIsDayOff'].astype(int)\n",
    "df_metadata['SaturdayIsDayOff'] = df_metadata['SaturdayIsDayOff'].astype(int)\n",
    "df_metadata['SundayIsDayOff'] = df_metadata['SundayIsDayOff'].astype(int)"
   ]
  },
  {
   "cell_type": "code",
   "execution_count": 5,
   "metadata": {},
   "outputs": [],
   "source": [
    "# there are three unique forecast time periods: 1440, 60, and 15 minutes\n",
    "df_submission_frequency['ForecastPeriodMin'] = (df_submission_frequency['ForecastPeriodNS']\n",
    "                                                .apply(lambda x: int(x / 60000000000)))"
   ]
  },
  {
   "cell_type": "code",
   "execution_count": 6,
   "metadata": {},
   "outputs": [],
   "source": [
    "# df_weather drop unnecessary column\n",
    "df_weather = df_weather.drop('Unnamed: 0', axis=1)"
   ]
  },
  {
   "cell_type": "markdown",
   "metadata": {},
   "source": [
    "# Build ML DataFrame"
   ]
  },
  {
   "cell_type": "markdown",
   "metadata": {},
   "source": [
    "**Steps to Creating ML DataFrame**\n",
    "\n",
    "- Training data\n",
    "    - Account for NaN (Interpolation)\n",
    "- Merge\n",
    "    - Meta data\n",
    "    - Holidays\n",
    "    - Weather\n",
    "- Feature Engineering\n",
    "    - Categorical Feature(s) Get Dummies for Holidays\n",
    "    - Lagged features: t-1..."
   ]
  },
  {
   "cell_type": "markdown",
   "metadata": {},
   "source": [
    "## [D] Create DataFrame\n",
    "\n",
    "* FROM df_train"
   ]
  },
  {
   "cell_type": "code",
   "execution_count": 7,
   "metadata": {},
   "outputs": [],
   "source": [
    "df_n_1 = df_train"
   ]
  },
  {
   "cell_type": "code",
   "execution_count": 8,
   "metadata": {},
   "outputs": [
    {
     "name": "stdout",
     "output_type": "stream",
     "text": [
      "df_n_1: \t (6559830, 5)\n"
     ]
    }
   ],
   "source": [
    "# shape of df_n_1\n",
    "shapes = collections.OrderedDict()\n",
    "shapes['df_n_1'] = df_n_1.shape\n",
    "for k,v in shapes.items(): \n",
    "    print(\"{}: \\t {}\".format(k,v))"
   ]
  },
  {
   "cell_type": "code",
   "execution_count": 9,
   "metadata": {},
   "outputs": [
    {
     "data": {
      "text/html": [
       "<div>\n",
       "<style>\n",
       "    .dataframe thead tr:only-child th {\n",
       "        text-align: right;\n",
       "    }\n",
       "\n",
       "    .dataframe thead th {\n",
       "        text-align: left;\n",
       "    }\n",
       "\n",
       "    .dataframe tbody tr th {\n",
       "        vertical-align: top;\n",
       "    }\n",
       "</style>\n",
       "<table border=\"1\" class=\"dataframe\">\n",
       "  <thead>\n",
       "    <tr style=\"text-align: right;\">\n",
       "      <th></th>\n",
       "      <th>obs_id</th>\n",
       "      <th>SiteId</th>\n",
       "      <th>Timestamp</th>\n",
       "      <th>ForecastId</th>\n",
       "      <th>Value</th>\n",
       "    </tr>\n",
       "  </thead>\n",
       "  <tbody>\n",
       "    <tr>\n",
       "      <th>0</th>\n",
       "      <td>744519</td>\n",
       "      <td>1</td>\n",
       "      <td>2014-09-03</td>\n",
       "      <td>1</td>\n",
       "      <td>9.096555e+05</td>\n",
       "    </tr>\n",
       "    <tr>\n",
       "      <th>1</th>\n",
       "      <td>7627564</td>\n",
       "      <td>1</td>\n",
       "      <td>2014-09-04</td>\n",
       "      <td>1</td>\n",
       "      <td>1.748273e+06</td>\n",
       "    </tr>\n",
       "    <tr>\n",
       "      <th>2</th>\n",
       "      <td>7034705</td>\n",
       "      <td>1</td>\n",
       "      <td>2014-09-05</td>\n",
       "      <td>1</td>\n",
       "      <td>NaN</td>\n",
       "    </tr>\n",
       "    <tr>\n",
       "      <th>3</th>\n",
       "      <td>5995486</td>\n",
       "      <td>1</td>\n",
       "      <td>2014-09-06</td>\n",
       "      <td>1</td>\n",
       "      <td>NaN</td>\n",
       "    </tr>\n",
       "    <tr>\n",
       "      <th>4</th>\n",
       "      <td>7326510</td>\n",
       "      <td>1</td>\n",
       "      <td>2014-09-07</td>\n",
       "      <td>1</td>\n",
       "      <td>NaN</td>\n",
       "    </tr>\n",
       "  </tbody>\n",
       "</table>\n",
       "</div>"
      ],
      "text/plain": [
       "    obs_id  SiteId  Timestamp  ForecastId         Value\n",
       "0   744519       1 2014-09-03           1  9.096555e+05\n",
       "1  7627564       1 2014-09-04           1  1.748273e+06\n",
       "2  7034705       1 2014-09-05           1           NaN\n",
       "3  5995486       1 2014-09-06           1           NaN\n",
       "4  7326510       1 2014-09-07           1           NaN"
      ]
     },
     "execution_count": 9,
     "metadata": {},
     "output_type": "execute_result"
    }
   ],
   "source": [
    "# sort values, inspect... see NaN requires interpolation\n",
    "df_n_1 = df_n_1.sort_values(['SiteId', 'ForecastId', 'Timestamp'], axis=0, ascending=[True,True,True])\n",
    "df_n_1.head()"
   ]
  },
  {
   "cell_type": "code",
   "execution_count": 10,
   "metadata": {},
   "outputs": [
    {
     "data": {
      "text/plain": [
       "6974"
      ]
     },
     "execution_count": 10,
     "metadata": {},
     "output_type": "execute_result"
    }
   ],
   "source": [
    "# 6,974 unique ForecastId's\n",
    "df_n_1['ForecastId'].unique().size"
   ]
  },
  {
   "cell_type": "code",
   "execution_count": 11,
   "metadata": {},
   "outputs": [
    {
     "data": {
      "text/plain": [
       "False    6473229\n",
       "True       86601\n",
       "Name: Value, dtype: int64"
      ]
     },
     "execution_count": 11,
     "metadata": {},
     "output_type": "execute_result"
    }
   ],
   "source": [
    "# 86,601 number of NaN values in training data set before interpolation\n",
    "df_n_1['Value'].isnull().value_counts()"
   ]
  },
  {
   "cell_type": "code",
   "execution_count": 12,
   "metadata": {},
   "outputs": [
    {
     "data": {
      "text/plain": [
       "226"
      ]
     },
     "execution_count": 12,
     "metadata": {},
     "output_type": "execute_result"
    }
   ],
   "source": [
    "# 226 Number of SiteId with one or more single NaN values before interpolation\n",
    "df_n_1[df_n_1['Value'].isnull()].groupby(['SiteId']).sum()['Value'].isnull().sum()"
   ]
  },
  {
   "cell_type": "code",
   "execution_count": 13,
   "metadata": {},
   "outputs": [
    {
     "data": {
      "text/plain": [
       "2227"
      ]
     },
     "execution_count": 13,
     "metadata": {},
     "output_type": "execute_result"
    }
   ],
   "source": [
    "# 2,227 Number of ForecastId with one or more single NaN values before interpolation\n",
    "df_n_1[df_n_1['Value'].isnull()].groupby(['ForecastId']).sum()['Value'].isnull().sum()"
   ]
  },
  {
   "cell_type": "code",
   "execution_count": 14,
   "metadata": {},
   "outputs": [
    {
     "data": {
      "text/plain": [
       "array([360,  90, 964])"
      ]
     },
     "execution_count": 14,
     "metadata": {},
     "output_type": "execute_result"
    }
   ],
   "source": [
    "# 90; 360; 964: unique number of data points per ForecastId in training data\n",
    "df_n_1.groupby(['ForecastId'], as_index=False).agg({'Timestamp':'count'})['Timestamp'].unique()"
   ]
  },
  {
   "cell_type": "markdown",
   "metadata": {},
   "source": [
    "## [D] Add ForecastPeriodMin\n",
    "\n",
    "* FROM df_submission_frequency"
   ]
  },
  {
   "cell_type": "code",
   "execution_count": 15,
   "metadata": {},
   "outputs": [],
   "source": [
    "df_n_2 = df_n_1.copy(deep=True)"
   ]
  },
  {
   "cell_type": "code",
   "execution_count": 16,
   "metadata": {},
   "outputs": [
    {
     "data": {
      "text/html": [
       "<div>\n",
       "<style>\n",
       "    .dataframe thead tr:only-child th {\n",
       "        text-align: right;\n",
       "    }\n",
       "\n",
       "    .dataframe thead th {\n",
       "        text-align: left;\n",
       "    }\n",
       "\n",
       "    .dataframe tbody tr th {\n",
       "        vertical-align: top;\n",
       "    }\n",
       "</style>\n",
       "<table border=\"1\" class=\"dataframe\">\n",
       "  <thead>\n",
       "    <tr style=\"text-align: right;\">\n",
       "      <th></th>\n",
       "      <th>obs_id</th>\n",
       "      <th>SiteId</th>\n",
       "      <th>Timestamp</th>\n",
       "      <th>ForecastId</th>\n",
       "      <th>Value</th>\n",
       "      <th>ForecastPeriodMin</th>\n",
       "    </tr>\n",
       "  </thead>\n",
       "  <tbody>\n",
       "    <tr>\n",
       "      <th>0</th>\n",
       "      <td>744519</td>\n",
       "      <td>1</td>\n",
       "      <td>2014-09-03</td>\n",
       "      <td>1</td>\n",
       "      <td>9.096555e+05</td>\n",
       "      <td>1440</td>\n",
       "    </tr>\n",
       "    <tr>\n",
       "      <th>1</th>\n",
       "      <td>7627564</td>\n",
       "      <td>1</td>\n",
       "      <td>2014-09-04</td>\n",
       "      <td>1</td>\n",
       "      <td>1.748273e+06</td>\n",
       "      <td>1440</td>\n",
       "    </tr>\n",
       "    <tr>\n",
       "      <th>2</th>\n",
       "      <td>7034705</td>\n",
       "      <td>1</td>\n",
       "      <td>2014-09-05</td>\n",
       "      <td>1</td>\n",
       "      <td>NaN</td>\n",
       "      <td>1440</td>\n",
       "    </tr>\n",
       "    <tr>\n",
       "      <th>3</th>\n",
       "      <td>5995486</td>\n",
       "      <td>1</td>\n",
       "      <td>2014-09-06</td>\n",
       "      <td>1</td>\n",
       "      <td>NaN</td>\n",
       "      <td>1440</td>\n",
       "    </tr>\n",
       "    <tr>\n",
       "      <th>4</th>\n",
       "      <td>7326510</td>\n",
       "      <td>1</td>\n",
       "      <td>2014-09-07</td>\n",
       "      <td>1</td>\n",
       "      <td>NaN</td>\n",
       "      <td>1440</td>\n",
       "    </tr>\n",
       "  </tbody>\n",
       "</table>\n",
       "</div>"
      ],
      "text/plain": [
       "    obs_id  SiteId  Timestamp  ForecastId         Value  ForecastPeriodMin\n",
       "0   744519       1 2014-09-03           1  9.096555e+05               1440\n",
       "1  7627564       1 2014-09-04           1  1.748273e+06               1440\n",
       "2  7034705       1 2014-09-05           1           NaN               1440\n",
       "3  5995486       1 2014-09-06           1           NaN               1440\n",
       "4  7326510       1 2014-09-07           1           NaN               1440"
      ]
     },
     "execution_count": 16,
     "metadata": {},
     "output_type": "execute_result"
    }
   ],
   "source": [
    "df_n_2 = df_n_2.merge(df_submission_frequency, on='ForecastId', how='inner')\n",
    "df_n_2 = df_n_2.drop(['ForecastPeriodNS'], axis=1)\n",
    "df_n_2.head()"
   ]
  },
  {
   "cell_type": "code",
   "execution_count": 17,
   "metadata": {},
   "outputs": [
    {
     "name": "stdout",
     "output_type": "stream",
     "text": [
      "df_n_1: \t (6559830, 5)\n",
      "df_n_2: \t (6559830, 6)\n"
     ]
    }
   ],
   "source": [
    "# shape of df_n_2\n",
    "shapes['df_n_2'] = df_n_2.shape\n",
    "for k,v in shapes.items(): \n",
    "    print(\"{}: \\t {}\".format(k,v))"
   ]
  },
  {
   "cell_type": "code",
   "execution_count": 18,
   "metadata": {},
   "outputs": [
    {
     "data": {
      "text/plain": [
       "15      5248016\n",
       "60      1258984\n",
       "1440      52830\n",
       "Name: ForecastPeriodMin, dtype: int64"
      ]
     },
     "execution_count": 18,
     "metadata": {},
     "output_type": "execute_result"
    }
   ],
   "source": [
    "# ForecastPeriodMin value_counts by submission frequency\n",
    "df_n_2['ForecastPeriodMin'].value_counts()"
   ]
  },
  {
   "cell_type": "markdown",
   "metadata": {},
   "source": [
    "## [D] Add df_metadata"
   ]
  },
  {
   "cell_type": "code",
   "execution_count": 19,
   "metadata": {},
   "outputs": [],
   "source": [
    "df_n_3 = df_n_2.copy(deep=True)"
   ]
  },
  {
   "cell_type": "code",
   "execution_count": 20,
   "metadata": {},
   "outputs": [
    {
     "data": {
      "text/html": [
       "<div>\n",
       "<style>\n",
       "    .dataframe thead tr:only-child th {\n",
       "        text-align: right;\n",
       "    }\n",
       "\n",
       "    .dataframe thead th {\n",
       "        text-align: left;\n",
       "    }\n",
       "\n",
       "    .dataframe tbody tr th {\n",
       "        vertical-align: top;\n",
       "    }\n",
       "</style>\n",
       "<table border=\"1\" class=\"dataframe\">\n",
       "  <thead>\n",
       "    <tr style=\"text-align: right;\">\n",
       "      <th></th>\n",
       "      <th>SiteId</th>\n",
       "      <th>Surface</th>\n",
       "      <th>Sampling</th>\n",
       "      <th>BaseTemperature</th>\n",
       "      <th>MondayIsDayOff</th>\n",
       "      <th>TuesdayIsDayOff</th>\n",
       "      <th>WednesdayIsDayOff</th>\n",
       "      <th>ThursdayIsDayOff</th>\n",
       "      <th>FridayIsDayOff</th>\n",
       "      <th>SaturdayIsDayOff</th>\n",
       "      <th>SundayIsDayOff</th>\n",
       "    </tr>\n",
       "  </thead>\n",
       "  <tbody>\n",
       "    <tr>\n",
       "      <th>0</th>\n",
       "      <td>1</td>\n",
       "      <td>1387.205119</td>\n",
       "      <td>15.0</td>\n",
       "      <td>18.0</td>\n",
       "      <td>0</td>\n",
       "      <td>0</td>\n",
       "      <td>0</td>\n",
       "      <td>0</td>\n",
       "      <td>0</td>\n",
       "      <td>1</td>\n",
       "      <td>1</td>\n",
       "    </tr>\n",
       "    <tr>\n",
       "      <th>1</th>\n",
       "      <td>2</td>\n",
       "      <td>6098.278376</td>\n",
       "      <td>30.0</td>\n",
       "      <td>18.0</td>\n",
       "      <td>0</td>\n",
       "      <td>0</td>\n",
       "      <td>0</td>\n",
       "      <td>0</td>\n",
       "      <td>0</td>\n",
       "      <td>1</td>\n",
       "      <td>1</td>\n",
       "    </tr>\n",
       "  </tbody>\n",
       "</table>\n",
       "</div>"
      ],
      "text/plain": [
       "   SiteId      Surface  Sampling  BaseTemperature  MondayIsDayOff  \\\n",
       "0       1  1387.205119      15.0             18.0               0   \n",
       "1       2  6098.278376      30.0             18.0               0   \n",
       "\n",
       "   TuesdayIsDayOff  WednesdayIsDayOff  ThursdayIsDayOff  FridayIsDayOff  \\\n",
       "0                0                  0                 0               0   \n",
       "1                0                  0                 0               0   \n",
       "\n",
       "   SaturdayIsDayOff  SundayIsDayOff  \n",
       "0                 1               1  \n",
       "1                 1               1  "
      ]
     },
     "execution_count": 20,
     "metadata": {},
     "output_type": "execute_result"
    }
   ],
   "source": [
    "df_metadata.head(2)"
   ]
  },
  {
   "cell_type": "code",
   "execution_count": 21,
   "metadata": {},
   "outputs": [
    {
     "data": {
      "text/plain": [
       "(267, 11)"
      ]
     },
     "execution_count": 21,
     "metadata": {},
     "output_type": "execute_result"
    }
   ],
   "source": [
    "df_metadata.shape"
   ]
  },
  {
   "cell_type": "markdown",
   "metadata": {},
   "source": [
    "### Add Surface and BaseTemperature"
   ]
  },
  {
   "cell_type": "code",
   "execution_count": 22,
   "metadata": {},
   "outputs": [
    {
     "data": {
      "text/html": [
       "<div>\n",
       "<style>\n",
       "    .dataframe thead tr:only-child th {\n",
       "        text-align: right;\n",
       "    }\n",
       "\n",
       "    .dataframe thead th {\n",
       "        text-align: left;\n",
       "    }\n",
       "\n",
       "    .dataframe tbody tr th {\n",
       "        vertical-align: top;\n",
       "    }\n",
       "</style>\n",
       "<table border=\"1\" class=\"dataframe\">\n",
       "  <thead>\n",
       "    <tr style=\"text-align: right;\">\n",
       "      <th></th>\n",
       "      <th>obs_id</th>\n",
       "      <th>SiteId</th>\n",
       "      <th>Timestamp</th>\n",
       "      <th>ForecastId</th>\n",
       "      <th>Value</th>\n",
       "      <th>ForecastPeriodMin</th>\n",
       "      <th>Surface</th>\n",
       "      <th>BaseTemperature</th>\n",
       "    </tr>\n",
       "  </thead>\n",
       "  <tbody>\n",
       "    <tr>\n",
       "      <th>0</th>\n",
       "      <td>744519</td>\n",
       "      <td>1</td>\n",
       "      <td>2014-09-03</td>\n",
       "      <td>1</td>\n",
       "      <td>9.096555e+05</td>\n",
       "      <td>1440</td>\n",
       "      <td>1387.205119</td>\n",
       "      <td>18.0</td>\n",
       "    </tr>\n",
       "    <tr>\n",
       "      <th>1</th>\n",
       "      <td>7627564</td>\n",
       "      <td>1</td>\n",
       "      <td>2014-09-04</td>\n",
       "      <td>1</td>\n",
       "      <td>1.748273e+06</td>\n",
       "      <td>1440</td>\n",
       "      <td>1387.205119</td>\n",
       "      <td>18.0</td>\n",
       "    </tr>\n",
       "  </tbody>\n",
       "</table>\n",
       "</div>"
      ],
      "text/plain": [
       "    obs_id  SiteId  Timestamp  ForecastId         Value  ForecastPeriodMin  \\\n",
       "0   744519       1 2014-09-03           1  9.096555e+05               1440   \n",
       "1  7627564       1 2014-09-04           1  1.748273e+06               1440   \n",
       "\n",
       "       Surface  BaseTemperature  \n",
       "0  1387.205119             18.0  \n",
       "1  1387.205119             18.0  "
      ]
     },
     "execution_count": 22,
     "metadata": {},
     "output_type": "execute_result"
    }
   ],
   "source": [
    "# merge Surface and BaseTemperature to ml dataframe\n",
    "df_n_3 = df_n_3.merge(df_metadata[['SiteId', 'Surface', 'BaseTemperature']], on='SiteId', how='left')\n",
    "df_n_3.head(2)"
   ]
  },
  {
   "cell_type": "markdown",
   "metadata": {},
   "source": [
    "### Add isDayOff"
   ]
  },
  {
   "cell_type": "code",
   "execution_count": 23,
   "metadata": {},
   "outputs": [
    {
     "data": {
      "text/html": [
       "<div>\n",
       "<style>\n",
       "    .dataframe thead tr:only-child th {\n",
       "        text-align: right;\n",
       "    }\n",
       "\n",
       "    .dataframe thead th {\n",
       "        text-align: left;\n",
       "    }\n",
       "\n",
       "    .dataframe tbody tr th {\n",
       "        vertical-align: top;\n",
       "    }\n",
       "</style>\n",
       "<table border=\"1\" class=\"dataframe\">\n",
       "  <thead>\n",
       "    <tr style=\"text-align: right;\">\n",
       "      <th></th>\n",
       "      <th>obs_id</th>\n",
       "      <th>SiteId</th>\n",
       "      <th>Timestamp</th>\n",
       "      <th>ForecastId</th>\n",
       "      <th>Value</th>\n",
       "      <th>ForecastPeriodMin</th>\n",
       "      <th>Surface</th>\n",
       "      <th>BaseTemperature</th>\n",
       "      <th>Weekday</th>\n",
       "    </tr>\n",
       "  </thead>\n",
       "  <tbody>\n",
       "    <tr>\n",
       "      <th>0</th>\n",
       "      <td>744519</td>\n",
       "      <td>1</td>\n",
       "      <td>2014-09-03</td>\n",
       "      <td>1</td>\n",
       "      <td>9.096555e+05</td>\n",
       "      <td>1440</td>\n",
       "      <td>1387.205119</td>\n",
       "      <td>18.0</td>\n",
       "      <td>2</td>\n",
       "    </tr>\n",
       "    <tr>\n",
       "      <th>1</th>\n",
       "      <td>7627564</td>\n",
       "      <td>1</td>\n",
       "      <td>2014-09-04</td>\n",
       "      <td>1</td>\n",
       "      <td>1.748273e+06</td>\n",
       "      <td>1440</td>\n",
       "      <td>1387.205119</td>\n",
       "      <td>18.0</td>\n",
       "      <td>3</td>\n",
       "    </tr>\n",
       "  </tbody>\n",
       "</table>\n",
       "</div>"
      ],
      "text/plain": [
       "    obs_id  SiteId  Timestamp  ForecastId         Value  ForecastPeriodMin  \\\n",
       "0   744519       1 2014-09-03           1  9.096555e+05               1440   \n",
       "1  7627564       1 2014-09-04           1  1.748273e+06               1440   \n",
       "\n",
       "       Surface  BaseTemperature  Weekday  \n",
       "0  1387.205119             18.0        2  \n",
       "1  1387.205119             18.0        3  "
      ]
     },
     "execution_count": 23,
     "metadata": {},
     "output_type": "execute_result"
    }
   ],
   "source": [
    "# add Weekday to ml dataframe \n",
    "# first step is to create a dictionary of isDayOff using Weekday\n",
    "df_n_3['Weekday'] = df_n_3['Timestamp'].dt.weekday\n",
    "df_n_3.head(2)"
   ]
  },
  {
   "cell_type": "code",
   "execution_count": 24,
   "metadata": {},
   "outputs": [],
   "source": [
    "# create dict_metadata for efficient memory and search speed when applying isDayOff to dataframe\n",
    "dict_metadata = {}\n",
    "\n",
    "for index, row in df_metadata.iterrows():\n",
    "    sid = row['SiteId'].astype(int)\n",
    "    dict_metadata[sid, 0] = row['MondayIsDayOff'].astype(int)\n",
    "    dict_metadata[sid, 1] = row['TuesdayIsDayOff'].astype(int)\n",
    "    dict_metadata[sid, 2] = row['WednesdayIsDayOff'].astype(int)\n",
    "    dict_metadata[sid, 3] = row['ThursdayIsDayOff'].astype(int)\n",
    "    dict_metadata[sid, 4] = row['FridayIsDayOff'].astype(int)\n",
    "    dict_metadata[sid, 5] = row['SaturdayIsDayOff'].astype(int)\n",
    "    dict_metadata[sid, 6] = row['SundayIsDayOff'].astype(int)"
   ]
  },
  {
   "cell_type": "code",
   "execution_count": 25,
   "metadata": {},
   "outputs": [
    {
     "data": {
      "text/html": [
       "<div>\n",
       "<style>\n",
       "    .dataframe thead tr:only-child th {\n",
       "        text-align: right;\n",
       "    }\n",
       "\n",
       "    .dataframe thead th {\n",
       "        text-align: left;\n",
       "    }\n",
       "\n",
       "    .dataframe tbody tr th {\n",
       "        vertical-align: top;\n",
       "    }\n",
       "</style>\n",
       "<table border=\"1\" class=\"dataframe\">\n",
       "  <thead>\n",
       "    <tr style=\"text-align: right;\">\n",
       "      <th></th>\n",
       "      <th>obs_id</th>\n",
       "      <th>SiteId</th>\n",
       "      <th>Timestamp</th>\n",
       "      <th>ForecastId</th>\n",
       "      <th>Value</th>\n",
       "      <th>ForecastPeriodMin</th>\n",
       "      <th>Surface</th>\n",
       "      <th>BaseTemperature</th>\n",
       "      <th>isDayOff</th>\n",
       "    </tr>\n",
       "  </thead>\n",
       "  <tbody>\n",
       "    <tr>\n",
       "      <th>0</th>\n",
       "      <td>744519</td>\n",
       "      <td>1</td>\n",
       "      <td>2014-09-03</td>\n",
       "      <td>1</td>\n",
       "      <td>9.096555e+05</td>\n",
       "      <td>1440</td>\n",
       "      <td>1387.205119</td>\n",
       "      <td>18.0</td>\n",
       "      <td>0</td>\n",
       "    </tr>\n",
       "    <tr>\n",
       "      <th>1</th>\n",
       "      <td>7627564</td>\n",
       "      <td>1</td>\n",
       "      <td>2014-09-04</td>\n",
       "      <td>1</td>\n",
       "      <td>1.748273e+06</td>\n",
       "      <td>1440</td>\n",
       "      <td>1387.205119</td>\n",
       "      <td>18.0</td>\n",
       "      <td>0</td>\n",
       "    </tr>\n",
       "    <tr>\n",
       "      <th>2</th>\n",
       "      <td>7034705</td>\n",
       "      <td>1</td>\n",
       "      <td>2014-09-05</td>\n",
       "      <td>1</td>\n",
       "      <td>NaN</td>\n",
       "      <td>1440</td>\n",
       "      <td>1387.205119</td>\n",
       "      <td>18.0</td>\n",
       "      <td>0</td>\n",
       "    </tr>\n",
       "    <tr>\n",
       "      <th>3</th>\n",
       "      <td>5995486</td>\n",
       "      <td>1</td>\n",
       "      <td>2014-09-06</td>\n",
       "      <td>1</td>\n",
       "      <td>NaN</td>\n",
       "      <td>1440</td>\n",
       "      <td>1387.205119</td>\n",
       "      <td>18.0</td>\n",
       "      <td>1</td>\n",
       "    </tr>\n",
       "    <tr>\n",
       "      <th>4</th>\n",
       "      <td>7326510</td>\n",
       "      <td>1</td>\n",
       "      <td>2014-09-07</td>\n",
       "      <td>1</td>\n",
       "      <td>NaN</td>\n",
       "      <td>1440</td>\n",
       "      <td>1387.205119</td>\n",
       "      <td>18.0</td>\n",
       "      <td>1</td>\n",
       "    </tr>\n",
       "  </tbody>\n",
       "</table>\n",
       "</div>"
      ],
      "text/plain": [
       "    obs_id  SiteId  Timestamp  ForecastId         Value  ForecastPeriodMin  \\\n",
       "0   744519       1 2014-09-03           1  9.096555e+05               1440   \n",
       "1  7627564       1 2014-09-04           1  1.748273e+06               1440   \n",
       "2  7034705       1 2014-09-05           1           NaN               1440   \n",
       "3  5995486       1 2014-09-06           1           NaN               1440   \n",
       "4  7326510       1 2014-09-07           1           NaN               1440   \n",
       "\n",
       "       Surface  BaseTemperature  isDayOff  \n",
       "0  1387.205119             18.0         0  \n",
       "1  1387.205119             18.0         0  \n",
       "2  1387.205119             18.0         0  \n",
       "3  1387.205119             18.0         1  \n",
       "4  1387.205119             18.0         1  "
      ]
     },
     "execution_count": 25,
     "metadata": {},
     "output_type": "execute_result"
    }
   ],
   "source": [
    "# add isDayOff column to ml dataframe via apply lambda function referencing dict_metadata\n",
    "df_n_3['isDayOff'] = df_n_3.apply(lambda row: dict_metadata[(row['SiteId'],row['Weekday'])], axis=1)\n",
    "df_n_3 = df_n_3.drop('Weekday', axis=1)\n",
    "df_n_3.head()"
   ]
  },
  {
   "cell_type": "code",
   "execution_count": 26,
   "metadata": {},
   "outputs": [
    {
     "name": "stdout",
     "output_type": "stream",
     "text": [
      "df_n_1: \t (6559830, 5)\n",
      "df_n_2: \t (6559830, 6)\n",
      "df_n_3: \t (6559830, 9)\n"
     ]
    }
   ],
   "source": [
    "# shape of df_n_3\n",
    "shapes['df_n_3'] = df_n_3.shape\n",
    "for k,v in shapes.items(): \n",
    "    print(\"{}: \\t {}\".format(k,v))"
   ]
  },
  {
   "cell_type": "markdown",
   "metadata": {},
   "source": [
    "## [D] Add df_holidays"
   ]
  },
  {
   "cell_type": "code",
   "execution_count": 27,
   "metadata": {},
   "outputs": [],
   "source": [
    "df_n_4 = df_n_3.copy(deep=True)"
   ]
  },
  {
   "cell_type": "code",
   "execution_count": 28,
   "metadata": {},
   "outputs": [],
   "source": [
    "# add a date column (without time) to merge on with df_holidays\n",
    "df_n_4['Date'] = df_n_4['Timestamp'].apply(lambda x: x.date())"
   ]
  },
  {
   "cell_type": "code",
   "execution_count": 29,
   "metadata": {},
   "outputs": [
    {
     "data": {
      "text/html": [
       "<div>\n",
       "<style>\n",
       "    .dataframe thead tr:only-child th {\n",
       "        text-align: right;\n",
       "    }\n",
       "\n",
       "    .dataframe thead th {\n",
       "        text-align: left;\n",
       "    }\n",
       "\n",
       "    .dataframe tbody tr th {\n",
       "        vertical-align: top;\n",
       "    }\n",
       "</style>\n",
       "<table border=\"1\" class=\"dataframe\">\n",
       "  <thead>\n",
       "    <tr style=\"text-align: right;\">\n",
       "      <th></th>\n",
       "      <th>SiteId</th>\n",
       "      <th>Date</th>\n",
       "      <th>isHoliday</th>\n",
       "    </tr>\n",
       "  </thead>\n",
       "  <tbody>\n",
       "    <tr>\n",
       "      <th>0</th>\n",
       "      <td>1</td>\n",
       "      <td>2016-01-01</td>\n",
       "      <td>1</td>\n",
       "    </tr>\n",
       "    <tr>\n",
       "      <th>1</th>\n",
       "      <td>1</td>\n",
       "      <td>2016-01-18</td>\n",
       "      <td>1</td>\n",
       "    </tr>\n",
       "    <tr>\n",
       "      <th>2</th>\n",
       "      <td>1</td>\n",
       "      <td>2016-02-15</td>\n",
       "      <td>1</td>\n",
       "    </tr>\n",
       "    <tr>\n",
       "      <th>3</th>\n",
       "      <td>1</td>\n",
       "      <td>2016-05-30</td>\n",
       "      <td>1</td>\n",
       "    </tr>\n",
       "    <tr>\n",
       "      <th>4</th>\n",
       "      <td>1</td>\n",
       "      <td>2016-07-04</td>\n",
       "      <td>1</td>\n",
       "    </tr>\n",
       "  </tbody>\n",
       "</table>\n",
       "</div>"
      ],
      "text/plain": [
       "   SiteId        Date  isHoliday\n",
       "0       1  2016-01-01          1\n",
       "1       1  2016-01-18          1\n",
       "2       1  2016-02-15          1\n",
       "3       1  2016-05-30          1\n",
       "4       1  2016-07-04          1"
      ]
     },
     "execution_count": 29,
     "metadata": {},
     "output_type": "execute_result"
    }
   ],
   "source": [
    "# create df_holidays_dates with boolean isHoliday for merging\n",
    "df_holidays_dates = df_holidays[['SiteId', 'Date']].drop_duplicates()\n",
    "df_holidays_dates['isHoliday'] = 1\n",
    "df_holidays_dates['Date'] = df_holidays_dates['Date'].apply(lambda x: x.date())\n",
    "df_holidays_dates.head()"
   ]
  },
  {
   "cell_type": "code",
   "execution_count": 30,
   "metadata": {},
   "outputs": [
    {
     "data": {
      "text/html": [
       "<div>\n",
       "<style>\n",
       "    .dataframe thead tr:only-child th {\n",
       "        text-align: right;\n",
       "    }\n",
       "\n",
       "    .dataframe thead th {\n",
       "        text-align: left;\n",
       "    }\n",
       "\n",
       "    .dataframe tbody tr th {\n",
       "        vertical-align: top;\n",
       "    }\n",
       "</style>\n",
       "<table border=\"1\" class=\"dataframe\">\n",
       "  <thead>\n",
       "    <tr style=\"text-align: right;\">\n",
       "      <th></th>\n",
       "      <th>obs_id</th>\n",
       "      <th>SiteId</th>\n",
       "      <th>Timestamp</th>\n",
       "      <th>ForecastId</th>\n",
       "      <th>Value</th>\n",
       "      <th>ForecastPeriodMin</th>\n",
       "      <th>Surface</th>\n",
       "      <th>BaseTemperature</th>\n",
       "      <th>isDayOff</th>\n",
       "      <th>isHoliday</th>\n",
       "    </tr>\n",
       "  </thead>\n",
       "  <tbody>\n",
       "    <tr>\n",
       "      <th>0</th>\n",
       "      <td>744519</td>\n",
       "      <td>1</td>\n",
       "      <td>2014-09-03</td>\n",
       "      <td>1</td>\n",
       "      <td>9.096555e+05</td>\n",
       "      <td>1440</td>\n",
       "      <td>1387.205119</td>\n",
       "      <td>18.0</td>\n",
       "      <td>0</td>\n",
       "      <td>NaN</td>\n",
       "    </tr>\n",
       "    <tr>\n",
       "      <th>1</th>\n",
       "      <td>7627564</td>\n",
       "      <td>1</td>\n",
       "      <td>2014-09-04</td>\n",
       "      <td>1</td>\n",
       "      <td>1.748273e+06</td>\n",
       "      <td>1440</td>\n",
       "      <td>1387.205119</td>\n",
       "      <td>18.0</td>\n",
       "      <td>0</td>\n",
       "      <td>NaN</td>\n",
       "    </tr>\n",
       "  </tbody>\n",
       "</table>\n",
       "</div>"
      ],
      "text/plain": [
       "    obs_id  SiteId  Timestamp  ForecastId         Value  ForecastPeriodMin  \\\n",
       "0   744519       1 2014-09-03           1  9.096555e+05               1440   \n",
       "1  7627564       1 2014-09-04           1  1.748273e+06               1440   \n",
       "\n",
       "       Surface  BaseTemperature  isDayOff  isHoliday  \n",
       "0  1387.205119             18.0         0        NaN  \n",
       "1  1387.205119             18.0         0        NaN  "
      ]
     },
     "execution_count": 30,
     "metadata": {},
     "output_type": "execute_result"
    }
   ],
   "source": [
    "# merge df_holidays_dates with dataframe\n",
    "df_n_4 = df_n_4.merge(df_holidays_dates, on=['SiteId', 'Date'], how='left')\n",
    "df_n_4 = df_n_4.drop('Date', axis=1)\n",
    "df_n_4.head(2)"
   ]
  },
  {
   "cell_type": "code",
   "execution_count": 31,
   "metadata": {},
   "outputs": [
    {
     "data": {
      "text/html": [
       "<div>\n",
       "<style>\n",
       "    .dataframe thead tr:only-child th {\n",
       "        text-align: right;\n",
       "    }\n",
       "\n",
       "    .dataframe thead th {\n",
       "        text-align: left;\n",
       "    }\n",
       "\n",
       "    .dataframe tbody tr th {\n",
       "        vertical-align: top;\n",
       "    }\n",
       "</style>\n",
       "<table border=\"1\" class=\"dataframe\">\n",
       "  <thead>\n",
       "    <tr style=\"text-align: right;\">\n",
       "      <th></th>\n",
       "      <th>obs_id</th>\n",
       "      <th>SiteId</th>\n",
       "      <th>Timestamp</th>\n",
       "      <th>ForecastId</th>\n",
       "      <th>Value</th>\n",
       "      <th>ForecastPeriodMin</th>\n",
       "      <th>Surface</th>\n",
       "      <th>BaseTemperature</th>\n",
       "      <th>isDayOff</th>\n",
       "      <th>isHoliday</th>\n",
       "    </tr>\n",
       "  </thead>\n",
       "  <tbody>\n",
       "    <tr>\n",
       "      <th>0</th>\n",
       "      <td>744519</td>\n",
       "      <td>1</td>\n",
       "      <td>2014-09-03</td>\n",
       "      <td>1</td>\n",
       "      <td>9.096555e+05</td>\n",
       "      <td>1440</td>\n",
       "      <td>1387.205119</td>\n",
       "      <td>18.0</td>\n",
       "      <td>0</td>\n",
       "      <td>0</td>\n",
       "    </tr>\n",
       "    <tr>\n",
       "      <th>1</th>\n",
       "      <td>7627564</td>\n",
       "      <td>1</td>\n",
       "      <td>2014-09-04</td>\n",
       "      <td>1</td>\n",
       "      <td>1.748273e+06</td>\n",
       "      <td>1440</td>\n",
       "      <td>1387.205119</td>\n",
       "      <td>18.0</td>\n",
       "      <td>0</td>\n",
       "      <td>0</td>\n",
       "    </tr>\n",
       "  </tbody>\n",
       "</table>\n",
       "</div>"
      ],
      "text/plain": [
       "    obs_id  SiteId  Timestamp  ForecastId         Value  ForecastPeriodMin  \\\n",
       "0   744519       1 2014-09-03           1  9.096555e+05               1440   \n",
       "1  7627564       1 2014-09-04           1  1.748273e+06               1440   \n",
       "\n",
       "       Surface  BaseTemperature  isDayOff  isHoliday  \n",
       "0  1387.205119             18.0         0          0  \n",
       "1  1387.205119             18.0         0          0  "
      ]
     },
     "execution_count": 31,
     "metadata": {},
     "output_type": "execute_result"
    }
   ],
   "source": [
    "# fillna with 0... then make isHoliday an integer dtype\n",
    "df_n_4['isHoliday'] = df_n_4['isHoliday'].fillna(value=0)\n",
    "df_n_4['isHoliday'] = df_n_4['isHoliday'].astype(int)\n",
    "df_n_4.head(2)"
   ]
  },
  {
   "cell_type": "code",
   "execution_count": 32,
   "metadata": {},
   "outputs": [
    {
     "name": "stdout",
     "output_type": "stream",
     "text": [
      "percent of days are Holidays: 0.02\n"
     ]
    }
   ],
   "source": [
    "print(\"percent of days are Holidays: {}\".format(round(df_n_4['isHoliday'].sum() / df_n_4['isHoliday'].count(),2)))"
   ]
  },
  {
   "cell_type": "code",
   "execution_count": 33,
   "metadata": {},
   "outputs": [
    {
     "name": "stdout",
     "output_type": "stream",
     "text": [
      "df_n_1: \t (6559830, 5)\n",
      "df_n_2: \t (6559830, 6)\n",
      "df_n_3: \t (6559830, 9)\n",
      "df_n_4: \t (6559830, 10)\n"
     ]
    }
   ],
   "source": [
    "# shape of df_n_4\n",
    "shapes['df_n_4'] = df_n_4.shape\n",
    "for k,v in shapes.items(): \n",
    "    print(\"{}: \\t {}\".format(k,v))"
   ]
  },
  {
   "cell_type": "markdown",
   "metadata": {},
   "source": [
    "## Add df_weather"
   ]
  },
  {
   "cell_type": "code",
   "execution_count": 34,
   "metadata": {},
   "outputs": [],
   "source": [
    "df_n_5 = df_n_4.copy(deep=True)"
   ]
  },
  {
   "cell_type": "markdown",
   "metadata": {},
   "source": [
    "### Inspect df_weather"
   ]
  },
  {
   "cell_type": "code",
   "execution_count": 35,
   "metadata": {},
   "outputs": [
    {
     "data": {
      "text/html": [
       "<div>\n",
       "<style>\n",
       "    .dataframe thead tr:only-child th {\n",
       "        text-align: right;\n",
       "    }\n",
       "\n",
       "    .dataframe thead th {\n",
       "        text-align: left;\n",
       "    }\n",
       "\n",
       "    .dataframe tbody tr th {\n",
       "        vertical-align: top;\n",
       "    }\n",
       "</style>\n",
       "<table border=\"1\" class=\"dataframe\">\n",
       "  <thead>\n",
       "    <tr style=\"text-align: right;\">\n",
       "      <th></th>\n",
       "      <th>Timestamp</th>\n",
       "      <th>Temperature</th>\n",
       "      <th>Distance</th>\n",
       "      <th>SiteId</th>\n",
       "    </tr>\n",
       "  </thead>\n",
       "  <tbody>\n",
       "    <tr>\n",
       "      <th>0</th>\n",
       "      <td>2013-12-31 19:00:00</td>\n",
       "      <td>-7.2</td>\n",
       "      <td>24.889929</td>\n",
       "      <td>1</td>\n",
       "    </tr>\n",
       "    <tr>\n",
       "      <th>1</th>\n",
       "      <td>2013-12-31 19:00:00</td>\n",
       "      <td>-8.3</td>\n",
       "      <td>23.303097</td>\n",
       "      <td>1</td>\n",
       "    </tr>\n",
       "    <tr>\n",
       "      <th>2</th>\n",
       "      <td>2013-12-31 19:00:00</td>\n",
       "      <td>-7.8</td>\n",
       "      <td>20.952256</td>\n",
       "      <td>1</td>\n",
       "    </tr>\n",
       "    <tr>\n",
       "      <th>3</th>\n",
       "      <td>2013-12-31 19:00:00</td>\n",
       "      <td>-8.0</td>\n",
       "      <td>20.952256</td>\n",
       "      <td>1</td>\n",
       "    </tr>\n",
       "    <tr>\n",
       "      <th>4</th>\n",
       "      <td>2013-12-31 19:34:00</td>\n",
       "      <td>-8.1</td>\n",
       "      <td>16.610602</td>\n",
       "      <td>1</td>\n",
       "    </tr>\n",
       "  </tbody>\n",
       "</table>\n",
       "</div>"
      ],
      "text/plain": [
       "            Timestamp  Temperature   Distance  SiteId\n",
       "0 2013-12-31 19:00:00         -7.2  24.889929       1\n",
       "1 2013-12-31 19:00:00         -8.3  23.303097       1\n",
       "2 2013-12-31 19:00:00         -7.8  20.952256       1\n",
       "3 2013-12-31 19:00:00         -8.0  20.952256       1\n",
       "4 2013-12-31 19:34:00         -8.1  16.610602       1"
      ]
     },
     "execution_count": 35,
     "metadata": {},
     "output_type": "execute_result"
    }
   ],
   "source": [
    "# inspect weather data\n",
    "# see multiple Temperature for single SiteId & Timestamp combination\n",
    "# need a single SiteId & Timestamp combination to merge with ml dataframe\n",
    "df_weather.head()"
   ]
  },
  {
   "cell_type": "code",
   "execution_count": 36,
   "metadata": {},
   "outputs": [
    {
     "data": {
      "text/plain": [
       "(20017278, 4)"
      ]
     },
     "execution_count": 36,
     "metadata": {},
     "output_type": "execute_result"
    }
   ],
   "source": [
    "# shape of weather data\n",
    "df_weather.shape"
   ]
  },
  {
   "cell_type": "code",
   "execution_count": 37,
   "metadata": {},
   "outputs": [
    {
     "data": {
      "text/plain": [
       "(17563614, 4)"
      ]
     },
     "execution_count": 37,
     "metadata": {},
     "output_type": "execute_result"
    }
   ],
   "source": [
    "# remove extraneous SiteIds from df_weather not found in df_train\n",
    "# shape of df_weather\n",
    "df_weather = df_weather[df_weather['SiteId'].isin(pd.Series(df_n_5['SiteId'].unique()))]\n",
    "df_weather.shape"
   ]
  },
  {
   "cell_type": "code",
   "execution_count": 38,
   "metadata": {},
   "outputs": [
    {
     "data": {
      "text/plain": [
       "215"
      ]
     },
     "execution_count": 38,
     "metadata": {},
     "output_type": "execute_result"
    }
   ],
   "source": [
    "# check if all SiteIds in weather data are also found in the train data\n",
    "# 52 fewer unique SiteIds in both weather data & train data than in train data alone (215 vs. 267)\n",
    "# later, put these 52 SiteIds without weather data in separate ML DataFrame\n",
    "df_weather['SiteId'].unique().size"
   ]
  },
  {
   "cell_type": "markdown",
   "metadata": {},
   "source": [
    "### Keep Nearest Temperature"
   ]
  },
  {
   "cell_type": "code",
   "execution_count": 39,
   "metadata": {},
   "outputs": [
    {
     "data": {
      "text/html": [
       "<div>\n",
       "<style>\n",
       "    .dataframe thead tr:only-child th {\n",
       "        text-align: right;\n",
       "    }\n",
       "\n",
       "    .dataframe thead th {\n",
       "        text-align: left;\n",
       "    }\n",
       "\n",
       "    .dataframe tbody tr th {\n",
       "        vertical-align: top;\n",
       "    }\n",
       "</style>\n",
       "<table border=\"1\" class=\"dataframe\">\n",
       "  <thead>\n",
       "    <tr style=\"text-align: right;\">\n",
       "      <th></th>\n",
       "      <th>Timestamp</th>\n",
       "      <th>Temperature</th>\n",
       "      <th>Distance</th>\n",
       "      <th>SiteId</th>\n",
       "    </tr>\n",
       "  </thead>\n",
       "  <tbody>\n",
       "    <tr>\n",
       "      <th>0</th>\n",
       "      <td>2013-12-31 19:00:00</td>\n",
       "      <td>-7.2</td>\n",
       "      <td>24.889929</td>\n",
       "      <td>1</td>\n",
       "    </tr>\n",
       "    <tr>\n",
       "      <th>1</th>\n",
       "      <td>2013-12-31 19:00:00</td>\n",
       "      <td>-8.3</td>\n",
       "      <td>23.303097</td>\n",
       "      <td>1</td>\n",
       "    </tr>\n",
       "    <tr>\n",
       "      <th>2</th>\n",
       "      <td>2013-12-31 19:00:00</td>\n",
       "      <td>-7.8</td>\n",
       "      <td>20.952256</td>\n",
       "      <td>1</td>\n",
       "    </tr>\n",
       "    <tr>\n",
       "      <th>3</th>\n",
       "      <td>2013-12-31 19:00:00</td>\n",
       "      <td>-8.0</td>\n",
       "      <td>20.952256</td>\n",
       "      <td>1</td>\n",
       "    </tr>\n",
       "    <tr>\n",
       "      <th>4</th>\n",
       "      <td>2013-12-31 19:34:00</td>\n",
       "      <td>-8.1</td>\n",
       "      <td>16.610602</td>\n",
       "      <td>1</td>\n",
       "    </tr>\n",
       "  </tbody>\n",
       "</table>\n",
       "</div>"
      ],
      "text/plain": [
       "            Timestamp  Temperature   Distance  SiteId\n",
       "0 2013-12-31 19:00:00         -7.2  24.889929       1\n",
       "1 2013-12-31 19:00:00         -8.3  23.303097       1\n",
       "2 2013-12-31 19:00:00         -7.8  20.952256       1\n",
       "3 2013-12-31 19:00:00         -8.0  20.952256       1\n",
       "4 2013-12-31 19:34:00         -8.1  16.610602       1"
      ]
     },
     "execution_count": 39,
     "metadata": {},
     "output_type": "execute_result"
    }
   ],
   "source": [
    "# example: view first 5 datapoints for SiteId 1\n",
    "# see multiple Temperature for single SiteId & Timestamp combination\n",
    "# need a single SiteId & Timestamp combination to merge with ml dataframe\n",
    "df_weather[(df_weather['SiteId']==1)].head()"
   ]
  },
  {
   "cell_type": "code",
   "execution_count": 40,
   "metadata": {},
   "outputs": [
    {
     "data": {
      "text/html": [
       "<div>\n",
       "<style>\n",
       "    .dataframe thead tr:only-child th {\n",
       "        text-align: right;\n",
       "    }\n",
       "\n",
       "    .dataframe thead th {\n",
       "        text-align: left;\n",
       "    }\n",
       "\n",
       "    .dataframe tbody tr th {\n",
       "        vertical-align: top;\n",
       "    }\n",
       "</style>\n",
       "<table border=\"1\" class=\"dataframe\">\n",
       "  <thead>\n",
       "    <tr style=\"text-align: right;\">\n",
       "      <th></th>\n",
       "      <th>SiteId</th>\n",
       "      <th>Timestamp</th>\n",
       "      <th>Temperature</th>\n",
       "      <th>Distance</th>\n",
       "    </tr>\n",
       "  </thead>\n",
       "  <tbody>\n",
       "    <tr>\n",
       "      <th>0</th>\n",
       "      <td>1</td>\n",
       "      <td>2013-12-31 19:00:00</td>\n",
       "      <td>-7.8</td>\n",
       "      <td>20.952256</td>\n",
       "    </tr>\n",
       "    <tr>\n",
       "      <th>1</th>\n",
       "      <td>1</td>\n",
       "      <td>2013-12-31 19:34:00</td>\n",
       "      <td>-8.1</td>\n",
       "      <td>16.610602</td>\n",
       "    </tr>\n",
       "    <tr>\n",
       "      <th>2</th>\n",
       "      <td>1</td>\n",
       "      <td>2013-12-31 19:55:00</td>\n",
       "      <td>-8.2</td>\n",
       "      <td>16.610602</td>\n",
       "    </tr>\n",
       "    <tr>\n",
       "      <th>3</th>\n",
       "      <td>1</td>\n",
       "      <td>2013-12-31 20:00:00</td>\n",
       "      <td>-8.0</td>\n",
       "      <td>20.952256</td>\n",
       "    </tr>\n",
       "    <tr>\n",
       "      <th>4</th>\n",
       "      <td>1</td>\n",
       "      <td>2013-12-31 20:15:00</td>\n",
       "      <td>-8.3</td>\n",
       "      <td>16.610602</td>\n",
       "    </tr>\n",
       "  </tbody>\n",
       "</table>\n",
       "</div>"
      ],
      "text/plain": [
       "   SiteId           Timestamp  Temperature   Distance\n",
       "0       1 2013-12-31 19:00:00         -7.8  20.952256\n",
       "1       1 2013-12-31 19:34:00         -8.1  16.610602\n",
       "2       1 2013-12-31 19:55:00         -8.2  16.610602\n",
       "3       1 2013-12-31 20:00:00         -8.0  20.952256\n",
       "4       1 2013-12-31 20:15:00         -8.3  16.610602"
      ]
     },
     "execution_count": 40,
     "metadata": {},
     "output_type": "execute_result"
    }
   ],
   "source": [
    "# create dataframe of nearest temperatures by SiteId and Timestamp\n",
    "# inspect df_weather_nearest to compare above and see we took the nearest Temperature\n",
    "df_weather_nearest = (df_weather.sort_values(['SiteId', 'Timestamp', 'Distance'])\n",
    "                      .groupby(['SiteId', 'Timestamp'], as_index=False).first())\n",
    "df_weather_nearest.head()"
   ]
  },
  {
   "cell_type": "code",
   "execution_count": 41,
   "metadata": {},
   "outputs": [
    {
     "data": {
      "text/plain": [
       "(11849490, 4)"
      ]
     },
     "execution_count": 41,
     "metadata": {},
     "output_type": "execute_result"
    }
   ],
   "source": [
    "# df_weather_nearest shape\n",
    "df_weather_nearest.shape"
   ]
  },
  {
   "cell_type": "code",
   "execution_count": 42,
   "metadata": {},
   "outputs": [
    {
     "data": {
      "text/plain": [
       "0"
      ]
     },
     "execution_count": 42,
     "metadata": {},
     "output_type": "execute_result"
    }
   ],
   "source": [
    "# check if ther are NaN in Temperature... good, there are 0 NaN\n",
    "df_weather_nearest.Temperature.isnull().sum()"
   ]
  },
  {
   "cell_type": "markdown",
   "metadata": {},
   "source": [
    "### Resample Weather by 15min Intervals"
   ]
  },
  {
   "cell_type": "code",
   "execution_count": 43,
   "metadata": {},
   "outputs": [],
   "source": [
    "def multi_index_resample(df, time_bins='15T'):\n",
    "\n",
    "    df_list = []\n",
    "    \n",
    "    for i in df.index.unique():\n",
    "        df_rs = df[df.index == i]\n",
    "        df_rs = df_rs.reset_index().drop('SiteId', axis=1).set_index('Timestamp')\n",
    "        df_rs = df_rs.resample(time_bins).interpolate(method='linear')\n",
    "        df_rs = df_rs.reset_index()\n",
    "        df_rs['SiteId'] = i\n",
    "        df_list.append(df_rs)\n",
    "    \n",
    "    df_return = pd.concat(df_list, ignore_index=True)\n",
    "    df_return = df_return[['SiteId', 'Timestamp', 'Temperature']]\n",
    "\n",
    "    return df_return"
   ]
  },
  {
   "cell_type": "code",
   "execution_count": 44,
   "metadata": {},
   "outputs": [
    {
     "data": {
      "text/html": [
       "<div>\n",
       "<style>\n",
       "    .dataframe thead tr:only-child th {\n",
       "        text-align: right;\n",
       "    }\n",
       "\n",
       "    .dataframe thead th {\n",
       "        text-align: left;\n",
       "    }\n",
       "\n",
       "    .dataframe tbody tr th {\n",
       "        vertical-align: top;\n",
       "    }\n",
       "</style>\n",
       "<table border=\"1\" class=\"dataframe\">\n",
       "  <thead>\n",
       "    <tr style=\"text-align: right;\">\n",
       "      <th></th>\n",
       "      <th>SiteId</th>\n",
       "      <th>Timestamp</th>\n",
       "      <th>Temperature</th>\n",
       "    </tr>\n",
       "  </thead>\n",
       "  <tbody>\n",
       "    <tr>\n",
       "      <th>0</th>\n",
       "      <td>1</td>\n",
       "      <td>2013-12-31 19:00:00</td>\n",
       "      <td>-7.80</td>\n",
       "    </tr>\n",
       "    <tr>\n",
       "      <th>1</th>\n",
       "      <td>1</td>\n",
       "      <td>2013-12-31 19:15:00</td>\n",
       "      <td>-7.85</td>\n",
       "    </tr>\n",
       "    <tr>\n",
       "      <th>2</th>\n",
       "      <td>1</td>\n",
       "      <td>2013-12-31 19:30:00</td>\n",
       "      <td>-7.90</td>\n",
       "    </tr>\n",
       "    <tr>\n",
       "      <th>3</th>\n",
       "      <td>1</td>\n",
       "      <td>2013-12-31 19:45:00</td>\n",
       "      <td>-7.95</td>\n",
       "    </tr>\n",
       "    <tr>\n",
       "      <th>4</th>\n",
       "      <td>1</td>\n",
       "      <td>2013-12-31 20:00:00</td>\n",
       "      <td>-8.00</td>\n",
       "    </tr>\n",
       "  </tbody>\n",
       "</table>\n",
       "</div>"
      ],
      "text/plain": [
       "   SiteId           Timestamp  Temperature\n",
       "0       1 2013-12-31 19:00:00        -7.80\n",
       "1       1 2013-12-31 19:15:00        -7.85\n",
       "2       1 2013-12-31 19:30:00        -7.90\n",
       "3       1 2013-12-31 19:45:00        -7.95\n",
       "4       1 2013-12-31 20:00:00        -8.00"
      ]
     },
     "execution_count": 44,
     "metadata": {},
     "output_type": "execute_result"
    }
   ],
   "source": [
    "# call multi_index_resample on df_weather_nearest\n",
    "mask = ['SiteId', 'Timestamp', 'Temperature']\n",
    "df_weather_nearest_resample15 = multi_index_resample(df_weather_nearest[mask].set_index('SiteId'))\n",
    "df_weather_nearest_resample15.head()"
   ]
  },
  {
   "cell_type": "code",
   "execution_count": 45,
   "metadata": {},
   "outputs": [
    {
     "data": {
      "text/plain": [
       "215"
      ]
     },
     "execution_count": 45,
     "metadata": {},
     "output_type": "execute_result"
    }
   ],
   "source": [
    "# Confirmed: 215 SiteIds in resampled weather data\n",
    "df_weather_nearest_resample15.SiteId.unique().size"
   ]
  },
  {
   "cell_type": "code",
   "execution_count": 46,
   "metadata": {},
   "outputs": [
    {
     "data": {
      "text/plain": [
       "(25130553, 3)"
      ]
     },
     "execution_count": 46,
     "metadata": {},
     "output_type": "execute_result"
    }
   ],
   "source": [
    "# shape of df_weather_nearest_resample15\n",
    "df_weather_nearest_resample15.shape"
   ]
  },
  {
   "cell_type": "markdown",
   "metadata": {},
   "source": [
    "### Merge Resampled Weather Data"
   ]
  },
  {
   "cell_type": "code",
   "execution_count": 47,
   "metadata": {},
   "outputs": [],
   "source": [
    "# merge average temperature by SiteId and Timestamp with dataframe\n",
    "df_n_5 = df_n_5.merge(df_weather_nearest_resample15, on=['SiteId', 'Timestamp'], how='left')"
   ]
  },
  {
   "cell_type": "code",
   "execution_count": 48,
   "metadata": {},
   "outputs": [
    {
     "data": {
      "text/html": [
       "<div>\n",
       "<style>\n",
       "    .dataframe thead tr:only-child th {\n",
       "        text-align: right;\n",
       "    }\n",
       "\n",
       "    .dataframe thead th {\n",
       "        text-align: left;\n",
       "    }\n",
       "\n",
       "    .dataframe tbody tr th {\n",
       "        vertical-align: top;\n",
       "    }\n",
       "</style>\n",
       "<table border=\"1\" class=\"dataframe\">\n",
       "  <thead>\n",
       "    <tr style=\"text-align: right;\">\n",
       "      <th></th>\n",
       "      <th>obs_id</th>\n",
       "      <th>SiteId</th>\n",
       "      <th>Timestamp</th>\n",
       "      <th>ForecastId</th>\n",
       "      <th>Value</th>\n",
       "      <th>ForecastPeriodMin</th>\n",
       "      <th>Surface</th>\n",
       "      <th>BaseTemperature</th>\n",
       "      <th>isDayOff</th>\n",
       "      <th>isHoliday</th>\n",
       "      <th>Temperature</th>\n",
       "    </tr>\n",
       "  </thead>\n",
       "  <tbody>\n",
       "    <tr>\n",
       "      <th>0</th>\n",
       "      <td>744519</td>\n",
       "      <td>1</td>\n",
       "      <td>2014-09-03</td>\n",
       "      <td>1</td>\n",
       "      <td>9.096555e+05</td>\n",
       "      <td>1440</td>\n",
       "      <td>1387.205119</td>\n",
       "      <td>18.0</td>\n",
       "      <td>0</td>\n",
       "      <td>0</td>\n",
       "      <td>19.0</td>\n",
       "    </tr>\n",
       "    <tr>\n",
       "      <th>1</th>\n",
       "      <td>7627564</td>\n",
       "      <td>1</td>\n",
       "      <td>2014-09-04</td>\n",
       "      <td>1</td>\n",
       "      <td>1.748273e+06</td>\n",
       "      <td>1440</td>\n",
       "      <td>1387.205119</td>\n",
       "      <td>18.0</td>\n",
       "      <td>0</td>\n",
       "      <td>0</td>\n",
       "      <td>20.0</td>\n",
       "    </tr>\n",
       "  </tbody>\n",
       "</table>\n",
       "</div>"
      ],
      "text/plain": [
       "    obs_id  SiteId  Timestamp  ForecastId         Value  ForecastPeriodMin  \\\n",
       "0   744519       1 2014-09-03           1  9.096555e+05               1440   \n",
       "1  7627564       1 2014-09-04           1  1.748273e+06               1440   \n",
       "\n",
       "       Surface  BaseTemperature  isDayOff  isHoliday  Temperature  \n",
       "0  1387.205119             18.0         0          0         19.0  \n",
       "1  1387.205119             18.0         0          0         20.0  "
      ]
     },
     "execution_count": 48,
     "metadata": {},
     "output_type": "execute_result"
    }
   ],
   "source": [
    "# inspect dataframe\n",
    "df_n_5.head(2)"
   ]
  },
  {
   "cell_type": "code",
   "execution_count": 49,
   "metadata": {},
   "outputs": [
    {
     "name": "stdout",
     "output_type": "stream",
     "text": [
      "df_n_1: \t (6559830, 5)\n",
      "df_n_2: \t (6559830, 6)\n",
      "df_n_3: \t (6559830, 9)\n",
      "df_n_4: \t (6559830, 10)\n",
      "df_n_5: \t (6559830, 11)\n"
     ]
    }
   ],
   "source": [
    "# shape of df_n_5\n",
    "shapes['df_n_5'] = df_n_5.shape\n",
    "for k,v in shapes.items(): \n",
    "    print(\"{}: \\t {}\".format(k,v))"
   ]
  },
  {
   "cell_type": "markdown",
   "metadata": {},
   "source": [
    "### Inspect NaN temperatures"
   ]
  },
  {
   "cell_type": "code",
   "execution_count": 50,
   "metadata": {},
   "outputs": [
    {
     "data": {
      "text/plain": [
       "False    4851568\n",
       "True     1708262\n",
       "Name: Temperature, dtype: int64"
      ]
     },
     "execution_count": 50,
     "metadata": {},
     "output_type": "execute_result"
    }
   ],
   "source": [
    "# 1,708,262 data points are missing temperature values\n",
    "df_n_5['Temperature'].isnull().value_counts()"
   ]
  },
  {
   "cell_type": "code",
   "execution_count": 51,
   "metadata": {},
   "outputs": [
    {
     "data": {
      "text/plain": [
       "91"
      ]
     },
     "execution_count": 51,
     "metadata": {},
     "output_type": "execute_result"
    }
   ],
   "source": [
    "# associated with 91 SiteId having 1 or more NaN Temperature values in training data\n",
    "SiteId_with_null_temps = df_n_5[df_n_5['Temperature'].isnull()]['SiteId'].unique()\n",
    "SiteId_with_null_temps.size"
   ]
  },
  {
   "cell_type": "code",
   "execution_count": 52,
   "metadata": {},
   "outputs": [
    {
     "data": {
      "text/plain": [
       "1832"
      ]
     },
     "execution_count": 52,
     "metadata": {},
     "output_type": "execute_result"
    }
   ],
   "source": [
    "# associated with 1,832 ForecastId having 1 or more NaN Temperature values in training data\n",
    "ForecastId_with_null_temps = df_n_5[df_n_5['Temperature'].isnull()]['ForecastId'].unique()\n",
    "ForecastId_with_null_temps.size"
   ]
  },
  {
   "cell_type": "code",
   "execution_count": 53,
   "metadata": {},
   "outputs": [],
   "source": [
    "# inspect where dataframe temperature is null (i.e. no df_weather corresponding to df_train data)\n",
    "# visual inspection shows most values for these SiteId's are NaN (where NaN=1)\n",
    "# weather will not be a useable feature for these SiteIds... drop  \n",
    "nrows = SiteId_with_null_temps.size\n",
    "ncols = 1\n",
    "\n",
    "#fig, ax = plt.subplots(ncols=ncols, nrows=nrows, sharex=True, sharey=True, figsize=(12,256), dpi=80, facecolor='w', edgecolor='k')\n",
    "#for i in range(nrows):\n",
    "#    sid = SiteId_with_null_temps[i]\n",
    "#    section = df_n_5[df_n_5['SiteId']==sid]\n",
    "#    ax[i].plot(section['Timestamp'], section['Temperature'].isnull().astype(int))\n",
    "#    ax[i].set_title(\"SiteId: {}\".format(sid));\n",
    "\n",
    "#plt.tight_layout()"
   ]
  },
  {
   "cell_type": "code",
   "execution_count": 54,
   "metadata": {},
   "outputs": [
    {
     "data": {
      "text/html": [
       "<div>\n",
       "<style>\n",
       "    .dataframe thead tr:only-child th {\n",
       "        text-align: right;\n",
       "    }\n",
       "\n",
       "    .dataframe thead th {\n",
       "        text-align: left;\n",
       "    }\n",
       "\n",
       "    .dataframe tbody tr th {\n",
       "        vertical-align: top;\n",
       "    }\n",
       "</style>\n",
       "<table border=\"1\" class=\"dataframe\">\n",
       "  <thead>\n",
       "    <tr>\n",
       "      <th></th>\n",
       "      <th colspan=\"3\" halign=\"left\">isNull_Temp</th>\n",
       "    </tr>\n",
       "    <tr>\n",
       "      <th></th>\n",
       "      <th>sum</th>\n",
       "      <th>count</th>\n",
       "      <th>Percent_Null</th>\n",
       "    </tr>\n",
       "    <tr>\n",
       "      <th>SiteId</th>\n",
       "      <th></th>\n",
       "      <th></th>\n",
       "      <th></th>\n",
       "    </tr>\n",
       "  </thead>\n",
       "  <tbody>\n",
       "    <tr>\n",
       "      <th>2</th>\n",
       "      <td>12.0</td>\n",
       "      <td>34704</td>\n",
       "      <td>0.000346</td>\n",
       "    </tr>\n",
       "    <tr>\n",
       "      <th>5</th>\n",
       "      <td>48.0</td>\n",
       "      <td>964</td>\n",
       "      <td>0.049793</td>\n",
       "    </tr>\n",
       "    <tr>\n",
       "      <th>6</th>\n",
       "      <td>48.0</td>\n",
       "      <td>140744</td>\n",
       "      <td>0.000341</td>\n",
       "    </tr>\n",
       "    <tr>\n",
       "      <th>11</th>\n",
       "      <td>964.0</td>\n",
       "      <td>964</td>\n",
       "      <td>1.000000</td>\n",
       "    </tr>\n",
       "    <tr>\n",
       "      <th>14</th>\n",
       "      <td>92544.0</td>\n",
       "      <td>92544</td>\n",
       "      <td>1.000000</td>\n",
       "    </tr>\n",
       "  </tbody>\n",
       "</table>\n",
       "</div>"
      ],
      "text/plain": [
       "       isNull_Temp                     \n",
       "               sum   count Percent_Null\n",
       "SiteId                                 \n",
       "2             12.0   34704     0.000346\n",
       "5             48.0     964     0.049793\n",
       "6             48.0  140744     0.000341\n",
       "11           964.0     964     1.000000\n",
       "14         92544.0   92544     1.000000"
      ]
     },
     "execution_count": 54,
     "metadata": {},
     "output_type": "execute_result"
    }
   ],
   "source": [
    "# now by calculations show % NaN weather values by SiteId\n",
    "df_SiteId_with_null_temps = df_n_5[df_n_5['SiteId'].isin(SiteId_with_null_temps)].copy()\n",
    "df_SiteId_with_null_temps['isNull_Temp'] = df_SiteId_with_null_temps['Temperature'].isnull()\n",
    "df_null_temps = df_SiteId_with_null_temps.groupby('SiteId').agg({'isNull_Temp':['sum', 'count']})\n",
    "df_null_temps['isNull_Temp', 'Percent_Null'] = (df_null_temps['isNull_Temp', 'sum'] \n",
    "                                                / df_null_temps['isNull_Temp', 'count'])\n",
    "df_null_temps.head()"
   ]
  },
  {
   "cell_type": "code",
   "execution_count": 55,
   "metadata": {},
   "outputs": [
    {
     "data": {
      "text/html": [
       "<div>\n",
       "<style>\n",
       "    .dataframe thead tr:only-child th {\n",
       "        text-align: right;\n",
       "    }\n",
       "\n",
       "    .dataframe thead th {\n",
       "        text-align: left;\n",
       "    }\n",
       "\n",
       "    .dataframe tbody tr th {\n",
       "        vertical-align: top;\n",
       "    }\n",
       "</style>\n",
       "<table border=\"1\" class=\"dataframe\">\n",
       "  <thead>\n",
       "    <tr>\n",
       "      <th></th>\n",
       "      <th colspan=\"3\" halign=\"left\">isNull_Temp</th>\n",
       "    </tr>\n",
       "    <tr>\n",
       "      <th></th>\n",
       "      <th>sum</th>\n",
       "      <th>count</th>\n",
       "      <th>Percent_Null</th>\n",
       "    </tr>\n",
       "    <tr>\n",
       "      <th>SiteId</th>\n",
       "      <th></th>\n",
       "      <th></th>\n",
       "      <th></th>\n",
       "    </tr>\n",
       "  </thead>\n",
       "  <tbody>\n",
       "    <tr>\n",
       "      <th>105</th>\n",
       "      <td>964.0</td>\n",
       "      <td>964</td>\n",
       "      <td>1.000000</td>\n",
       "    </tr>\n",
       "    <tr>\n",
       "      <th>90</th>\n",
       "      <td>450.0</td>\n",
       "      <td>450</td>\n",
       "      <td>1.000000</td>\n",
       "    </tr>\n",
       "    <tr>\n",
       "      <th>85</th>\n",
       "      <td>964.0</td>\n",
       "      <td>964</td>\n",
       "      <td>1.000000</td>\n",
       "    </tr>\n",
       "    <tr>\n",
       "      <th>17</th>\n",
       "      <td>892.0</td>\n",
       "      <td>900</td>\n",
       "      <td>0.991111</td>\n",
       "    </tr>\n",
       "    <tr>\n",
       "      <th>18</th>\n",
       "      <td>892.0</td>\n",
       "      <td>900</td>\n",
       "      <td>0.991111</td>\n",
       "    </tr>\n",
       "    <tr>\n",
       "      <th>157</th>\n",
       "      <td>608.0</td>\n",
       "      <td>900</td>\n",
       "      <td>0.675556</td>\n",
       "    </tr>\n",
       "    <tr>\n",
       "      <th>44</th>\n",
       "      <td>478.0</td>\n",
       "      <td>964</td>\n",
       "      <td>0.495851</td>\n",
       "    </tr>\n",
       "    <tr>\n",
       "      <th>180</th>\n",
       "      <td>5784.0</td>\n",
       "      <td>17352</td>\n",
       "      <td>0.333333</td>\n",
       "    </tr>\n",
       "    <tr>\n",
       "      <th>93</th>\n",
       "      <td>5784.0</td>\n",
       "      <td>21208</td>\n",
       "      <td>0.272727</td>\n",
       "    </tr>\n",
       "    <tr>\n",
       "      <th>5</th>\n",
       "      <td>48.0</td>\n",
       "      <td>964</td>\n",
       "      <td>0.049793</td>\n",
       "    </tr>\n",
       "    <tr>\n",
       "      <th>106</th>\n",
       "      <td>964.0</td>\n",
       "      <td>48200</td>\n",
       "      <td>0.020000</td>\n",
       "    </tr>\n",
       "    <tr>\n",
       "      <th>151</th>\n",
       "      <td>293.0</td>\n",
       "      <td>23136</td>\n",
       "      <td>0.012664</td>\n",
       "    </tr>\n",
       "    <tr>\n",
       "      <th>2</th>\n",
       "      <td>12.0</td>\n",
       "      <td>34704</td>\n",
       "      <td>0.000346</td>\n",
       "    </tr>\n",
       "    <tr>\n",
       "      <th>6</th>\n",
       "      <td>48.0</td>\n",
       "      <td>140744</td>\n",
       "      <td>0.000341</td>\n",
       "    </tr>\n",
       "    <tr>\n",
       "      <th>134</th>\n",
       "      <td>5.0</td>\n",
       "      <td>26992</td>\n",
       "      <td>0.000185</td>\n",
       "    </tr>\n",
       "  </tbody>\n",
       "</table>\n",
       "</div>"
      ],
      "text/plain": [
       "       isNull_Temp                     \n",
       "               sum   count Percent_Null\n",
       "SiteId                                 \n",
       "105          964.0     964     1.000000\n",
       "90           450.0     450     1.000000\n",
       "85           964.0     964     1.000000\n",
       "17           892.0     900     0.991111\n",
       "18           892.0     900     0.991111\n",
       "157          608.0     900     0.675556\n",
       "44           478.0     964     0.495851\n",
       "180         5784.0   17352     0.333333\n",
       "93          5784.0   21208     0.272727\n",
       "5             48.0     964     0.049793\n",
       "106          964.0   48200     0.020000\n",
       "151          293.0   23136     0.012664\n",
       "2             12.0   34704     0.000346\n",
       "6             48.0  140744     0.000341\n",
       "134            5.0   26992     0.000185"
      ]
     },
     "execution_count": 55,
     "metadata": {},
     "output_type": "execute_result"
    }
   ],
   "source": [
    "# this shows that 79 of 91 SiteId's have 100% NaN weather values\n",
    "# later, let's put these 79 SiteId's + 6 with high %_Null in separate Machine Learning dataframe\n",
    "# inspect SiteId 180 & 93 for ForecastId's with weather data\n",
    "# the bottom 6 SiteId's seems reasonable to keep because the % NaN < 5% which is low\n",
    "# we can impute those values\n",
    "df_null_temps.sort_values([('isNull_Temp', 'Percent_Null')], ascending=False).tail(15)"
   ]
  },
  {
   "cell_type": "code",
   "execution_count": 56,
   "metadata": {},
   "outputs": [
    {
     "data": {
      "text/plain": [
       "85"
      ]
     },
     "execution_count": 56,
     "metadata": {},
     "output_type": "execute_result"
    }
   ],
   "source": [
    "# 85 SiteId's with no weather data\n",
    "keep_SiteId = list(df_null_temps[df_null_temps[('isNull_Temp', 'Percent_Null')] <= 0.05].index)\n",
    "no_weather_SiteId = [s for s in SiteId_with_null_temps if s not in keep_SiteId]\n",
    "\n",
    "len(no_weather_SiteId)"
   ]
  },
  {
   "cell_type": "markdown",
   "metadata": {},
   "source": [
    "# Interpolate Values"
   ]
  },
  {
   "cell_type": "code",
   "execution_count": 57,
   "metadata": {},
   "outputs": [],
   "source": [
    "df_n_6 = df_n_5.copy(deep=True)"
   ]
  },
  {
   "cell_type": "markdown",
   "metadata": {},
   "source": [
    "## Inspect NaN Values (before interpolation)"
   ]
  },
  {
   "cell_type": "code",
   "execution_count": 58,
   "metadata": {},
   "outputs": [
    {
     "data": {
      "text/html": [
       "<div>\n",
       "<style>\n",
       "    .dataframe thead tr:only-child th {\n",
       "        text-align: right;\n",
       "    }\n",
       "\n",
       "    .dataframe thead th {\n",
       "        text-align: left;\n",
       "    }\n",
       "\n",
       "    .dataframe tbody tr th {\n",
       "        vertical-align: top;\n",
       "    }\n",
       "</style>\n",
       "<table border=\"1\" class=\"dataframe\">\n",
       "  <thead>\n",
       "    <tr style=\"text-align: right;\">\n",
       "      <th></th>\n",
       "      <th>Nulls</th>\n",
       "      <th>Entries</th>\n",
       "    </tr>\n",
       "    <tr>\n",
       "      <th>ForecastId</th>\n",
       "      <th></th>\n",
       "      <th></th>\n",
       "    </tr>\n",
       "  </thead>\n",
       "  <tbody>\n",
       "    <tr>\n",
       "      <th>1</th>\n",
       "      <td>8</td>\n",
       "      <td>360</td>\n",
       "    </tr>\n",
       "    <tr>\n",
       "      <th>2</th>\n",
       "      <td>2</td>\n",
       "      <td>90</td>\n",
       "    </tr>\n",
       "    <tr>\n",
       "      <th>3</th>\n",
       "      <td>6</td>\n",
       "      <td>360</td>\n",
       "    </tr>\n",
       "    <tr>\n",
       "      <th>4</th>\n",
       "      <td>0</td>\n",
       "      <td>90</td>\n",
       "    </tr>\n",
       "    <tr>\n",
       "      <th>5</th>\n",
       "      <td>6</td>\n",
       "      <td>964</td>\n",
       "    </tr>\n",
       "  </tbody>\n",
       "</table>\n",
       "</div>"
      ],
      "text/plain": [
       "            Nulls  Entries\n",
       "ForecastId                \n",
       "1               8      360\n",
       "2               2       90\n",
       "3               6      360\n",
       "4               0       90\n",
       "5               6      964"
      ]
     },
     "execution_count": 58,
     "metadata": {},
     "output_type": "execute_result"
    }
   ],
   "source": [
    "# create dataframe to inspect the distribution of NaN Value across ForecastId\n",
    "Nulls = df_n_6.groupby(['ForecastId']).apply(lambda row: row['Value'].isnull().sum())\n",
    "Entries = df_n_6.groupby(['ForecastId']).apply(lambda row: row['Timestamp'].count())\n",
    "df_NaN = pd.concat([Nulls, Entries], axis=1)\n",
    "df_NaN.columns = ['Nulls', 'Entries']\n",
    "df_NaN.head()"
   ]
  },
  {
   "cell_type": "code",
   "execution_count": 59,
   "metadata": {},
   "outputs": [
    {
     "data": {
      "text/html": [
       "<div>\n",
       "<style>\n",
       "    .dataframe thead tr:only-child th {\n",
       "        text-align: right;\n",
       "    }\n",
       "\n",
       "    .dataframe thead th {\n",
       "        text-align: left;\n",
       "    }\n",
       "\n",
       "    .dataframe tbody tr th {\n",
       "        vertical-align: top;\n",
       "    }\n",
       "</style>\n",
       "<table border=\"1\" class=\"dataframe\">\n",
       "  <thead>\n",
       "    <tr style=\"text-align: right;\">\n",
       "      <th></th>\n",
       "      <th>ForecastId</th>\n",
       "      <th>ForecastPeriodMin</th>\n",
       "      <th>Nulls</th>\n",
       "      <th>Entries</th>\n",
       "      <th>percent_NaN</th>\n",
       "    </tr>\n",
       "  </thead>\n",
       "  <tbody>\n",
       "    <tr>\n",
       "      <th>0</th>\n",
       "      <td>1</td>\n",
       "      <td>1440</td>\n",
       "      <td>8</td>\n",
       "      <td>360</td>\n",
       "      <td>0.022222</td>\n",
       "    </tr>\n",
       "    <tr>\n",
       "      <th>1</th>\n",
       "      <td>2</td>\n",
       "      <td>1440</td>\n",
       "      <td>2</td>\n",
       "      <td>90</td>\n",
       "      <td>0.022222</td>\n",
       "    </tr>\n",
       "    <tr>\n",
       "      <th>2</th>\n",
       "      <td>3</td>\n",
       "      <td>1440</td>\n",
       "      <td>6</td>\n",
       "      <td>360</td>\n",
       "      <td>0.016667</td>\n",
       "    </tr>\n",
       "    <tr>\n",
       "      <th>3</th>\n",
       "      <td>4</td>\n",
       "      <td>1440</td>\n",
       "      <td>0</td>\n",
       "      <td>90</td>\n",
       "      <td>0.000000</td>\n",
       "    </tr>\n",
       "    <tr>\n",
       "      <th>4</th>\n",
       "      <td>5</td>\n",
       "      <td>60</td>\n",
       "      <td>6</td>\n",
       "      <td>964</td>\n",
       "      <td>0.006224</td>\n",
       "    </tr>\n",
       "  </tbody>\n",
       "</table>\n",
       "</div>"
      ],
      "text/plain": [
       "   ForecastId  ForecastPeriodMin  Nulls  Entries  percent_NaN\n",
       "0           1               1440      8      360     0.022222\n",
       "1           2               1440      2       90     0.022222\n",
       "2           3               1440      6      360     0.016667\n",
       "3           4               1440      0       90     0.000000\n",
       "4           5                 60      6      964     0.006224"
      ]
     },
     "execution_count": 59,
     "metadata": {},
     "output_type": "execute_result"
    }
   ],
   "source": [
    "# merge with df_submission_frequency to chart by submission frequency\n",
    "df_NaN = df_NaN.merge(df_submission_frequency, left_index=True, right_on='ForecastId')\n",
    "df_NaN = df_NaN.drop('ForecastPeriodNS', axis=1)\n",
    "df_NaN = df_NaN[['ForecastId', 'ForecastPeriodMin', 'Nulls', 'Entries']]\n",
    "df_NaN['percent_NaN'] = df_NaN['Nulls'] / df_NaN['Entries']\n",
    "df_NaN.head()"
   ]
  },
  {
   "cell_type": "code",
   "execution_count": 60,
   "metadata": {},
   "outputs": [
    {
     "data": {
      "text/plain": [
       "count    6974.000000\n",
       "mean        0.013120\n",
       "std         0.068275\n",
       "min         0.000000\n",
       "25%         0.000000\n",
       "50%         0.000000\n",
       "75%         0.003112\n",
       "max         1.000000\n",
       "Name: percent_NaN, dtype: float64"
      ]
     },
     "execution_count": 60,
     "metadata": {},
     "output_type": "execute_result"
    }
   ],
   "source": [
    "df_NaN['percent_NaN'].describe()"
   ]
  },
  {
   "cell_type": "code",
   "execution_count": 61,
   "metadata": {},
   "outputs": [
    {
     "data": {
      "text/html": [
       "<div>\n",
       "<style>\n",
       "    .dataframe thead tr:only-child th {\n",
       "        text-align: right;\n",
       "    }\n",
       "\n",
       "    .dataframe thead th {\n",
       "        text-align: left;\n",
       "    }\n",
       "\n",
       "    .dataframe tbody tr th {\n",
       "        vertical-align: top;\n",
       "    }\n",
       "</style>\n",
       "<table border=\"1\" class=\"dataframe\">\n",
       "  <thead>\n",
       "    <tr style=\"text-align: right;\">\n",
       "      <th></th>\n",
       "      <th>ForecastId</th>\n",
       "      <th>ForecastPeriodMin</th>\n",
       "      <th>Nulls</th>\n",
       "      <th>Entries</th>\n",
       "      <th>percent_NaN</th>\n",
       "    </tr>\n",
       "  </thead>\n",
       "  <tbody>\n",
       "    <tr>\n",
       "      <th>700</th>\n",
       "      <td>701</td>\n",
       "      <td>15</td>\n",
       "      <td>964</td>\n",
       "      <td>964</td>\n",
       "      <td>1.0</td>\n",
       "    </tr>\n",
       "    <tr>\n",
       "      <th>6067</th>\n",
       "      <td>6068</td>\n",
       "      <td>15</td>\n",
       "      <td>964</td>\n",
       "      <td>964</td>\n",
       "      <td>1.0</td>\n",
       "    </tr>\n",
       "    <tr>\n",
       "      <th>756</th>\n",
       "      <td>757</td>\n",
       "      <td>15</td>\n",
       "      <td>964</td>\n",
       "      <td>964</td>\n",
       "      <td>1.0</td>\n",
       "    </tr>\n",
       "    <tr>\n",
       "      <th>4491</th>\n",
       "      <td>4492</td>\n",
       "      <td>15</td>\n",
       "      <td>964</td>\n",
       "      <td>964</td>\n",
       "      <td>1.0</td>\n",
       "    </tr>\n",
       "    <tr>\n",
       "      <th>1398</th>\n",
       "      <td>1399</td>\n",
       "      <td>15</td>\n",
       "      <td>964</td>\n",
       "      <td>964</td>\n",
       "      <td>1.0</td>\n",
       "    </tr>\n",
       "  </tbody>\n",
       "</table>\n",
       "</div>"
      ],
      "text/plain": [
       "      ForecastId  ForecastPeriodMin  Nulls  Entries  percent_NaN\n",
       "700          701                 15    964      964          1.0\n",
       "6067        6068                 15    964      964          1.0\n",
       "756          757                 15    964      964          1.0\n",
       "4491        4492                 15    964      964          1.0\n",
       "1398        1399                 15    964      964          1.0"
      ]
     },
     "execution_count": 61,
     "metadata": {},
     "output_type": "execute_result"
    }
   ],
   "source": [
    "df_NaN.sort_values('percent_NaN', ascending=False).head()"
   ]
  },
  {
   "cell_type": "code",
   "execution_count": 62,
   "metadata": {},
   "outputs": [
    {
     "name": "stdout",
     "output_type": "stream",
     "text": [
      "Potential to Remove \t Rows: 86601 \t Percent of Data: 0.01\n"
     ]
    }
   ],
   "source": [
    "# if we just delete all NaN values, we delete rows 86,601 rows (~1% of data)\n",
    "print(\"Potential to Remove \\t Rows: {} \\t Percent of Data: {}\".format(df_NaN['Nulls'].sum(), round(df_NaN['Nulls'].sum() / df_NaN['Entries'].sum(), 2)))"
   ]
  },
  {
   "cell_type": "code",
   "execution_count": 63,
   "metadata": {},
   "outputs": [
    {
     "name": "stdout",
     "output_type": "stream",
     "text": [
      "Potential to Remove \t Rows: 2081362 \t Percent of Data: 0.32\n"
     ]
    }
   ],
   "source": [
    "# if we delete all Forecasts that contain one or more NaN Values, we delete 2,081,362 rows (~30% data)\n",
    "print(\"Potential to Remove \\t Rows: {} \\t Percent of Data: {}\".format(df_NaN[df_NaN['percent_NaN'] > 0].Entries.sum(), round(df_NaN[df_NaN['percent_NaN'] > 0].Entries.sum() / df_NaN['Entries'].sum(), 2)))"
   ]
  },
  {
   "cell_type": "code",
   "execution_count": 64,
   "metadata": {},
   "outputs": [
    {
     "data": {
      "image/png": "[encoded data removed]",
      "text/plain": [
       "<matplotlib.figure.Figure at 0x1893746a0>"
      ]
     },
     "metadata": {},
     "output_type": "display_data"
    }
   ],
   "source": [
    "# histogram of ForecastId's with NaN values greater than 1% of series data\n",
    "# takeaway: a lot of ForecastId's have a < 5% of missing data, while a few have more than 5%\n",
    "fig = plt.figure(figsize=(6,4))\n",
    "plt.hist(df_NaN[df_NaN['percent_NaN'] > 0.01]['percent_NaN'], bins=100)\n",
    "plt.title(\"Train.csv: Histogram of Percent NaN by ForecastId\", size=12)\n",
    "plt.xlabel(\"Percent NaN Value Data\", size=12)\n",
    "plt.ylabel(\"Number of ForecastId's\", size=12)\n",
    "plt.tight_layout();\n",
    "fig.savefig(\"EDA_hist_percent_NaNbyForecastId_greaterthan1percent.png\")"
   ]
  },
  {
   "cell_type": "markdown",
   "metadata": {},
   "source": [
    "## [D] Interpolate NaN Values"
   ]
  },
  {
   "cell_type": "code",
   "execution_count": 65,
   "metadata": {},
   "outputs": [
    {
     "data": {
      "text/html": [
       "<div>\n",
       "<style>\n",
       "    .dataframe thead tr:only-child th {\n",
       "        text-align: right;\n",
       "    }\n",
       "\n",
       "    .dataframe thead th {\n",
       "        text-align: left;\n",
       "    }\n",
       "\n",
       "    .dataframe tbody tr th {\n",
       "        vertical-align: top;\n",
       "    }\n",
       "</style>\n",
       "<table border=\"1\" class=\"dataframe\">\n",
       "  <thead>\n",
       "    <tr style=\"text-align: right;\">\n",
       "      <th></th>\n",
       "      <th>obs_id</th>\n",
       "      <th>SiteId</th>\n",
       "      <th>Timestamp</th>\n",
       "      <th>ForecastId</th>\n",
       "      <th>Value</th>\n",
       "      <th>ForecastPeriodMin</th>\n",
       "      <th>Surface</th>\n",
       "      <th>BaseTemperature</th>\n",
       "      <th>isDayOff</th>\n",
       "      <th>isHoliday</th>\n",
       "      <th>Temperature</th>\n",
       "      <th>Value_Int</th>\n",
       "    </tr>\n",
       "  </thead>\n",
       "  <tbody>\n",
       "    <tr>\n",
       "      <th>0</th>\n",
       "      <td>744519</td>\n",
       "      <td>1</td>\n",
       "      <td>2014-09-03</td>\n",
       "      <td>1</td>\n",
       "      <td>9.096555e+05</td>\n",
       "      <td>1440</td>\n",
       "      <td>1387.205119</td>\n",
       "      <td>18.0</td>\n",
       "      <td>0</td>\n",
       "      <td>0</td>\n",
       "      <td>19.0</td>\n",
       "      <td>9.096555e+05</td>\n",
       "    </tr>\n",
       "    <tr>\n",
       "      <th>1</th>\n",
       "      <td>7627564</td>\n",
       "      <td>1</td>\n",
       "      <td>2014-09-04</td>\n",
       "      <td>1</td>\n",
       "      <td>1.748273e+06</td>\n",
       "      <td>1440</td>\n",
       "      <td>1387.205119</td>\n",
       "      <td>18.0</td>\n",
       "      <td>0</td>\n",
       "      <td>0</td>\n",
       "      <td>20.0</td>\n",
       "      <td>1.748273e+06</td>\n",
       "    </tr>\n",
       "    <tr>\n",
       "      <th>2</th>\n",
       "      <td>7034705</td>\n",
       "      <td>1</td>\n",
       "      <td>2014-09-05</td>\n",
       "      <td>1</td>\n",
       "      <td>NaN</td>\n",
       "      <td>1440</td>\n",
       "      <td>1387.205119</td>\n",
       "      <td>18.0</td>\n",
       "      <td>0</td>\n",
       "      <td>0</td>\n",
       "      <td>22.0</td>\n",
       "      <td>1.802424e+06</td>\n",
       "    </tr>\n",
       "    <tr>\n",
       "      <th>3</th>\n",
       "      <td>5995486</td>\n",
       "      <td>1</td>\n",
       "      <td>2014-09-06</td>\n",
       "      <td>1</td>\n",
       "      <td>NaN</td>\n",
       "      <td>1440</td>\n",
       "      <td>1387.205119</td>\n",
       "      <td>18.0</td>\n",
       "      <td>1</td>\n",
       "      <td>0</td>\n",
       "      <td>21.0</td>\n",
       "      <td>1.856576e+06</td>\n",
       "    </tr>\n",
       "    <tr>\n",
       "      <th>4</th>\n",
       "      <td>7326510</td>\n",
       "      <td>1</td>\n",
       "      <td>2014-09-07</td>\n",
       "      <td>1</td>\n",
       "      <td>NaN</td>\n",
       "      <td>1440</td>\n",
       "      <td>1387.205119</td>\n",
       "      <td>18.0</td>\n",
       "      <td>1</td>\n",
       "      <td>0</td>\n",
       "      <td>13.0</td>\n",
       "      <td>1.910727e+06</td>\n",
       "    </tr>\n",
       "    <tr>\n",
       "      <th>5</th>\n",
       "      <td>3625268</td>\n",
       "      <td>1</td>\n",
       "      <td>2014-09-08</td>\n",
       "      <td>1</td>\n",
       "      <td>1.964878e+06</td>\n",
       "      <td>1440</td>\n",
       "      <td>1387.205119</td>\n",
       "      <td>18.0</td>\n",
       "      <td>0</td>\n",
       "      <td>0</td>\n",
       "      <td>12.0</td>\n",
       "      <td>1.964878e+06</td>\n",
       "    </tr>\n",
       "    <tr>\n",
       "      <th>6</th>\n",
       "      <td>6038546</td>\n",
       "      <td>1</td>\n",
       "      <td>2014-09-09</td>\n",
       "      <td>1</td>\n",
       "      <td>3.266904e+06</td>\n",
       "      <td>1440</td>\n",
       "      <td>1387.205119</td>\n",
       "      <td>18.0</td>\n",
       "      <td>0</td>\n",
       "      <td>0</td>\n",
       "      <td>17.0</td>\n",
       "      <td>3.266904e+06</td>\n",
       "    </tr>\n",
       "    <tr>\n",
       "      <th>7</th>\n",
       "      <td>4114748</td>\n",
       "      <td>1</td>\n",
       "      <td>2014-09-10</td>\n",
       "      <td>1</td>\n",
       "      <td>2.926094e+06</td>\n",
       "      <td>1440</td>\n",
       "      <td>1387.205119</td>\n",
       "      <td>18.0</td>\n",
       "      <td>0</td>\n",
       "      <td>0</td>\n",
       "      <td>17.0</td>\n",
       "      <td>2.926094e+06</td>\n",
       "    </tr>\n",
       "    <tr>\n",
       "      <th>8</th>\n",
       "      <td>2572804</td>\n",
       "      <td>1</td>\n",
       "      <td>2014-09-11</td>\n",
       "      <td>1</td>\n",
       "      <td>1.720502e+06</td>\n",
       "      <td>1440</td>\n",
       "      <td>1387.205119</td>\n",
       "      <td>18.0</td>\n",
       "      <td>0</td>\n",
       "      <td>0</td>\n",
       "      <td>23.0</td>\n",
       "      <td>1.720502e+06</td>\n",
       "    </tr>\n",
       "    <tr>\n",
       "      <th>9</th>\n",
       "      <td>2078763</td>\n",
       "      <td>1</td>\n",
       "      <td>2014-09-12</td>\n",
       "      <td>1</td>\n",
       "      <td>1.136248e+06</td>\n",
       "      <td>1440</td>\n",
       "      <td>1387.205119</td>\n",
       "      <td>18.0</td>\n",
       "      <td>0</td>\n",
       "      <td>0</td>\n",
       "      <td>12.0</td>\n",
       "      <td>1.136248e+06</td>\n",
       "    </tr>\n",
       "  </tbody>\n",
       "</table>\n",
       "</div>"
      ],
      "text/plain": [
       "    obs_id  SiteId  Timestamp  ForecastId         Value  ForecastPeriodMin  \\\n",
       "0   744519       1 2014-09-03           1  9.096555e+05               1440   \n",
       "1  7627564       1 2014-09-04           1  1.748273e+06               1440   \n",
       "2  7034705       1 2014-09-05           1           NaN               1440   \n",
       "3  5995486       1 2014-09-06           1           NaN               1440   \n",
       "4  7326510       1 2014-09-07           1           NaN               1440   \n",
       "5  3625268       1 2014-09-08           1  1.964878e+06               1440   \n",
       "6  6038546       1 2014-09-09           1  3.266904e+06               1440   \n",
       "7  4114748       1 2014-09-10           1  2.926094e+06               1440   \n",
       "8  2572804       1 2014-09-11           1  1.720502e+06               1440   \n",
       "9  2078763       1 2014-09-12           1  1.136248e+06               1440   \n",
       "\n",
       "       Surface  BaseTemperature  isDayOff  isHoliday  Temperature  \\\n",
       "0  1387.205119             18.0         0          0         19.0   \n",
       "1  1387.205119             18.0         0          0         20.0   \n",
       "2  1387.205119             18.0         0          0         22.0   \n",
       "3  1387.205119             18.0         1          0         21.0   \n",
       "4  1387.205119             18.0         1          0         13.0   \n",
       "5  1387.205119             18.0         0          0         12.0   \n",
       "6  1387.205119             18.0         0          0         17.0   \n",
       "7  1387.205119             18.0         0          0         17.0   \n",
       "8  1387.205119             18.0         0          0         23.0   \n",
       "9  1387.205119             18.0         0          0         12.0   \n",
       "\n",
       "      Value_Int  \n",
       "0  9.096555e+05  \n",
       "1  1.748273e+06  \n",
       "2  1.802424e+06  \n",
       "3  1.856576e+06  \n",
       "4  1.910727e+06  \n",
       "5  1.964878e+06  \n",
       "6  3.266904e+06  \n",
       "7  2.926094e+06  \n",
       "8  1.720502e+06  \n",
       "9  1.136248e+06  "
      ]
     },
     "execution_count": 65,
     "metadata": {},
     "output_type": "execute_result"
    }
   ],
   "source": [
    "### VALIDATED - BUT ONLY WORKS MOVING FORWARD, NOT BACKFILL ###\n",
    "### https://github.com/pandas-dev/pandas/issues/10420 ###\n",
    "\n",
    "# add flag for \"is_int\"\n",
    "df_n_6['Value_Int'] = df_n_6.groupby(['SiteId', 'ForecastId'])['Value'].apply(lambda x: x.interpolate(method='linear'))\n",
    "df_n_6.head(10)"
   ]
  },
  {
   "cell_type": "code",
   "execution_count": 66,
   "metadata": {},
   "outputs": [
    {
     "data": {
      "text/plain": [
       "False    6534350\n",
       "True       25480\n",
       "Name: Value_Int, dtype: int64"
      ]
     },
     "execution_count": 66,
     "metadata": {},
     "output_type": "execute_result"
    }
   ],
   "source": [
    "# 25,480 number of NaN values in training data set after interpolation\n",
    "df_n_6.Value_Int.isnull().value_counts()"
   ]
  },
  {
   "cell_type": "code",
   "execution_count": 67,
   "metadata": {},
   "outputs": [
    {
     "data": {
      "text/plain": [
       "58"
      ]
     },
     "execution_count": 67,
     "metadata": {},
     "output_type": "execute_result"
    }
   ],
   "source": [
    "# 58 Number of SiteId with one or more single NaN values after interpolation\n",
    "df_n_6[df_n_6.Value_Int.isnull()].groupby(['SiteId']).sum()['Value_Int'].isnull().sum()"
   ]
  },
  {
   "cell_type": "code",
   "execution_count": 68,
   "metadata": {},
   "outputs": [
    {
     "data": {
      "text/plain": [
       "104"
      ]
     },
     "execution_count": 68,
     "metadata": {},
     "output_type": "execute_result"
    }
   ],
   "source": [
    "# 104 Number of ForecastId with one or more single NaN values after interpolation\n",
    "df_n_6[df_n_6['Value_Int'].isnull()].groupby(['ForecastId']).sum()['Value_Int'].isnull().sum()"
   ]
  },
  {
   "cell_type": "markdown",
   "metadata": {},
   "source": [
    "### Inspect NaN Values (after interpolation)"
   ]
  },
  {
   "cell_type": "code",
   "execution_count": 69,
   "metadata": {},
   "outputs": [
    {
     "data": {
      "text/html": [
       "<div>\n",
       "<style>\n",
       "    .dataframe thead tr:only-child th {\n",
       "        text-align: right;\n",
       "    }\n",
       "\n",
       "    .dataframe thead th {\n",
       "        text-align: left;\n",
       "    }\n",
       "\n",
       "    .dataframe tbody tr th {\n",
       "        vertical-align: top;\n",
       "    }\n",
       "</style>\n",
       "<table border=\"1\" class=\"dataframe\">\n",
       "  <thead>\n",
       "    <tr style=\"text-align: right;\">\n",
       "      <th></th>\n",
       "      <th>Nulls</th>\n",
       "      <th>Entries</th>\n",
       "    </tr>\n",
       "    <tr>\n",
       "      <th>ForecastId</th>\n",
       "      <th></th>\n",
       "      <th></th>\n",
       "    </tr>\n",
       "  </thead>\n",
       "  <tbody>\n",
       "    <tr>\n",
       "      <th>1</th>\n",
       "      <td>0</td>\n",
       "      <td>360</td>\n",
       "    </tr>\n",
       "    <tr>\n",
       "      <th>2</th>\n",
       "      <td>0</td>\n",
       "      <td>90</td>\n",
       "    </tr>\n",
       "    <tr>\n",
       "      <th>3</th>\n",
       "      <td>0</td>\n",
       "      <td>360</td>\n",
       "    </tr>\n",
       "    <tr>\n",
       "      <th>4</th>\n",
       "      <td>0</td>\n",
       "      <td>90</td>\n",
       "    </tr>\n",
       "    <tr>\n",
       "      <th>5</th>\n",
       "      <td>0</td>\n",
       "      <td>964</td>\n",
       "    </tr>\n",
       "  </tbody>\n",
       "</table>\n",
       "</div>"
      ],
      "text/plain": [
       "            Nulls  Entries\n",
       "ForecastId                \n",
       "1               0      360\n",
       "2               0       90\n",
       "3               0      360\n",
       "4               0       90\n",
       "5               0      964"
      ]
     },
     "execution_count": 69,
     "metadata": {},
     "output_type": "execute_result"
    }
   ],
   "source": [
    "# create dataframe to inspect the distribution of NaN Value across ForecastId\n",
    "Nulls_2 = df_n_6.groupby(['ForecastId']).apply(lambda row: row['Value_Int'].isnull().sum())\n",
    "Entries_2 = df_n_6.groupby(['ForecastId']).apply(lambda row: row['Timestamp'].count())\n",
    "df_NaN_2 = pd.concat([Nulls_2, Entries_2], axis=1)\n",
    "df_NaN_2.columns = ['Nulls', 'Entries']\n",
    "df_NaN_2.head()"
   ]
  },
  {
   "cell_type": "code",
   "execution_count": 70,
   "metadata": {},
   "outputs": [
    {
     "data": {
      "text/html": [
       "<div>\n",
       "<style>\n",
       "    .dataframe thead tr:only-child th {\n",
       "        text-align: right;\n",
       "    }\n",
       "\n",
       "    .dataframe thead th {\n",
       "        text-align: left;\n",
       "    }\n",
       "\n",
       "    .dataframe tbody tr th {\n",
       "        vertical-align: top;\n",
       "    }\n",
       "</style>\n",
       "<table border=\"1\" class=\"dataframe\">\n",
       "  <thead>\n",
       "    <tr style=\"text-align: right;\">\n",
       "      <th></th>\n",
       "      <th>ForecastId</th>\n",
       "      <th>ForecastPeriodMin</th>\n",
       "      <th>Nulls</th>\n",
       "      <th>Entries</th>\n",
       "      <th>percent_NaN</th>\n",
       "    </tr>\n",
       "  </thead>\n",
       "  <tbody>\n",
       "    <tr>\n",
       "      <th>0</th>\n",
       "      <td>1</td>\n",
       "      <td>1440</td>\n",
       "      <td>0</td>\n",
       "      <td>360</td>\n",
       "      <td>0.0</td>\n",
       "    </tr>\n",
       "    <tr>\n",
       "      <th>1</th>\n",
       "      <td>2</td>\n",
       "      <td>1440</td>\n",
       "      <td>0</td>\n",
       "      <td>90</td>\n",
       "      <td>0.0</td>\n",
       "    </tr>\n",
       "    <tr>\n",
       "      <th>2</th>\n",
       "      <td>3</td>\n",
       "      <td>1440</td>\n",
       "      <td>0</td>\n",
       "      <td>360</td>\n",
       "      <td>0.0</td>\n",
       "    </tr>\n",
       "    <tr>\n",
       "      <th>3</th>\n",
       "      <td>4</td>\n",
       "      <td>1440</td>\n",
       "      <td>0</td>\n",
       "      <td>90</td>\n",
       "      <td>0.0</td>\n",
       "    </tr>\n",
       "    <tr>\n",
       "      <th>4</th>\n",
       "      <td>5</td>\n",
       "      <td>60</td>\n",
       "      <td>0</td>\n",
       "      <td>964</td>\n",
       "      <td>0.0</td>\n",
       "    </tr>\n",
       "  </tbody>\n",
       "</table>\n",
       "</div>"
      ],
      "text/plain": [
       "   ForecastId  ForecastPeriodMin  Nulls  Entries  percent_NaN\n",
       "0           1               1440      0      360          0.0\n",
       "1           2               1440      0       90          0.0\n",
       "2           3               1440      0      360          0.0\n",
       "3           4               1440      0       90          0.0\n",
       "4           5                 60      0      964          0.0"
      ]
     },
     "execution_count": 70,
     "metadata": {},
     "output_type": "execute_result"
    }
   ],
   "source": [
    "# merge with df_submission_frequency to chart by frequencies\n",
    "df_NaN_2 = df_NaN_2.merge(df_submission_frequency, left_index=True, right_on='ForecastId')\n",
    "df_NaN_2 = df_NaN_2.drop('ForecastPeriodNS', axis=1)\n",
    "df_NaN_2 = df_NaN_2[['ForecastId', 'ForecastPeriodMin', 'Nulls', 'Entries']]\n",
    "df_NaN_2['percent_NaN'] = df_NaN_2['Nulls'] / df_NaN_2['Entries']\n",
    "df_NaN_2.head()"
   ]
  },
  {
   "cell_type": "code",
   "execution_count": 71,
   "metadata": {},
   "outputs": [
    {
     "data": {
      "text/plain": [
       "count    6974.000000\n",
       "mean        0.003808\n",
       "std         0.051750\n",
       "min         0.000000\n",
       "25%         0.000000\n",
       "50%         0.000000\n",
       "75%         0.000000\n",
       "max         1.000000\n",
       "Name: percent_NaN, dtype: float64"
      ]
     },
     "execution_count": 71,
     "metadata": {},
     "output_type": "execute_result"
    }
   ],
   "source": [
    "df_NaN_2['percent_NaN'].describe()"
   ]
  },
  {
   "cell_type": "code",
   "execution_count": 72,
   "metadata": {},
   "outputs": [
    {
     "data": {
      "text/html": [
       "<div>\n",
       "<style>\n",
       "    .dataframe thead tr:only-child th {\n",
       "        text-align: right;\n",
       "    }\n",
       "\n",
       "    .dataframe thead th {\n",
       "        text-align: left;\n",
       "    }\n",
       "\n",
       "    .dataframe tbody tr th {\n",
       "        vertical-align: top;\n",
       "    }\n",
       "</style>\n",
       "<table border=\"1\" class=\"dataframe\">\n",
       "  <thead>\n",
       "    <tr style=\"text-align: right;\">\n",
       "      <th></th>\n",
       "      <th>ForecastId</th>\n",
       "      <th>ForecastPeriodMin</th>\n",
       "      <th>Nulls</th>\n",
       "      <th>Entries</th>\n",
       "      <th>percent_NaN</th>\n",
       "    </tr>\n",
       "  </thead>\n",
       "  <tbody>\n",
       "    <tr>\n",
       "      <th>2338</th>\n",
       "      <td>2339</td>\n",
       "      <td>15</td>\n",
       "      <td>0</td>\n",
       "      <td>964</td>\n",
       "      <td>0.0</td>\n",
       "    </tr>\n",
       "    <tr>\n",
       "      <th>2337</th>\n",
       "      <td>2338</td>\n",
       "      <td>15</td>\n",
       "      <td>0</td>\n",
       "      <td>964</td>\n",
       "      <td>0.0</td>\n",
       "    </tr>\n",
       "    <tr>\n",
       "      <th>2336</th>\n",
       "      <td>2337</td>\n",
       "      <td>15</td>\n",
       "      <td>0</td>\n",
       "      <td>964</td>\n",
       "      <td>0.0</td>\n",
       "    </tr>\n",
       "    <tr>\n",
       "      <th>2335</th>\n",
       "      <td>2336</td>\n",
       "      <td>15</td>\n",
       "      <td>0</td>\n",
       "      <td>964</td>\n",
       "      <td>0.0</td>\n",
       "    </tr>\n",
       "    <tr>\n",
       "      <th>6973</th>\n",
       "      <td>6974</td>\n",
       "      <td>15</td>\n",
       "      <td>0</td>\n",
       "      <td>964</td>\n",
       "      <td>0.0</td>\n",
       "    </tr>\n",
       "  </tbody>\n",
       "</table>\n",
       "</div>"
      ],
      "text/plain": [
       "      ForecastId  ForecastPeriodMin  Nulls  Entries  percent_NaN\n",
       "2338        2339                 15      0      964          0.0\n",
       "2337        2338                 15      0      964          0.0\n",
       "2336        2337                 15      0      964          0.0\n",
       "2335        2336                 15      0      964          0.0\n",
       "6973        6974                 15      0      964          0.0"
      ]
     },
     "execution_count": 72,
     "metadata": {},
     "output_type": "execute_result"
    }
   ],
   "source": [
    "df_NaN_2.sort_values('percent_NaN', ascending=False).tail()"
   ]
  },
  {
   "cell_type": "code",
   "execution_count": 73,
   "metadata": {},
   "outputs": [
    {
     "data": {
      "text/plain": [
       "2"
      ]
     },
     "execution_count": 73,
     "metadata": {},
     "output_type": "execute_result"
    }
   ],
   "source": [
    "# in the case of ForecastId == 1378, 2 NaN Value_Int remain after interpolation\n",
    "df_n_6[df_n_6['ForecastId'] == 1378].loc[:,'Value_Int'].isnull().sum()"
   ]
  },
  {
   "cell_type": "code",
   "execution_count": 74,
   "metadata": {},
   "outputs": [
    {
     "data": {
      "text/html": [
       "<div>\n",
       "<style>\n",
       "    .dataframe thead tr:only-child th {\n",
       "        text-align: right;\n",
       "    }\n",
       "\n",
       "    .dataframe thead th {\n",
       "        text-align: left;\n",
       "    }\n",
       "\n",
       "    .dataframe tbody tr th {\n",
       "        vertical-align: top;\n",
       "    }\n",
       "</style>\n",
       "<table border=\"1\" class=\"dataframe\">\n",
       "  <thead>\n",
       "    <tr style=\"text-align: right;\">\n",
       "      <th></th>\n",
       "      <th>obs_id</th>\n",
       "      <th>SiteId</th>\n",
       "      <th>Timestamp</th>\n",
       "      <th>ForecastId</th>\n",
       "      <th>Value</th>\n",
       "      <th>ForecastPeriodMin</th>\n",
       "      <th>Surface</th>\n",
       "      <th>BaseTemperature</th>\n",
       "      <th>isDayOff</th>\n",
       "      <th>isHoliday</th>\n",
       "      <th>Temperature</th>\n",
       "      <th>Value_Int</th>\n",
       "    </tr>\n",
       "  </thead>\n",
       "  <tbody>\n",
       "    <tr>\n",
       "      <th>1296660</th>\n",
       "      <td>5949244</td>\n",
       "      <td>60</td>\n",
       "      <td>2016-03-09 01:30:00</td>\n",
       "      <td>1378</td>\n",
       "      <td>NaN</td>\n",
       "      <td>60</td>\n",
       "      <td>646.950606</td>\n",
       "      <td>18.0</td>\n",
       "      <td>0</td>\n",
       "      <td>0</td>\n",
       "      <td>NaN</td>\n",
       "      <td>NaN</td>\n",
       "    </tr>\n",
       "    <tr>\n",
       "      <th>1296661</th>\n",
       "      <td>4987235</td>\n",
       "      <td>60</td>\n",
       "      <td>2016-03-09 02:30:00</td>\n",
       "      <td>1378</td>\n",
       "      <td>NaN</td>\n",
       "      <td>60</td>\n",
       "      <td>646.950606</td>\n",
       "      <td>18.0</td>\n",
       "      <td>0</td>\n",
       "      <td>0</td>\n",
       "      <td>NaN</td>\n",
       "      <td>NaN</td>\n",
       "    </tr>\n",
       "    <tr>\n",
       "      <th>1296662</th>\n",
       "      <td>1715606</td>\n",
       "      <td>60</td>\n",
       "      <td>2016-03-09 03:30:00</td>\n",
       "      <td>1378</td>\n",
       "      <td>9567.609451</td>\n",
       "      <td>60</td>\n",
       "      <td>646.950606</td>\n",
       "      <td>18.0</td>\n",
       "      <td>0</td>\n",
       "      <td>0</td>\n",
       "      <td>NaN</td>\n",
       "      <td>9567.609451</td>\n",
       "    </tr>\n",
       "    <tr>\n",
       "      <th>1296663</th>\n",
       "      <td>2768547</td>\n",
       "      <td>60</td>\n",
       "      <td>2016-03-09 04:30:00</td>\n",
       "      <td>1378</td>\n",
       "      <td>9483.626864</td>\n",
       "      <td>60</td>\n",
       "      <td>646.950606</td>\n",
       "      <td>18.0</td>\n",
       "      <td>0</td>\n",
       "      <td>0</td>\n",
       "      <td>NaN</td>\n",
       "      <td>9483.626864</td>\n",
       "    </tr>\n",
       "    <tr>\n",
       "      <th>1296664</th>\n",
       "      <td>1940139</td>\n",
       "      <td>60</td>\n",
       "      <td>2016-03-09 05:30:00</td>\n",
       "      <td>1378</td>\n",
       "      <td>9748.385528</td>\n",
       "      <td>60</td>\n",
       "      <td>646.950606</td>\n",
       "      <td>18.0</td>\n",
       "      <td>0</td>\n",
       "      <td>0</td>\n",
       "      <td>NaN</td>\n",
       "      <td>9748.385528</td>\n",
       "    </tr>\n",
       "  </tbody>\n",
       "</table>\n",
       "</div>"
      ],
      "text/plain": [
       "          obs_id  SiteId           Timestamp  ForecastId        Value  \\\n",
       "1296660  5949244      60 2016-03-09 01:30:00        1378          NaN   \n",
       "1296661  4987235      60 2016-03-09 02:30:00        1378          NaN   \n",
       "1296662  1715606      60 2016-03-09 03:30:00        1378  9567.609451   \n",
       "1296663  2768547      60 2016-03-09 04:30:00        1378  9483.626864   \n",
       "1296664  1940139      60 2016-03-09 05:30:00        1378  9748.385528   \n",
       "\n",
       "         ForecastPeriodMin     Surface  BaseTemperature  isDayOff  isHoliday  \\\n",
       "1296660                 60  646.950606             18.0         0          0   \n",
       "1296661                 60  646.950606             18.0         0          0   \n",
       "1296662                 60  646.950606             18.0         0          0   \n",
       "1296663                 60  646.950606             18.0         0          0   \n",
       "1296664                 60  646.950606             18.0         0          0   \n",
       "\n",
       "         Temperature    Value_Int  \n",
       "1296660          NaN          NaN  \n",
       "1296661          NaN          NaN  \n",
       "1296662          NaN  9567.609451  \n",
       "1296663          NaN  9483.626864  \n",
       "1296664          NaN  9748.385528  "
      ]
     },
     "execution_count": 74,
     "metadata": {},
     "output_type": "execute_result"
    }
   ],
   "source": [
    "# in the case of ForecastId == 1378, these NaN Value_Int are located at beginning of data\n",
    "# this is due to the linear interpolation algorithm which is range bound by data\n",
    "df_n_6[df_n_6['ForecastId'] == 1378].head(5)"
   ]
  },
  {
   "cell_type": "code",
   "execution_count": 75,
   "metadata": {},
   "outputs": [
    {
     "data": {
      "image/png": "[encoded data removed]",
      "text/plain": [
       "<matplotlib.figure.Figure at 0x187e0f7f0>"
      ]
     },
     "metadata": {},
     "output_type": "display_data"
    }
   ],
   "source": [
    "# Ex: ForecastId 608 starts 12/28 but NaN through 01/04 06\n",
    "\n",
    "x1 = df_n_6[df_n_6['ForecastId'] == 608]['Timestamp']\n",
    "y1 = df_n_6[df_n_6['ForecastId'] == 608]['Value']\n",
    "\n",
    "plt.figure(figsize=(12,4))\n",
    "plt.plot(x1, y1);"
   ]
  },
  {
   "cell_type": "code",
   "execution_count": 76,
   "metadata": {},
   "outputs": [
    {
     "data": {
      "image/png": "[encoded data removed]",
      "text/plain": [
       "<matplotlib.figure.Figure at 0x16a4e7710>"
      ]
     },
     "metadata": {},
     "output_type": "display_data"
    }
   ],
   "source": [
    "# Histogram of ForecastId's with NaN values greater than 1% of series data\n",
    "\n",
    "fig = plt.figure(figsize=(6,4))\n",
    "plt.hist(df_NaN_2[df_NaN_2['percent_NaN'] > 0.01]['percent_NaN'], bins=100)\n",
    "plt.title(\"Train.csv: Histogram of Percent NaN by ForecastId\", size=12)\n",
    "plt.xlabel(\"Percent NaN Value Data\", size=12)\n",
    "plt.ylabel(\"Number of ForecastId's\", size=12)\n",
    "plt.tight_layout();\n",
    "fig.savefig(\"EDA_hist_percent_NaNbyForecastId_2_greaterthan1percent.png\")"
   ]
  },
  {
   "cell_type": "code",
   "execution_count": 77,
   "metadata": {},
   "outputs": [
    {
     "name": "stdout",
     "output_type": "stream",
     "text": [
      "Potential to Remove \t Rows: 25480 \t Percent of Data: 0.0\n"
     ]
    }
   ],
   "source": [
    "# if we just delete all NaN values, we delete rows 25,480 rows (~0% of data)\n",
    "print(\"Potential to Remove \\t Rows: {} \\t Percent of Data: {}\".format(df_NaN_2['Nulls'].sum(), round(df_NaN_2['Nulls'].sum() / df_NaN_2['Entries'].sum(), 2)))"
   ]
  },
  {
   "cell_type": "code",
   "execution_count": 78,
   "metadata": {},
   "outputs": [
    {
     "name": "stdout",
     "output_type": "stream",
     "text": [
      "Potential to Remove \t Rows: 96426 \t Percent of Data: 0.01\n"
     ]
    }
   ],
   "source": [
    "# if we delete all Forecasts that contain one or more NaN Values, we delete 96,426 rows (~1% data)\n",
    "print(\"Potential to Remove \\t Rows: {} \\t Percent of Data: {}\".format(df_NaN_2[df_NaN_2['percent_NaN'] > 0].Entries.sum(), round(df_NaN_2[df_NaN_2['percent_NaN'] > 0].Entries.sum() / df_NaN_2['Entries'].sum(), 2)))"
   ]
  },
  {
   "cell_type": "markdown",
   "metadata": {},
   "source": [
    "# [D] Add Lagged Features"
   ]
  },
  {
   "cell_type": "code",
   "execution_count": 79,
   "metadata": {},
   "outputs": [],
   "source": [
    "df_n_7 = df_n_6.copy(deep=True)"
   ]
  },
  {
   "cell_type": "code",
   "execution_count": 80,
   "metadata": {},
   "outputs": [
    {
     "data": {
      "text/html": [
       "<div>\n",
       "<style>\n",
       "    .dataframe thead tr:only-child th {\n",
       "        text-align: right;\n",
       "    }\n",
       "\n",
       "    .dataframe thead th {\n",
       "        text-align: left;\n",
       "    }\n",
       "\n",
       "    .dataframe tbody tr th {\n",
       "        vertical-align: top;\n",
       "    }\n",
       "</style>\n",
       "<table border=\"1\" class=\"dataframe\">\n",
       "  <thead>\n",
       "    <tr style=\"text-align: right;\">\n",
       "      <th></th>\n",
       "      <th>obs_id</th>\n",
       "      <th>SiteId</th>\n",
       "      <th>Timestamp</th>\n",
       "      <th>ForecastId</th>\n",
       "      <th>Value</th>\n",
       "      <th>ForecastPeriodMin</th>\n",
       "      <th>Surface</th>\n",
       "      <th>BaseTemperature</th>\n",
       "      <th>isDayOff</th>\n",
       "      <th>isHoliday</th>\n",
       "      <th>Temperature</th>\n",
       "      <th>Value_Int</th>\n",
       "      <th>Value_Lag_1</th>\n",
       "      <th>Value_Lag_2</th>\n",
       "      <th>Value_Lag_3</th>\n",
       "      <th>Value_Lag_4</th>\n",
       "    </tr>\n",
       "  </thead>\n",
       "  <tbody>\n",
       "    <tr>\n",
       "      <th>0</th>\n",
       "      <td>744519</td>\n",
       "      <td>1</td>\n",
       "      <td>2014-09-03</td>\n",
       "      <td>1</td>\n",
       "      <td>9.096555e+05</td>\n",
       "      <td>1440</td>\n",
       "      <td>1387.205119</td>\n",
       "      <td>18.0</td>\n",
       "      <td>0</td>\n",
       "      <td>0</td>\n",
       "      <td>19.0</td>\n",
       "      <td>9.096555e+05</td>\n",
       "      <td>NaN</td>\n",
       "      <td>NaN</td>\n",
       "      <td>NaN</td>\n",
       "      <td>NaN</td>\n",
       "    </tr>\n",
       "    <tr>\n",
       "      <th>1</th>\n",
       "      <td>7627564</td>\n",
       "      <td>1</td>\n",
       "      <td>2014-09-04</td>\n",
       "      <td>1</td>\n",
       "      <td>1.748273e+06</td>\n",
       "      <td>1440</td>\n",
       "      <td>1387.205119</td>\n",
       "      <td>18.0</td>\n",
       "      <td>0</td>\n",
       "      <td>0</td>\n",
       "      <td>20.0</td>\n",
       "      <td>1.748273e+06</td>\n",
       "      <td>9.096555e+05</td>\n",
       "      <td>NaN</td>\n",
       "      <td>NaN</td>\n",
       "      <td>NaN</td>\n",
       "    </tr>\n",
       "    <tr>\n",
       "      <th>2</th>\n",
       "      <td>7034705</td>\n",
       "      <td>1</td>\n",
       "      <td>2014-09-05</td>\n",
       "      <td>1</td>\n",
       "      <td>NaN</td>\n",
       "      <td>1440</td>\n",
       "      <td>1387.205119</td>\n",
       "      <td>18.0</td>\n",
       "      <td>0</td>\n",
       "      <td>0</td>\n",
       "      <td>22.0</td>\n",
       "      <td>1.802424e+06</td>\n",
       "      <td>1.748273e+06</td>\n",
       "      <td>9.096555e+05</td>\n",
       "      <td>NaN</td>\n",
       "      <td>NaN</td>\n",
       "    </tr>\n",
       "    <tr>\n",
       "      <th>3</th>\n",
       "      <td>5995486</td>\n",
       "      <td>1</td>\n",
       "      <td>2014-09-06</td>\n",
       "      <td>1</td>\n",
       "      <td>NaN</td>\n",
       "      <td>1440</td>\n",
       "      <td>1387.205119</td>\n",
       "      <td>18.0</td>\n",
       "      <td>1</td>\n",
       "      <td>0</td>\n",
       "      <td>21.0</td>\n",
       "      <td>1.856576e+06</td>\n",
       "      <td>1.802424e+06</td>\n",
       "      <td>1.748273e+06</td>\n",
       "      <td>9.096555e+05</td>\n",
       "      <td>NaN</td>\n",
       "    </tr>\n",
       "    <tr>\n",
       "      <th>4</th>\n",
       "      <td>7326510</td>\n",
       "      <td>1</td>\n",
       "      <td>2014-09-07</td>\n",
       "      <td>1</td>\n",
       "      <td>NaN</td>\n",
       "      <td>1440</td>\n",
       "      <td>1387.205119</td>\n",
       "      <td>18.0</td>\n",
       "      <td>1</td>\n",
       "      <td>0</td>\n",
       "      <td>13.0</td>\n",
       "      <td>1.910727e+06</td>\n",
       "      <td>1.856576e+06</td>\n",
       "      <td>1.802424e+06</td>\n",
       "      <td>1.748273e+06</td>\n",
       "      <td>909655.510515</td>\n",
       "    </tr>\n",
       "  </tbody>\n",
       "</table>\n",
       "</div>"
      ],
      "text/plain": [
       "    obs_id  SiteId  Timestamp  ForecastId         Value  ForecastPeriodMin  \\\n",
       "0   744519       1 2014-09-03           1  9.096555e+05               1440   \n",
       "1  7627564       1 2014-09-04           1  1.748273e+06               1440   \n",
       "2  7034705       1 2014-09-05           1           NaN               1440   \n",
       "3  5995486       1 2014-09-06           1           NaN               1440   \n",
       "4  7326510       1 2014-09-07           1           NaN               1440   \n",
       "\n",
       "       Surface  BaseTemperature  isDayOff  isHoliday  Temperature  \\\n",
       "0  1387.205119             18.0         0          0         19.0   \n",
       "1  1387.205119             18.0         0          0         20.0   \n",
       "2  1387.205119             18.0         0          0         22.0   \n",
       "3  1387.205119             18.0         1          0         21.0   \n",
       "4  1387.205119             18.0         1          0         13.0   \n",
       "\n",
       "      Value_Int   Value_Lag_1   Value_Lag_2   Value_Lag_3    Value_Lag_4  \n",
       "0  9.096555e+05           NaN           NaN           NaN            NaN  \n",
       "1  1.748273e+06  9.096555e+05           NaN           NaN            NaN  \n",
       "2  1.802424e+06  1.748273e+06  9.096555e+05           NaN            NaN  \n",
       "3  1.856576e+06  1.802424e+06  1.748273e+06  9.096555e+05            NaN  \n",
       "4  1.910727e+06  1.856576e+06  1.802424e+06  1.748273e+06  909655.510515  "
      ]
     },
     "execution_count": 80,
     "metadata": {},
     "output_type": "execute_result"
    }
   ],
   "source": [
    "# Add lagged feature(s)\n",
    "df_n_7['Value_Lag_1'] = df_n_7.groupby(['SiteId', 'ForecastId'])['Value_Int'].shift(1)\n",
    "df_n_7['Value_Lag_2'] = df_n_7.groupby(['SiteId', 'ForecastId'])['Value_Int'].shift(2)\n",
    "df_n_7['Value_Lag_3'] = df_n_7.groupby(['SiteId', 'ForecastId'])['Value_Int'].shift(3)\n",
    "df_n_7['Value_Lag_4'] = df_n_7.groupby(['SiteId', 'ForecastId'])['Value_Int'].shift(4)\n",
    "df_n_7.head()"
   ]
  },
  {
   "cell_type": "code",
   "execution_count": 81,
   "metadata": {},
   "outputs": [
    {
     "name": "stdout",
     "output_type": "stream",
     "text": [
      "df_n_1: \t (6559830, 5)\n",
      "df_n_2: \t (6559830, 6)\n",
      "df_n_3: \t (6559830, 9)\n",
      "df_n_4: \t (6559830, 10)\n",
      "df_n_5: \t (6559830, 11)\n",
      "df_n_7: \t (6559830, 16)\n"
     ]
    }
   ],
   "source": [
    "# shape of df_n_7\n",
    "shapes['df_n_7'] = df_n_7.shape\n",
    "for k,v in shapes.items(): \n",
    "    print(\"{}: \\t {}\".format(k,v))"
   ]
  },
  {
   "cell_type": "markdown",
   "metadata": {},
   "source": [
    "# Feature Engineering"
   ]
  },
  {
   "cell_type": "code",
   "execution_count": 82,
   "metadata": {},
   "outputs": [],
   "source": [
    "df_n_8 = df_n_7.copy(deep=True)"
   ]
  },
  {
   "cell_type": "code",
   "execution_count": 83,
   "metadata": {},
   "outputs": [
    {
     "data": {
      "text/html": [
       "<div>\n",
       "<style>\n",
       "    .dataframe thead tr:only-child th {\n",
       "        text-align: right;\n",
       "    }\n",
       "\n",
       "    .dataframe thead th {\n",
       "        text-align: left;\n",
       "    }\n",
       "\n",
       "    .dataframe tbody tr th {\n",
       "        vertical-align: top;\n",
       "    }\n",
       "</style>\n",
       "<table border=\"1\" class=\"dataframe\">\n",
       "  <thead>\n",
       "    <tr style=\"text-align: right;\">\n",
       "      <th></th>\n",
       "      <th>obs_id</th>\n",
       "      <th>SiteId</th>\n",
       "      <th>Timestamp</th>\n",
       "      <th>ForecastId</th>\n",
       "      <th>Value</th>\n",
       "      <th>ForecastPeriodMin</th>\n",
       "      <th>Surface</th>\n",
       "      <th>BaseTemperature</th>\n",
       "      <th>isDayOff</th>\n",
       "      <th>isHoliday</th>\n",
       "      <th>Temperature</th>\n",
       "      <th>Value_Int</th>\n",
       "      <th>Value_Lag_1</th>\n",
       "      <th>Value_Lag_2</th>\n",
       "      <th>Value_Lag_3</th>\n",
       "      <th>Value_Lag_4</th>\n",
       "    </tr>\n",
       "  </thead>\n",
       "  <tbody>\n",
       "    <tr>\n",
       "      <th>0</th>\n",
       "      <td>744519</td>\n",
       "      <td>1</td>\n",
       "      <td>2014-09-03</td>\n",
       "      <td>1</td>\n",
       "      <td>9.096555e+05</td>\n",
       "      <td>1440</td>\n",
       "      <td>1387.205119</td>\n",
       "      <td>18.0</td>\n",
       "      <td>0</td>\n",
       "      <td>0</td>\n",
       "      <td>19.0</td>\n",
       "      <td>9.096555e+05</td>\n",
       "      <td>NaN</td>\n",
       "      <td>NaN</td>\n",
       "      <td>NaN</td>\n",
       "      <td>NaN</td>\n",
       "    </tr>\n",
       "    <tr>\n",
       "      <th>1</th>\n",
       "      <td>7627564</td>\n",
       "      <td>1</td>\n",
       "      <td>2014-09-04</td>\n",
       "      <td>1</td>\n",
       "      <td>1.748273e+06</td>\n",
       "      <td>1440</td>\n",
       "      <td>1387.205119</td>\n",
       "      <td>18.0</td>\n",
       "      <td>0</td>\n",
       "      <td>0</td>\n",
       "      <td>20.0</td>\n",
       "      <td>1.748273e+06</td>\n",
       "      <td>909655.510515</td>\n",
       "      <td>NaN</td>\n",
       "      <td>NaN</td>\n",
       "      <td>NaN</td>\n",
       "    </tr>\n",
       "  </tbody>\n",
       "</table>\n",
       "</div>"
      ],
      "text/plain": [
       "    obs_id  SiteId  Timestamp  ForecastId         Value  ForecastPeriodMin  \\\n",
       "0   744519       1 2014-09-03           1  9.096555e+05               1440   \n",
       "1  7627564       1 2014-09-04           1  1.748273e+06               1440   \n",
       "\n",
       "       Surface  BaseTemperature  isDayOff  isHoliday  Temperature  \\\n",
       "0  1387.205119             18.0         0          0         19.0   \n",
       "1  1387.205119             18.0         0          0         20.0   \n",
       "\n",
       "      Value_Int    Value_Lag_1  Value_Lag_2  Value_Lag_3  Value_Lag_4  \n",
       "0  9.096555e+05            NaN          NaN          NaN          NaN  \n",
       "1  1.748273e+06  909655.510515          NaN          NaN          NaN  "
      ]
     },
     "execution_count": 83,
     "metadata": {},
     "output_type": "execute_result"
    }
   ],
   "source": [
    "df_n_8.head(2)"
   ]
  },
  {
   "cell_type": "markdown",
   "metadata": {},
   "source": [
    "## Temperature Features"
   ]
  },
  {
   "cell_type": "code",
   "execution_count": 84,
   "metadata": {},
   "outputs": [
    {
     "data": {
      "text/html": [
       "<div>\n",
       "<style>\n",
       "    .dataframe thead tr:only-child th {\n",
       "        text-align: right;\n",
       "    }\n",
       "\n",
       "    .dataframe thead th {\n",
       "        text-align: left;\n",
       "    }\n",
       "\n",
       "    .dataframe tbody tr th {\n",
       "        vertical-align: top;\n",
       "    }\n",
       "</style>\n",
       "<table border=\"1\" class=\"dataframe\">\n",
       "  <thead>\n",
       "    <tr style=\"text-align: right;\">\n",
       "      <th></th>\n",
       "      <th>obs_id</th>\n",
       "      <th>SiteId</th>\n",
       "      <th>Timestamp</th>\n",
       "      <th>ForecastId</th>\n",
       "      <th>Value</th>\n",
       "      <th>ForecastPeriodMin</th>\n",
       "      <th>Surface</th>\n",
       "      <th>BaseTemperature</th>\n",
       "      <th>isDayOff</th>\n",
       "      <th>isHoliday</th>\n",
       "      <th>Temperature</th>\n",
       "      <th>Value_Int</th>\n",
       "      <th>Value_Lag_1</th>\n",
       "      <th>Value_Lag_2</th>\n",
       "      <th>Value_Lag_3</th>\n",
       "      <th>Value_Lag_4</th>\n",
       "      <th>Temp_Minus_BaseTemp</th>\n",
       "      <th>Temp_Div_BaseTemp</th>\n",
       "    </tr>\n",
       "  </thead>\n",
       "  <tbody>\n",
       "    <tr>\n",
       "      <th>0</th>\n",
       "      <td>744519</td>\n",
       "      <td>1</td>\n",
       "      <td>2014-09-03</td>\n",
       "      <td>1</td>\n",
       "      <td>9.096555e+05</td>\n",
       "      <td>1440</td>\n",
       "      <td>1387.205119</td>\n",
       "      <td>18.0</td>\n",
       "      <td>0</td>\n",
       "      <td>0</td>\n",
       "      <td>19.0</td>\n",
       "      <td>9.096555e+05</td>\n",
       "      <td>NaN</td>\n",
       "      <td>NaN</td>\n",
       "      <td>NaN</td>\n",
       "      <td>NaN</td>\n",
       "      <td>1.0</td>\n",
       "      <td>1.055556</td>\n",
       "    </tr>\n",
       "    <tr>\n",
       "      <th>1</th>\n",
       "      <td>7627564</td>\n",
       "      <td>1</td>\n",
       "      <td>2014-09-04</td>\n",
       "      <td>1</td>\n",
       "      <td>1.748273e+06</td>\n",
       "      <td>1440</td>\n",
       "      <td>1387.205119</td>\n",
       "      <td>18.0</td>\n",
       "      <td>0</td>\n",
       "      <td>0</td>\n",
       "      <td>20.0</td>\n",
       "      <td>1.748273e+06</td>\n",
       "      <td>909655.510515</td>\n",
       "      <td>NaN</td>\n",
       "      <td>NaN</td>\n",
       "      <td>NaN</td>\n",
       "      <td>2.0</td>\n",
       "      <td>1.111111</td>\n",
       "    </tr>\n",
       "  </tbody>\n",
       "</table>\n",
       "</div>"
      ],
      "text/plain": [
       "    obs_id  SiteId  Timestamp  ForecastId         Value  ForecastPeriodMin  \\\n",
       "0   744519       1 2014-09-03           1  9.096555e+05               1440   \n",
       "1  7627564       1 2014-09-04           1  1.748273e+06               1440   \n",
       "\n",
       "       Surface  BaseTemperature  isDayOff  isHoliday  Temperature  \\\n",
       "0  1387.205119             18.0         0          0         19.0   \n",
       "1  1387.205119             18.0         0          0         20.0   \n",
       "\n",
       "      Value_Int    Value_Lag_1  Value_Lag_2  Value_Lag_3  Value_Lag_4  \\\n",
       "0  9.096555e+05            NaN          NaN          NaN          NaN   \n",
       "1  1.748273e+06  909655.510515          NaN          NaN          NaN   \n",
       "\n",
       "   Temp_Minus_BaseTemp  Temp_Div_BaseTemp  \n",
       "0                  1.0           1.055556  \n",
       "1                  2.0           1.111111  "
      ]
     },
     "execution_count": 84,
     "metadata": {},
     "output_type": "execute_result"
    }
   ],
   "source": [
    "# add difference of (outside) Temperature to BaseTemperature\n",
    "df_n_8['Temp_Minus_BaseTemp'] = df_n_8['Temperature'] - df_n_8['BaseTemperature']\n",
    "df_n_8['Temp_Div_BaseTemp'] = df_n_8['Temperature'] / df_n_8['BaseTemperature']\n",
    "df_n_8.head(2)"
   ]
  },
  {
   "cell_type": "markdown",
   "metadata": {},
   "source": [
    "## Add Month & Quarter Features"
   ]
  },
  {
   "cell_type": "code",
   "execution_count": 85,
   "metadata": {},
   "outputs": [
    {
     "data": {
      "text/html": [
       "<div>\n",
       "<style>\n",
       "    .dataframe thead tr:only-child th {\n",
       "        text-align: right;\n",
       "    }\n",
       "\n",
       "    .dataframe thead th {\n",
       "        text-align: left;\n",
       "    }\n",
       "\n",
       "    .dataframe tbody tr th {\n",
       "        vertical-align: top;\n",
       "    }\n",
       "</style>\n",
       "<table border=\"1\" class=\"dataframe\">\n",
       "  <thead>\n",
       "    <tr style=\"text-align: right;\">\n",
       "      <th></th>\n",
       "      <th>obs_id</th>\n",
       "      <th>SiteId</th>\n",
       "      <th>Timestamp</th>\n",
       "      <th>ForecastId</th>\n",
       "      <th>Value</th>\n",
       "      <th>ForecastPeriodMin</th>\n",
       "      <th>Surface</th>\n",
       "      <th>BaseTemperature</th>\n",
       "      <th>isDayOff</th>\n",
       "      <th>isHoliday</th>\n",
       "      <th>...</th>\n",
       "      <th>Month_3</th>\n",
       "      <th>Month_4</th>\n",
       "      <th>Month_5</th>\n",
       "      <th>Month_6</th>\n",
       "      <th>Month_7</th>\n",
       "      <th>Month_8</th>\n",
       "      <th>Month_9</th>\n",
       "      <th>Month_10</th>\n",
       "      <th>Month_11</th>\n",
       "      <th>Month_12</th>\n",
       "    </tr>\n",
       "  </thead>\n",
       "  <tbody>\n",
       "    <tr>\n",
       "      <th>0</th>\n",
       "      <td>744519</td>\n",
       "      <td>1</td>\n",
       "      <td>2014-09-03</td>\n",
       "      <td>1</td>\n",
       "      <td>9.096555e+05</td>\n",
       "      <td>1440</td>\n",
       "      <td>1387.205119</td>\n",
       "      <td>18.0</td>\n",
       "      <td>0</td>\n",
       "      <td>0</td>\n",
       "      <td>...</td>\n",
       "      <td>0</td>\n",
       "      <td>0</td>\n",
       "      <td>0</td>\n",
       "      <td>0</td>\n",
       "      <td>0</td>\n",
       "      <td>0</td>\n",
       "      <td>1</td>\n",
       "      <td>0</td>\n",
       "      <td>0</td>\n",
       "      <td>0</td>\n",
       "    </tr>\n",
       "    <tr>\n",
       "      <th>1</th>\n",
       "      <td>7627564</td>\n",
       "      <td>1</td>\n",
       "      <td>2014-09-04</td>\n",
       "      <td>1</td>\n",
       "      <td>1.748273e+06</td>\n",
       "      <td>1440</td>\n",
       "      <td>1387.205119</td>\n",
       "      <td>18.0</td>\n",
       "      <td>0</td>\n",
       "      <td>0</td>\n",
       "      <td>...</td>\n",
       "      <td>0</td>\n",
       "      <td>0</td>\n",
       "      <td>0</td>\n",
       "      <td>0</td>\n",
       "      <td>0</td>\n",
       "      <td>0</td>\n",
       "      <td>1</td>\n",
       "      <td>0</td>\n",
       "      <td>0</td>\n",
       "      <td>0</td>\n",
       "    </tr>\n",
       "  </tbody>\n",
       "</table>\n",
       "<p>2 rows × 30 columns</p>\n",
       "</div>"
      ],
      "text/plain": [
       "    obs_id  SiteId  Timestamp  ForecastId         Value  ForecastPeriodMin  \\\n",
       "0   744519       1 2014-09-03           1  9.096555e+05               1440   \n",
       "1  7627564       1 2014-09-04           1  1.748273e+06               1440   \n",
       "\n",
       "       Surface  BaseTemperature  isDayOff  isHoliday    ...     Month_3  \\\n",
       "0  1387.205119             18.0         0          0    ...           0   \n",
       "1  1387.205119             18.0         0          0    ...           0   \n",
       "\n",
       "   Month_4  Month_5  Month_6  Month_7  Month_8  Month_9  Month_10  Month_11  \\\n",
       "0        0        0        0        0        0        1         0         0   \n",
       "1        0        0        0        0        0        1         0         0   \n",
       "\n",
       "   Month_12  \n",
       "0         0  \n",
       "1         0  \n",
       "\n",
       "[2 rows x 30 columns]"
      ]
     },
     "execution_count": 85,
     "metadata": {},
     "output_type": "execute_result"
    }
   ],
   "source": [
    "# add month features to ml dataframe\n",
    "df_n_8['Month'] = df_n_8['Timestamp'].dt.month\n",
    "df_n_8[['Month_1', 'Month_2', 'Month_3','Month_4', 'Month_5', 'Month_6', 'Month_7', 'Month_8', \\\n",
    "        'Month_9', 'Month_10', 'Month_11', 'Month_12']] = pd.get_dummies(df_n_8['Month'])\n",
    "df_n_8 = df_n_8.drop('Month', axis=1)\n",
    "df_n_8.head(2)"
   ]
  },
  {
   "cell_type": "code",
   "execution_count": 86,
   "metadata": {},
   "outputs": [
    {
     "data": {
      "text/html": [
       "<div>\n",
       "<style>\n",
       "    .dataframe thead tr:only-child th {\n",
       "        text-align: right;\n",
       "    }\n",
       "\n",
       "    .dataframe thead th {\n",
       "        text-align: left;\n",
       "    }\n",
       "\n",
       "    .dataframe tbody tr th {\n",
       "        vertical-align: top;\n",
       "    }\n",
       "</style>\n",
       "<table border=\"1\" class=\"dataframe\">\n",
       "  <thead>\n",
       "    <tr style=\"text-align: right;\">\n",
       "      <th></th>\n",
       "      <th>obs_id</th>\n",
       "      <th>SiteId</th>\n",
       "      <th>Timestamp</th>\n",
       "      <th>ForecastId</th>\n",
       "      <th>Value</th>\n",
       "      <th>ForecastPeriodMin</th>\n",
       "      <th>Surface</th>\n",
       "      <th>BaseTemperature</th>\n",
       "      <th>isDayOff</th>\n",
       "      <th>isHoliday</th>\n",
       "      <th>...</th>\n",
       "      <th>Month_7</th>\n",
       "      <th>Month_8</th>\n",
       "      <th>Month_9</th>\n",
       "      <th>Month_10</th>\n",
       "      <th>Month_11</th>\n",
       "      <th>Month_12</th>\n",
       "      <th>Quarter_1</th>\n",
       "      <th>Quarter_2</th>\n",
       "      <th>Quarter_3</th>\n",
       "      <th>Quarter_4</th>\n",
       "    </tr>\n",
       "  </thead>\n",
       "  <tbody>\n",
       "    <tr>\n",
       "      <th>0</th>\n",
       "      <td>744519</td>\n",
       "      <td>1</td>\n",
       "      <td>2014-09-03</td>\n",
       "      <td>1</td>\n",
       "      <td>9.096555e+05</td>\n",
       "      <td>1440</td>\n",
       "      <td>1387.205119</td>\n",
       "      <td>18.0</td>\n",
       "      <td>0</td>\n",
       "      <td>0</td>\n",
       "      <td>...</td>\n",
       "      <td>0</td>\n",
       "      <td>0</td>\n",
       "      <td>1</td>\n",
       "      <td>0</td>\n",
       "      <td>0</td>\n",
       "      <td>0</td>\n",
       "      <td>0</td>\n",
       "      <td>0</td>\n",
       "      <td>1</td>\n",
       "      <td>0</td>\n",
       "    </tr>\n",
       "    <tr>\n",
       "      <th>1</th>\n",
       "      <td>7627564</td>\n",
       "      <td>1</td>\n",
       "      <td>2014-09-04</td>\n",
       "      <td>1</td>\n",
       "      <td>1.748273e+06</td>\n",
       "      <td>1440</td>\n",
       "      <td>1387.205119</td>\n",
       "      <td>18.0</td>\n",
       "      <td>0</td>\n",
       "      <td>0</td>\n",
       "      <td>...</td>\n",
       "      <td>0</td>\n",
       "      <td>0</td>\n",
       "      <td>1</td>\n",
       "      <td>0</td>\n",
       "      <td>0</td>\n",
       "      <td>0</td>\n",
       "      <td>0</td>\n",
       "      <td>0</td>\n",
       "      <td>1</td>\n",
       "      <td>0</td>\n",
       "    </tr>\n",
       "  </tbody>\n",
       "</table>\n",
       "<p>2 rows × 34 columns</p>\n",
       "</div>"
      ],
      "text/plain": [
       "    obs_id  SiteId  Timestamp  ForecastId         Value  ForecastPeriodMin  \\\n",
       "0   744519       1 2014-09-03           1  9.096555e+05               1440   \n",
       "1  7627564       1 2014-09-04           1  1.748273e+06               1440   \n",
       "\n",
       "       Surface  BaseTemperature  isDayOff  isHoliday    ...      Month_7  \\\n",
       "0  1387.205119             18.0         0          0    ...            0   \n",
       "1  1387.205119             18.0         0          0    ...            0   \n",
       "\n",
       "   Month_8  Month_9  Month_10  Month_11  Month_12  Quarter_1  Quarter_2  \\\n",
       "0        0        1         0         0         0          0          0   \n",
       "1        0        1         0         0         0          0          0   \n",
       "\n",
       "   Quarter_3  Quarter_4  \n",
       "0          1          0  \n",
       "1          1          0  \n",
       "\n",
       "[2 rows x 34 columns]"
      ]
     },
     "execution_count": 86,
     "metadata": {},
     "output_type": "execute_result"
    }
   ],
   "source": [
    "# add quarter features to ml dataframe\n",
    "df_n_8['Quarter'] = df_n_8['Timestamp'].dt.quarter\n",
    "df_n_8[['Quarter_1', 'Quarter_2', 'Quarter_3','Quarter_4']] = pd.get_dummies(df_n_8['Quarter'])\n",
    "df_n_8 = df_n_8.drop('Quarter', axis=1)\n",
    "df_n_8.head(2)"
   ]
  },
  {
   "cell_type": "markdown",
   "metadata": {},
   "source": [
    "# Pickle ML DataFrame "
   ]
  },
  {
   "cell_type": "markdown",
   "metadata": {},
   "source": [
    "## Inspect Final DataFrame"
   ]
  },
  {
   "cell_type": "code",
   "execution_count": 87,
   "metadata": {},
   "outputs": [
    {
     "data": {
      "text/html": [
       "<div>\n",
       "<style>\n",
       "    .dataframe thead tr:only-child th {\n",
       "        text-align: right;\n",
       "    }\n",
       "\n",
       "    .dataframe thead th {\n",
       "        text-align: left;\n",
       "    }\n",
       "\n",
       "    .dataframe tbody tr th {\n",
       "        vertical-align: top;\n",
       "    }\n",
       "</style>\n",
       "<table border=\"1\" class=\"dataframe\">\n",
       "  <thead>\n",
       "    <tr style=\"text-align: right;\">\n",
       "      <th></th>\n",
       "      <th>obs_id</th>\n",
       "      <th>SiteId</th>\n",
       "      <th>Timestamp</th>\n",
       "      <th>ForecastId</th>\n",
       "      <th>Value</th>\n",
       "      <th>ForecastPeriodMin</th>\n",
       "      <th>Surface</th>\n",
       "      <th>BaseTemperature</th>\n",
       "      <th>isDayOff</th>\n",
       "      <th>isHoliday</th>\n",
       "      <th>...</th>\n",
       "      <th>Month_7</th>\n",
       "      <th>Month_8</th>\n",
       "      <th>Month_9</th>\n",
       "      <th>Month_10</th>\n",
       "      <th>Month_11</th>\n",
       "      <th>Month_12</th>\n",
       "      <th>Quarter_1</th>\n",
       "      <th>Quarter_2</th>\n",
       "      <th>Quarter_3</th>\n",
       "      <th>Quarter_4</th>\n",
       "    </tr>\n",
       "  </thead>\n",
       "  <tbody>\n",
       "    <tr>\n",
       "      <th>0</th>\n",
       "      <td>744519</td>\n",
       "      <td>1</td>\n",
       "      <td>2014-09-03</td>\n",
       "      <td>1</td>\n",
       "      <td>9.096555e+05</td>\n",
       "      <td>1440</td>\n",
       "      <td>1387.205119</td>\n",
       "      <td>18.0</td>\n",
       "      <td>0</td>\n",
       "      <td>0</td>\n",
       "      <td>...</td>\n",
       "      <td>0</td>\n",
       "      <td>0</td>\n",
       "      <td>1</td>\n",
       "      <td>0</td>\n",
       "      <td>0</td>\n",
       "      <td>0</td>\n",
       "      <td>0</td>\n",
       "      <td>0</td>\n",
       "      <td>1</td>\n",
       "      <td>0</td>\n",
       "    </tr>\n",
       "    <tr>\n",
       "      <th>1</th>\n",
       "      <td>7627564</td>\n",
       "      <td>1</td>\n",
       "      <td>2014-09-04</td>\n",
       "      <td>1</td>\n",
       "      <td>1.748273e+06</td>\n",
       "      <td>1440</td>\n",
       "      <td>1387.205119</td>\n",
       "      <td>18.0</td>\n",
       "      <td>0</td>\n",
       "      <td>0</td>\n",
       "      <td>...</td>\n",
       "      <td>0</td>\n",
       "      <td>0</td>\n",
       "      <td>1</td>\n",
       "      <td>0</td>\n",
       "      <td>0</td>\n",
       "      <td>0</td>\n",
       "      <td>0</td>\n",
       "      <td>0</td>\n",
       "      <td>1</td>\n",
       "      <td>0</td>\n",
       "    </tr>\n",
       "  </tbody>\n",
       "</table>\n",
       "<p>2 rows × 34 columns</p>\n",
       "</div>"
      ],
      "text/plain": [
       "    obs_id  SiteId  Timestamp  ForecastId         Value  ForecastPeriodMin  \\\n",
       "0   744519       1 2014-09-03           1  9.096555e+05               1440   \n",
       "1  7627564       1 2014-09-04           1  1.748273e+06               1440   \n",
       "\n",
       "       Surface  BaseTemperature  isDayOff  isHoliday    ...      Month_7  \\\n",
       "0  1387.205119             18.0         0          0    ...            0   \n",
       "1  1387.205119             18.0         0          0    ...            0   \n",
       "\n",
       "   Month_8  Month_9  Month_10  Month_11  Month_12  Quarter_1  Quarter_2  \\\n",
       "0        0        1         0         0         0          0          0   \n",
       "1        0        1         0         0         0          0          0   \n",
       "\n",
       "   Quarter_3  Quarter_4  \n",
       "0          1          0  \n",
       "1          1          0  \n",
       "\n",
       "[2 rows x 34 columns]"
      ]
     },
     "execution_count": 87,
     "metadata": {},
     "output_type": "execute_result"
    }
   ],
   "source": [
    "df_n_8.head(2)"
   ]
  },
  {
   "cell_type": "code",
   "execution_count": 88,
   "metadata": {},
   "outputs": [
    {
     "name": "stdout",
     "output_type": "stream",
     "text": [
      "df_n_1: \t (6559830, 5)\n",
      "df_n_2: \t (6559830, 6)\n",
      "df_n_3: \t (6559830, 9)\n",
      "df_n_4: \t (6559830, 10)\n",
      "df_n_5: \t (6559830, 11)\n",
      "df_n_7: \t (6559830, 16)\n",
      "df_n_8: \t (6559830, 34)\n"
     ]
    }
   ],
   "source": [
    "# shape of df_n_8\n",
    "shapes['df_n_8'] = df_n_8.shape\n",
    "for k,v in shapes.items(): \n",
    "    print(\"{}: \\t {}\".format(k,v))"
   ]
  },
  {
   "cell_type": "markdown",
   "metadata": {},
   "source": [
    "## Pickle DataFrame"
   ]
  },
  {
   "cell_type": "code",
   "execution_count": 89,
   "metadata": {},
   "outputs": [],
   "source": [
    "df_n_8.to_csv(directory + 'df_n_8.csv')\n",
    "\n",
    "# df_n_8.to_pickle('df_n_8.pkl')\n",
    "#df_n_7[~df_n_7['SiteId'].isin(no_weather_SiteId)].to_pickle('mldataframe.pkl')\n",
    "#df_n_7[df_n_7['SiteId'].isin(no_weather_SiteId)].to_pickle('mldataframe_noweather.pkl')"
   ]
  },
  {
   "cell_type": "markdown",
   "metadata": {},
   "source": [
    "# Regression DataFrame"
   ]
  },
  {
   "cell_type": "code",
   "execution_count": 124,
   "metadata": {},
   "outputs": [],
   "source": [
    "df_n_9 = df_n_8.copy(deep=True)"
   ]
  },
  {
   "cell_type": "code",
   "execution_count": 125,
   "metadata": {},
   "outputs": [],
   "source": [
    "#df_sparse_n_9 = pd.SparseDataFrame(df_n_9)\n",
    "#df_sparse_n_9.head(2)"
   ]
  },
  {
   "cell_type": "markdown",
   "metadata": {},
   "source": [
    "## SiteId Sparse Features"
   ]
  },
  {
   "cell_type": "code",
   "execution_count": 126,
   "metadata": {},
   "outputs": [
    {
     "data": {
      "text/plain": [
       "(6559830, 267)"
      ]
     },
     "execution_count": 126,
     "metadata": {},
     "output_type": "execute_result"
    }
   ],
   "source": [
    "df_sid_dummies = pd.get_dummies(df_n_9['SiteId'])\n",
    "df_sid_dummies.shape\n",
    "\n",
    "#df_sparse_sid_dummies = pd.SparseDataFrame(df_sid_dummies)\n",
    "#df_sparse_sid_dummies.shape"
   ]
  },
  {
   "cell_type": "code",
   "execution_count": 127,
   "metadata": {},
   "outputs": [],
   "source": [
    "col_names = []\n",
    "\n",
    "for c_name in df_sid_dummies.columns:\n",
    "    col_names.append(\"SiteId_\" + str(c_name))\n",
    "\n",
    "df_sid_dummies.columns = col_names"
   ]
  },
  {
   "cell_type": "code",
   "execution_count": 128,
   "metadata": {},
   "outputs": [],
   "source": [
    "df_n_9 = df_n_9.merge(df_sid_dummies, left_index=True, right_index=True, how='left')"
   ]
  },
  {
   "cell_type": "markdown",
   "metadata": {},
   "source": [
    "## Time of Day Sparse Features"
   ]
  },
  {
   "cell_type": "code",
   "execution_count": 129,
   "metadata": {},
   "outputs": [],
   "source": [
    "# Note: not all measurements start at 00:00 hr:min... some are offset.\n",
    "# this function myround shifts the minutes on the same 0,15,30,45 times for easy comparison\n",
    "# all data points are taken at 15min, 60min, or daily intervals so this works\n",
    "# worst case is being off by a rounding error of 7.5min which is insignificant\n",
    "\n",
    "def round_min(x, base=15):\n",
    "    return int(base * round(float(x)/base))\n",
    "\n",
    "df_n_9['Hour'] = df_n_9['Timestamp'].dt.hour.astype(str)\n",
    "df_n_9['Minute_rd15'] = df_n_9['Timestamp'].dt.minute.map(round_min).astype(str)"
   ]
  },
  {
   "cell_type": "code",
   "execution_count": 130,
   "metadata": {},
   "outputs": [
    {
     "data": {
      "text/plain": [
       "array(['0', '1', '2', '3', '4', '5', '6', '7', '8', '9', '10', '11', '12',\n",
       "       '13', '14', '15', '16', '17', '18', '19', '20', '21', '22', '23'],\n",
       "      dtype=object)"
      ]
     },
     "execution_count": 130,
     "metadata": {},
     "output_type": "execute_result"
    }
   ],
   "source": [
    "df_n_9['Hour'].unique()"
   ]
  },
  {
   "cell_type": "code",
   "execution_count": 131,
   "metadata": {},
   "outputs": [
    {
     "data": {
      "text/plain": [
       "array(['0', '15', '30', '45', '60'], dtype=object)"
      ]
     },
     "execution_count": 131,
     "metadata": {},
     "output_type": "execute_result"
    }
   ],
   "source": [
    "# need to account for 60min == 00min + 1hr\n",
    "df_n_9['Minute_rd15'].unique()"
   ]
  },
  {
   "cell_type": "code",
   "execution_count": 132,
   "metadata": {},
   "outputs": [],
   "source": [
    "df_n_9['Hour_Min'] = df_n_9['Hour'] + \"_\" + df_n_9['Minute_rd15']"
   ]
  },
  {
   "cell_type": "code",
   "execution_count": 133,
   "metadata": {},
   "outputs": [
    {
     "data": {
      "text/plain": [
       "array(['0_0', '1_0', '2_0', '3_0', '4_0', '5_0', '6_0', '7_0', '8_0',\n",
       "       '9_0', '10_0', '11_0', '12_0', '13_0', '14_0', '15_0', '16_0',\n",
       "       '17_0', '18_0', '19_0', '20_0', '21_0', '22_0', '23_0', '1_15',\n",
       "       '1_30', '1_45', '2_15', '2_30', '2_45', '3_15', '3_30', '3_45',\n",
       "       '4_15', '4_30', '4_45', '5_15', '5_30', '5_45', '6_15', '6_30',\n",
       "       '6_45', '7_15', '7_30', '7_45', '8_15', '8_30', '8_45', '9_15',\n",
       "       '9_30', '9_45', '10_15', '10_30', '10_45', '11_15', '11_30',\n",
       "       '11_45', '12_15', '12_30', '12_45', '13_15', '13_30', '13_45',\n",
       "       '14_15', '14_30', '14_45', '15_15', '15_30', '15_45', '16_15',\n",
       "       '16_30', '16_45', '17_15', '17_30', '17_45', '18_15', '18_30',\n",
       "       '18_45', '19_15', '19_30', '19_45', '20_15', '20_30', '20_45',\n",
       "       '21_15', '21_30', '21_45', '22_15', '22_30', '22_45', '23_15',\n",
       "       '23_30', '23_45', '0_15', '0_30', '0_45', '12_60', '13_60',\n",
       "       '14_60', '15_60', '16_60', '17_60', '18_60', '19_60', '20_60',\n",
       "       '21_60', '22_60', '23_60', '0_60', '1_60', '2_60', '3_60', '4_60',\n",
       "       '5_60', '6_60', '7_60', '8_60', '9_60', '10_60', '11_60'],\n",
       "      dtype=object)"
      ]
     },
     "execution_count": 133,
     "metadata": {},
     "output_type": "execute_result"
    }
   ],
   "source": [
    "# before mapping round_hour to Hour_Min we have many hr:60 min which should be hr+1:00 min\n",
    "df_n_9['Hour_Min'].unique()"
   ]
  },
  {
   "cell_type": "code",
   "execution_count": 134,
   "metadata": {},
   "outputs": [],
   "source": [
    "def round_hour(x, base=60):\n",
    "    hour = x.split('_')[0]\n",
    "    minute = x.split('_')[1]\n",
    "    if (minute == '60') and (hour == '23'):\n",
    "        return '0_0'\n",
    "    elif (minute == '60') and (hour != '23'):\n",
    "        hour = str(int(hour) + 1)\n",
    "        minute = '0'\n",
    "        return hour + '_' + minute\n",
    "    else:\n",
    "        return x"
   ]
  },
  {
   "cell_type": "code",
   "execution_count": 135,
   "metadata": {},
   "outputs": [],
   "source": [
    "df_n_9['Hour_Min'] = df_n_9['Hour_Min'].map(round_hour)"
   ]
  },
  {
   "cell_type": "code",
   "execution_count": 136,
   "metadata": {},
   "outputs": [
    {
     "data": {
      "text/plain": [
       "array(['0_0', '1_0', '2_0', '3_0', '4_0', '5_0', '6_0', '7_0', '8_0',\n",
       "       '9_0', '10_0', '11_0', '12_0', '13_0', '14_0', '15_0', '16_0',\n",
       "       '17_0', '18_0', '19_0', '20_0', '21_0', '22_0', '23_0', '1_15',\n",
       "       '1_30', '1_45', '2_15', '2_30', '2_45', '3_15', '3_30', '3_45',\n",
       "       '4_15', '4_30', '4_45', '5_15', '5_30', '5_45', '6_15', '6_30',\n",
       "       '6_45', '7_15', '7_30', '7_45', '8_15', '8_30', '8_45', '9_15',\n",
       "       '9_30', '9_45', '10_15', '10_30', '10_45', '11_15', '11_30',\n",
       "       '11_45', '12_15', '12_30', '12_45', '13_15', '13_30', '13_45',\n",
       "       '14_15', '14_30', '14_45', '15_15', '15_30', '15_45', '16_15',\n",
       "       '16_30', '16_45', '17_15', '17_30', '17_45', '18_15', '18_30',\n",
       "       '18_45', '19_15', '19_30', '19_45', '20_15', '20_30', '20_45',\n",
       "       '21_15', '21_30', '21_45', '22_15', '22_30', '22_45', '23_15',\n",
       "       '23_30', '23_45', '0_15', '0_30', '0_45'], dtype=object)"
      ]
     },
     "execution_count": 136,
     "metadata": {},
     "output_type": "execute_result"
    }
   ],
   "source": [
    "df_n_9['Hour_Min'].unique()"
   ]
  },
  {
   "cell_type": "code",
   "execution_count": 137,
   "metadata": {},
   "outputs": [
    {
     "data": {
      "text/plain": [
       "(6559830, 96)"
      ]
     },
     "execution_count": 137,
     "metadata": {},
     "output_type": "execute_result"
    }
   ],
   "source": [
    "df_hm_dummies = pd.get_dummies(df_n_9['Hour_Min'])\n",
    "df_hm_dummies.shape\n",
    "\n",
    "# df_sparse_hm_dummies = pd.SparseDataFrame(df_hm_dummies)\n",
    "# df_sparse_hm_dummies.shape"
   ]
  },
  {
   "cell_type": "code",
   "execution_count": 139,
   "metadata": {},
   "outputs": [],
   "source": [
    "col_names = []\n",
    "\n",
    "for c_name in df_hm_dummies.columns:\n",
    "    col_names.append(\"Hour_Min_\" + str(c_name))\n",
    "\n",
    "df_hm_dummies.columns = col_names"
   ]
  },
  {
   "cell_type": "code",
   "execution_count": 141,
   "metadata": {},
   "outputs": [
    {
     "data": {
      "text/plain": [
       "(6559830, 400)"
      ]
     },
     "execution_count": 141,
     "metadata": {},
     "output_type": "execute_result"
    }
   ],
   "source": [
    "df_n_9 = df_n_9.merge(df_hm_dummies, left_index=True, right_index=True, how='left')\n",
    "df_n_9.shape\n",
    "\n",
    "# df_sparse_n_9 = df_sparse_n_9.merge(df_sparse_hm_dummies, left_index=True, right_index=True, how='left')\n",
    "# df_sparse_n_9.shape"
   ]
  },
  {
   "cell_type": "code",
   "execution_count": 142,
   "metadata": {},
   "outputs": [
    {
     "data": {
      "text/html": [
       "<div>\n",
       "<style>\n",
       "    .dataframe thead tr:only-child th {\n",
       "        text-align: right;\n",
       "    }\n",
       "\n",
       "    .dataframe thead th {\n",
       "        text-align: left;\n",
       "    }\n",
       "\n",
       "    .dataframe tbody tr th {\n",
       "        vertical-align: top;\n",
       "    }\n",
       "</style>\n",
       "<table border=\"1\" class=\"dataframe\">\n",
       "  <thead>\n",
       "    <tr style=\"text-align: right;\">\n",
       "      <th></th>\n",
       "      <th>obs_id</th>\n",
       "      <th>SiteId</th>\n",
       "      <th>Timestamp</th>\n",
       "      <th>ForecastId</th>\n",
       "      <th>Value</th>\n",
       "      <th>ForecastPeriodMin</th>\n",
       "      <th>Surface</th>\n",
       "      <th>BaseTemperature</th>\n",
       "      <th>isDayOff</th>\n",
       "      <th>isHoliday</th>\n",
       "      <th>...</th>\n",
       "      <th>Hour_Min_7_30</th>\n",
       "      <th>Hour_Min_7_45</th>\n",
       "      <th>Hour_Min_8_0</th>\n",
       "      <th>Hour_Min_8_15</th>\n",
       "      <th>Hour_Min_8_30</th>\n",
       "      <th>Hour_Min_8_45</th>\n",
       "      <th>Hour_Min_9_0</th>\n",
       "      <th>Hour_Min_9_15</th>\n",
       "      <th>Hour_Min_9_30</th>\n",
       "      <th>Hour_Min_9_45</th>\n",
       "    </tr>\n",
       "  </thead>\n",
       "  <tbody>\n",
       "    <tr>\n",
       "      <th>0</th>\n",
       "      <td>744519</td>\n",
       "      <td>1</td>\n",
       "      <td>2014-09-03</td>\n",
       "      <td>1</td>\n",
       "      <td>9.096555e+05</td>\n",
       "      <td>1440</td>\n",
       "      <td>1387.205119</td>\n",
       "      <td>18.0</td>\n",
       "      <td>0</td>\n",
       "      <td>0</td>\n",
       "      <td>...</td>\n",
       "      <td>0</td>\n",
       "      <td>0</td>\n",
       "      <td>0</td>\n",
       "      <td>0</td>\n",
       "      <td>0</td>\n",
       "      <td>0</td>\n",
       "      <td>0</td>\n",
       "      <td>0</td>\n",
       "      <td>0</td>\n",
       "      <td>0</td>\n",
       "    </tr>\n",
       "    <tr>\n",
       "      <th>1</th>\n",
       "      <td>7627564</td>\n",
       "      <td>1</td>\n",
       "      <td>2014-09-04</td>\n",
       "      <td>1</td>\n",
       "      <td>1.748273e+06</td>\n",
       "      <td>1440</td>\n",
       "      <td>1387.205119</td>\n",
       "      <td>18.0</td>\n",
       "      <td>0</td>\n",
       "      <td>0</td>\n",
       "      <td>...</td>\n",
       "      <td>0</td>\n",
       "      <td>0</td>\n",
       "      <td>0</td>\n",
       "      <td>0</td>\n",
       "      <td>0</td>\n",
       "      <td>0</td>\n",
       "      <td>0</td>\n",
       "      <td>0</td>\n",
       "      <td>0</td>\n",
       "      <td>0</td>\n",
       "    </tr>\n",
       "  </tbody>\n",
       "</table>\n",
       "<p>2 rows × 400 columns</p>\n",
       "</div>"
      ],
      "text/plain": [
       "    obs_id  SiteId  Timestamp  ForecastId         Value  ForecastPeriodMin  \\\n",
       "0   744519       1 2014-09-03           1  9.096555e+05               1440   \n",
       "1  7627564       1 2014-09-04           1  1.748273e+06               1440   \n",
       "\n",
       "       Surface  BaseTemperature  isDayOff  isHoliday      ...        \\\n",
       "0  1387.205119             18.0         0          0      ...         \n",
       "1  1387.205119             18.0         0          0      ...         \n",
       "\n",
       "   Hour_Min_7_30  Hour_Min_7_45  Hour_Min_8_0  Hour_Min_8_15  Hour_Min_8_30  \\\n",
       "0              0              0             0              0              0   \n",
       "1              0              0             0              0              0   \n",
       "\n",
       "   Hour_Min_8_45  Hour_Min_9_0  Hour_Min_9_15  Hour_Min_9_30  Hour_Min_9_45  \n",
       "0              0             0              0              0              0  \n",
       "1              0             0              0              0              0  \n",
       "\n",
       "[2 rows x 400 columns]"
      ]
     },
     "execution_count": 142,
     "metadata": {},
     "output_type": "execute_result"
    }
   ],
   "source": [
    "df_n_9.head(2)\n",
    "# df_sparse_n_9.head(2)"
   ]
  },
  {
   "cell_type": "code",
   "execution_count": null,
   "metadata": {},
   "outputs": [],
   "source": []
  },
  {
   "cell_type": "markdown",
   "metadata": {},
   "source": [
    "## Pickle Sparse DataFrame"
   ]
  },
  {
   "cell_type": "code",
   "execution_count": 101,
   "metadata": {},
   "outputs": [],
   "source": [
    "# df_sparse_n_9 = pd.SparseDataFrame(df_n_9)"
   ]
  },
  {
   "cell_type": "code",
   "execution_count": 143,
   "metadata": {},
   "outputs": [],
   "source": [
    "# create (or open) an hdf5 file and opens in append mode\n",
    "# hdf = pd.HDFStore(directory + 'df_n_9.h5')\n",
    "\n",
    "# put the dataset in the storage\n",
    "# hdf.put('df_n_9', df_n_9, format='table', data_columns=True)\n",
    "\n",
    "df_n_9.to_csv(directory + 'df_n_9.csv')\n",
    "#df_n_9.to_pickle('df_n_9.pkl')"
   ]
  },
  {
   "cell_type": "markdown",
   "metadata": {},
   "source": [
    "# Prepare Submission Set"
   ]
  },
  {
   "cell_type": "code",
   "execution_count": null,
   "metadata": {},
   "outputs": [],
   "source": []
  },
  {
   "cell_type": "code",
   "execution_count": null,
   "metadata": {},
   "outputs": [],
   "source": []
  },
  {
   "cell_type": "code",
   "execution_count": null,
   "metadata": {},
   "outputs": [],
   "source": []
  },
  {
   "cell_type": "code",
   "execution_count": null,
   "metadata": {},
   "outputs": [],
   "source": []
  },
  {
   "cell_type": "code",
   "execution_count": null,
   "metadata": {},
   "outputs": [],
   "source": []
  },
  {
   "cell_type": "markdown",
   "metadata": {},
   "source": [
    "# Baseline Forecasts\n",
    "\n",
    "* Note: where ML forecast is incomplete fill-in forecast values with the best available Baseline Forecast"
   ]
  },
  {
   "cell_type": "code",
   "execution_count": 144,
   "metadata": {},
   "outputs": [
    {
     "data": {
      "text/html": [
       "<div>\n",
       "<style>\n",
       "    .dataframe thead tr:only-child th {\n",
       "        text-align: right;\n",
       "    }\n",
       "\n",
       "    .dataframe thead th {\n",
       "        text-align: left;\n",
       "    }\n",
       "\n",
       "    .dataframe tbody tr th {\n",
       "        vertical-align: top;\n",
       "    }\n",
       "</style>\n",
       "<table border=\"1\" class=\"dataframe\">\n",
       "  <thead>\n",
       "    <tr style=\"text-align: right;\">\n",
       "      <th></th>\n",
       "      <th>obs_id</th>\n",
       "      <th>SiteId</th>\n",
       "      <th>Timestamp</th>\n",
       "      <th>ForecastId</th>\n",
       "      <th>Value</th>\n",
       "    </tr>\n",
       "  </thead>\n",
       "  <tbody>\n",
       "    <tr>\n",
       "      <th>0</th>\n",
       "      <td>1677832</td>\n",
       "      <td>1</td>\n",
       "      <td>2015-08-29</td>\n",
       "      <td>1</td>\n",
       "      <td>0.0</td>\n",
       "    </tr>\n",
       "    <tr>\n",
       "      <th>1</th>\n",
       "      <td>5379616</td>\n",
       "      <td>1</td>\n",
       "      <td>2015-08-30</td>\n",
       "      <td>1</td>\n",
       "      <td>0.0</td>\n",
       "    </tr>\n",
       "  </tbody>\n",
       "</table>\n",
       "</div>"
      ],
      "text/plain": [
       "    obs_id  SiteId  Timestamp  ForecastId  Value\n",
       "0  1677832       1 2015-08-29           1    0.0\n",
       "1  5379616       1 2015-08-30           1    0.0"
      ]
     },
     "execution_count": 144,
     "metadata": {},
     "output_type": "execute_result"
    }
   ],
   "source": [
    "# predict average 15min energy consumption by ForecastId\n",
    "df_submission_format.head(2)"
   ]
  },
  {
   "cell_type": "code",
   "execution_count": 145,
   "metadata": {},
   "outputs": [
    {
     "data": {
      "text/plain": [
       "(1309176, 5)"
      ]
     },
     "execution_count": 145,
     "metadata": {},
     "output_type": "execute_result"
    }
   ],
   "source": [
    "df_submission_format.shape"
   ]
  },
  {
   "cell_type": "code",
   "execution_count": 146,
   "metadata": {},
   "outputs": [
    {
     "data": {
      "text/html": [
       "<div>\n",
       "<style>\n",
       "    .dataframe thead tr:only-child th {\n",
       "        text-align: right;\n",
       "    }\n",
       "\n",
       "    .dataframe thead th {\n",
       "        text-align: left;\n",
       "    }\n",
       "\n",
       "    .dataframe tbody tr th {\n",
       "        vertical-align: top;\n",
       "    }\n",
       "</style>\n",
       "<table border=\"1\" class=\"dataframe\">\n",
       "  <thead>\n",
       "    <tr style=\"text-align: right;\">\n",
       "      <th></th>\n",
       "      <th>obs_id</th>\n",
       "      <th>SiteId</th>\n",
       "      <th>Timestamp</th>\n",
       "      <th>ForecastId</th>\n",
       "      <th>Value</th>\n",
       "    </tr>\n",
       "  </thead>\n",
       "  <tbody>\n",
       "    <tr>\n",
       "      <th>0</th>\n",
       "      <td>744519</td>\n",
       "      <td>1</td>\n",
       "      <td>2014-09-03</td>\n",
       "      <td>1</td>\n",
       "      <td>9.096555e+05</td>\n",
       "    </tr>\n",
       "    <tr>\n",
       "      <th>1</th>\n",
       "      <td>7627564</td>\n",
       "      <td>1</td>\n",
       "      <td>2014-09-04</td>\n",
       "      <td>1</td>\n",
       "      <td>1.748273e+06</td>\n",
       "    </tr>\n",
       "  </tbody>\n",
       "</table>\n",
       "</div>"
      ],
      "text/plain": [
       "    obs_id  SiteId  Timestamp  ForecastId         Value\n",
       "0   744519       1 2014-09-03           1  9.096555e+05\n",
       "1  7627564       1 2014-09-04           1  1.748273e+06"
      ]
     },
     "execution_count": 146,
     "metadata": {},
     "output_type": "execute_result"
    }
   ],
   "source": [
    "df_train.head(2)"
   ]
  },
  {
   "cell_type": "markdown",
   "metadata": {},
   "source": [
    "## Submission_1\n",
    "\n",
    "* forecast a single average value of training data for each ForecastId\n",
    "* fillna(0)"
   ]
  },
  {
   "cell_type": "code",
   "execution_count": 147,
   "metadata": {},
   "outputs": [
    {
     "data": {
      "text/html": [
       "<div>\n",
       "<style>\n",
       "    .dataframe thead tr:only-child th {\n",
       "        text-align: right;\n",
       "    }\n",
       "\n",
       "    .dataframe thead th {\n",
       "        text-align: left;\n",
       "    }\n",
       "\n",
       "    .dataframe tbody tr th {\n",
       "        vertical-align: top;\n",
       "    }\n",
       "</style>\n",
       "<table border=\"1\" class=\"dataframe\">\n",
       "  <thead>\n",
       "    <tr style=\"text-align: right;\">\n",
       "      <th></th>\n",
       "      <th>ForecastId</th>\n",
       "      <th>Value</th>\n",
       "    </tr>\n",
       "  </thead>\n",
       "  <tbody>\n",
       "    <tr>\n",
       "      <th>0</th>\n",
       "      <td>1</td>\n",
       "      <td>4.463354e+06</td>\n",
       "    </tr>\n",
       "    <tr>\n",
       "      <th>1</th>\n",
       "      <td>2</td>\n",
       "      <td>5.869653e+06</td>\n",
       "    </tr>\n",
       "    <tr>\n",
       "      <th>2</th>\n",
       "      <td>3</td>\n",
       "      <td>3.683968e+06</td>\n",
       "    </tr>\n",
       "    <tr>\n",
       "      <th>3</th>\n",
       "      <td>4</td>\n",
       "      <td>5.682236e+06</td>\n",
       "    </tr>\n",
       "    <tr>\n",
       "      <th>4</th>\n",
       "      <td>5</td>\n",
       "      <td>8.768727e+04</td>\n",
       "    </tr>\n",
       "  </tbody>\n",
       "</table>\n",
       "</div>"
      ],
      "text/plain": [
       "   ForecastId         Value\n",
       "0           1  4.463354e+06\n",
       "1           2  5.869653e+06\n",
       "2           3  3.683968e+06\n",
       "3           4  5.682236e+06\n",
       "4           5  8.768727e+04"
      ]
     },
     "execution_count": 147,
     "metadata": {},
     "output_type": "execute_result"
    }
   ],
   "source": [
    "df_train_avg_forecastid = (df_train.groupby(['ForecastId'], as_index=False).agg({'Value':'mean'}))\n",
    "df_train_avg_forecastid.head()"
   ]
  },
  {
   "cell_type": "code",
   "execution_count": 148,
   "metadata": {},
   "outputs": [
    {
     "data": {
      "text/html": [
       "<div>\n",
       "<style>\n",
       "    .dataframe thead tr:only-child th {\n",
       "        text-align: right;\n",
       "    }\n",
       "\n",
       "    .dataframe thead th {\n",
       "        text-align: left;\n",
       "    }\n",
       "\n",
       "    .dataframe tbody tr th {\n",
       "        vertical-align: top;\n",
       "    }\n",
       "</style>\n",
       "<table border=\"1\" class=\"dataframe\">\n",
       "  <thead>\n",
       "    <tr style=\"text-align: right;\">\n",
       "      <th></th>\n",
       "      <th>obs_id</th>\n",
       "      <th>SiteId</th>\n",
       "      <th>Timestamp</th>\n",
       "      <th>ForecastId</th>\n",
       "      <th>Value_x</th>\n",
       "      <th>Value_y</th>\n",
       "    </tr>\n",
       "  </thead>\n",
       "  <tbody>\n",
       "    <tr>\n",
       "      <th>0</th>\n",
       "      <td>1677832</td>\n",
       "      <td>1</td>\n",
       "      <td>2015-08-29</td>\n",
       "      <td>1</td>\n",
       "      <td>0.0</td>\n",
       "      <td>4.463354e+06</td>\n",
       "    </tr>\n",
       "    <tr>\n",
       "      <th>1</th>\n",
       "      <td>5379616</td>\n",
       "      <td>1</td>\n",
       "      <td>2015-08-30</td>\n",
       "      <td>1</td>\n",
       "      <td>0.0</td>\n",
       "      <td>4.463354e+06</td>\n",
       "    </tr>\n",
       "  </tbody>\n",
       "</table>\n",
       "</div>"
      ],
      "text/plain": [
       "    obs_id  SiteId  Timestamp  ForecastId  Value_x       Value_y\n",
       "0  1677832       1 2015-08-29           1      0.0  4.463354e+06\n",
       "1  5379616       1 2015-08-30           1      0.0  4.463354e+06"
      ]
     },
     "execution_count": 148,
     "metadata": {},
     "output_type": "execute_result"
    }
   ],
   "source": [
    "df_submission_1 = df_submission_format.merge(df_train_avg_forecastid, on='ForecastId', how='left')\n",
    "df_submission_1.head(2)"
   ]
  },
  {
   "cell_type": "code",
   "execution_count": 149,
   "metadata": {},
   "outputs": [
    {
     "data": {
      "text/html": [
       "<div>\n",
       "<style>\n",
       "    .dataframe thead tr:only-child th {\n",
       "        text-align: right;\n",
       "    }\n",
       "\n",
       "    .dataframe thead th {\n",
       "        text-align: left;\n",
       "    }\n",
       "\n",
       "    .dataframe tbody tr th {\n",
       "        vertical-align: top;\n",
       "    }\n",
       "</style>\n",
       "<table border=\"1\" class=\"dataframe\">\n",
       "  <thead>\n",
       "    <tr style=\"text-align: right;\">\n",
       "      <th></th>\n",
       "      <th>obs_id</th>\n",
       "      <th>SiteId</th>\n",
       "      <th>Timestamp</th>\n",
       "      <th>ForecastId</th>\n",
       "      <th>Value</th>\n",
       "    </tr>\n",
       "  </thead>\n",
       "  <tbody>\n",
       "    <tr>\n",
       "      <th>0</th>\n",
       "      <td>1677832</td>\n",
       "      <td>1</td>\n",
       "      <td>2015-08-29</td>\n",
       "      <td>1</td>\n",
       "      <td>4.463354e+06</td>\n",
       "    </tr>\n",
       "    <tr>\n",
       "      <th>1</th>\n",
       "      <td>5379616</td>\n",
       "      <td>1</td>\n",
       "      <td>2015-08-30</td>\n",
       "      <td>1</td>\n",
       "      <td>4.463354e+06</td>\n",
       "    </tr>\n",
       "  </tbody>\n",
       "</table>\n",
       "</div>"
      ],
      "text/plain": [
       "    obs_id  SiteId  Timestamp  ForecastId         Value\n",
       "0  1677832       1 2015-08-29           1  4.463354e+06\n",
       "1  5379616       1 2015-08-30           1  4.463354e+06"
      ]
     },
     "execution_count": 149,
     "metadata": {},
     "output_type": "execute_result"
    }
   ],
   "source": [
    "df_submission_1 = df_submission_1.drop('Value_x', axis=1)\n",
    "df_submission_1 = df_submission_1.rename(columns={'Value_y':'Value'})\n",
    "df_submission_1.head(2)"
   ]
  },
  {
   "cell_type": "code",
   "execution_count": 150,
   "metadata": {},
   "outputs": [
    {
     "data": {
      "text/plain": [
       "(1309176, 5)"
      ]
     },
     "execution_count": 150,
     "metadata": {},
     "output_type": "execute_result"
    }
   ],
   "source": [
    "df_submission_1.shape"
   ]
  },
  {
   "cell_type": "code",
   "execution_count": 151,
   "metadata": {},
   "outputs": [
    {
     "data": {
      "text/plain": [
       "1920"
      ]
     },
     "execution_count": 151,
     "metadata": {},
     "output_type": "execute_result"
    }
   ],
   "source": [
    "# 1,920 NaN Values\n",
    "df_submission_1['Value'].isnull().sum()"
   ]
  },
  {
   "cell_type": "code",
   "execution_count": 152,
   "metadata": {},
   "outputs": [],
   "source": [
    "# fillna with 0\n",
    "df_submission_1['Value'] = df_submission_1['Value'].fillna(value=0)"
   ]
  },
  {
   "cell_type": "code",
   "execution_count": 153,
   "metadata": {},
   "outputs": [
    {
     "data": {
      "text/plain": [
       "0"
      ]
     },
     "execution_count": 153,
     "metadata": {},
     "output_type": "execute_result"
    }
   ],
   "source": [
    "# 0 NaN Values\n",
    "df_submission_1.Value.isnull().sum()"
   ]
  },
  {
   "cell_type": "code",
   "execution_count": 154,
   "metadata": {},
   "outputs": [
    {
     "data": {
      "text/html": [
       "<div>\n",
       "<style>\n",
       "    .dataframe thead tr:only-child th {\n",
       "        text-align: right;\n",
       "    }\n",
       "\n",
       "    .dataframe thead th {\n",
       "        text-align: left;\n",
       "    }\n",
       "\n",
       "    .dataframe tbody tr th {\n",
       "        vertical-align: top;\n",
       "    }\n",
       "</style>\n",
       "<table border=\"1\" class=\"dataframe\">\n",
       "  <thead>\n",
       "    <tr style=\"text-align: right;\">\n",
       "      <th></th>\n",
       "      <th>SiteId</th>\n",
       "      <th>Timestamp</th>\n",
       "      <th>ForecastId</th>\n",
       "      <th>Value</th>\n",
       "    </tr>\n",
       "    <tr>\n",
       "      <th>obs_id</th>\n",
       "      <th></th>\n",
       "      <th></th>\n",
       "      <th></th>\n",
       "      <th></th>\n",
       "    </tr>\n",
       "  </thead>\n",
       "  <tbody>\n",
       "    <tr>\n",
       "      <th>1677832</th>\n",
       "      <td>1</td>\n",
       "      <td>2015-08-29</td>\n",
       "      <td>1</td>\n",
       "      <td>4.463354e+06</td>\n",
       "    </tr>\n",
       "    <tr>\n",
       "      <th>5379616</th>\n",
       "      <td>1</td>\n",
       "      <td>2015-08-30</td>\n",
       "      <td>1</td>\n",
       "      <td>4.463354e+06</td>\n",
       "    </tr>\n",
       "  </tbody>\n",
       "</table>\n",
       "</div>"
      ],
      "text/plain": [
       "         SiteId  Timestamp  ForecastId         Value\n",
       "obs_id                                              \n",
       "1677832       1 2015-08-29           1  4.463354e+06\n",
       "5379616       1 2015-08-30           1  4.463354e+06"
      ]
     },
     "execution_count": 154,
     "metadata": {},
     "output_type": "execute_result"
    }
   ],
   "source": [
    "# set index to obs_id to match submission format\n",
    "df_submission_1 = df_submission_1.set_index('obs_id')\n",
    "df_submission_1.head(2)"
   ]
  },
  {
   "cell_type": "code",
   "execution_count": 155,
   "metadata": {},
   "outputs": [],
   "source": [
    "# create submission_1.csv\n",
    "# drivendata : 0.007459\n",
    "df_submission_1.to_csv(directory + 'submission_1.csv')"
   ]
  },
  {
   "cell_type": "markdown",
   "metadata": {},
   "source": [
    "## Submission_2\n",
    "\n",
    "* forecast the average hour:minute energy consumption for each ForecastId \n",
    "    * (i.e. 96 points per 15min interval submission frequency)\n",
    "    * (i.e. 24 points per 60min interval submission frequency)\n",
    "    * (i.e.  1 point per 1140min interval submission frequency (same result as submission_1))\n",
    "* fillna(0)"
   ]
  },
  {
   "cell_type": "code",
   "execution_count": null,
   "metadata": {},
   "outputs": [],
   "source": [
    "# create df_train_2 with hour:min data\n",
    "df_train_2 = df_train.copy(deep=True)\n",
    "df_train_2['Hour'] = df_train_2['Timestamp'].dt.hour\n",
    "df_train_2['Minute'] = df_train_2['Timestamp'].dt.minute\n",
    "df_train_2.head(2)"
   ]
  },
  {
   "cell_type": "code",
   "execution_count": null,
   "metadata": {},
   "outputs": [],
   "source": [
    "# get average value per time submission frequency by ForecastId\n",
    "df_train_avg_forecastid_hourmin = (df_train_2.groupby(['ForecastId','Hour','Minute'], as_index=False).agg({'Value':'mean'}))\n",
    "df_train_avg_forecastid_hourmin.head()"
   ]
  },
  {
   "cell_type": "code",
   "execution_count": null,
   "metadata": {},
   "outputs": [],
   "source": [
    "df_train_avg_forecastid_hourmin.shape"
   ]
  },
  {
   "cell_type": "code",
   "execution_count": null,
   "metadata": {},
   "outputs": [],
   "source": [
    "# create df_submission_format_2 with hour:min data\n",
    "df_submission_format_2 = df_submission_format.copy(deep=True)\n",
    "df_submission_format_2['Timestamp'] = pd.to_datetime(df_submission_format_2['Timestamp'])\n",
    "df_submission_format_2['Hour'] = df_submission_format_2['Timestamp'].dt.hour\n",
    "df_submission_format_2['Minute'] = df_submission_format_2['Timestamp'].dt.minute\n",
    "df_submission_format_2.head(2)"
   ]
  },
  {
   "cell_type": "code",
   "execution_count": null,
   "metadata": {},
   "outputs": [],
   "source": [
    "df_submission_2 = df_submission_format_2.merge(df_train_avg_forecastid_hourmin, on=['ForecastId','Hour','Minute'], how='left')\n",
    "df_submission_2.head(2)"
   ]
  },
  {
   "cell_type": "code",
   "execution_count": null,
   "metadata": {},
   "outputs": [],
   "source": [
    "df_submission_2 = df_submission_2.drop(['Value_x', 'Hour', 'Minute'], axis=1)\n",
    "df_submission_2 = df_submission_2.rename(columns={'Value_y':'Value'})\n",
    "df_submission_2.head(2)"
   ]
  },
  {
   "cell_type": "code",
   "execution_count": null,
   "metadata": {},
   "outputs": [],
   "source": [
    "df_submission_2.shape"
   ]
  },
  {
   "cell_type": "code",
   "execution_count": null,
   "metadata": {},
   "outputs": [],
   "source": [
    "# 2,482 NaN Values\n",
    "df_submission_2['Value'].isnull().sum()"
   ]
  },
  {
   "cell_type": "code",
   "execution_count": null,
   "metadata": {},
   "outputs": [],
   "source": [
    "# fillna with 0\n",
    "df_submission_2['Value'] = df_submission_2['Value'].fillna(value=0)"
   ]
  },
  {
   "cell_type": "code",
   "execution_count": null,
   "metadata": {},
   "outputs": [],
   "source": [
    "# 0 NaN Values\n",
    "df_submission_2['Value'].isnull().sum()"
   ]
  },
  {
   "cell_type": "code",
   "execution_count": null,
   "metadata": {},
   "outputs": [],
   "source": [
    "# set index to obs_id to match submission format\n",
    "df_submission_2 = df_submission_2.set_index('obs_id')\n",
    "df_submission_2.head(2)"
   ]
  },
  {
   "cell_type": "code",
   "execution_count": null,
   "metadata": {},
   "outputs": [],
   "source": [
    "# create submission_2.csv\n",
    "# drivendata score: 0.005652\n",
    "# df_submission_2.to_csv(directory + 'submission_2.csv')"
   ]
  },
  {
   "cell_type": "markdown",
   "metadata": {},
   "source": [
    "## df_submission_3\n",
    "\n",
    "* create a distribution of daily energy consumption for various SiteId's\n",
    "* make two distributions: 1. non-holiday / non-off-day, 2. holiday or off-day\n",
    "* then add a multiplier to the distributions based upon the season of year\n",
    "    * (i.e. 96 points per 15min interval submission frequency)\n",
    "    * (i.e. 24 points per 60min interval submission frequency)\n",
    "    * (i.e.  1 point per 1140min interval submission frequency (same result as submission_1))\n",
    "* fillna(0)"
   ]
  },
  {
   "cell_type": "code",
   "execution_count": null,
   "metadata": {},
   "outputs": [],
   "source": [
    "df_n_8.head(1)"
   ]
  },
  {
   "cell_type": "code",
   "execution_count": null,
   "metadata": {},
   "outputs": [],
   "source": [
    "# create df_n_submission_3 with hour:min data\n",
    "df_n_submission_3 = df_n_8.copy(deep=True)\n",
    "df_n_submission_3['Hour'] = df_n_submission_3['Timestamp'].dt.hour\n",
    "df_n_submission_3['Minute'] = df_n_submission_3['Timestamp'].dt.minute\n",
    "df_n_submission_3.head(2)"
   ]
  },
  {
   "cell_type": "code",
   "execution_count": null,
   "metadata": {},
   "outputs": [],
   "source": [
    "drop_columns = ['Value', 'Value_Lag_1', 'Value_Lag_2', 'Value_Lag_3', 'Value_Lag_4', 'Temp_Minus_BaseTemp',]\n",
    "df_n_submission_3 = df_n_submission_3.drop(drop_columns, axis=1)\n",
    "df_n_submission_3.head(2)"
   ]
  },
  {
   "cell_type": "code",
   "execution_count": null,
   "metadata": {},
   "outputs": [],
   "source": [
    "df_n_submission_3['isDayOffOrHoliday'] = (df_n_submission_3['isDayOff'] + df_n_submission_3['isHoliday']) > 0\n",
    "df_n_submission_3['isDayOffOrHoliday'] = df_n_submission_3['isDayOffOrHoliday'].astype(int)\n",
    "df_n_submission_3.head(2)"
   ]
  },
  {
   "cell_type": "code",
   "execution_count": null,
   "metadata": {},
   "outputs": [],
   "source": [
    "# get average value per time submission frequency by ForecastId\n",
    "mask = (df_n_submission_3['ForecastPeriodMin'] == 15)\n",
    "df_s_3_split_avg_forecastid_hourmin_15 = (df_n_submission_3[mask].groupby(['SiteId','isDayOff','Hour','Minute'], as_index=False).agg({'Value_Int':'mean'}))\n",
    "df_s_3_split_avg_forecastid_hourmin_15.head()"
   ]
  },
  {
   "cell_type": "code",
   "execution_count": null,
   "metadata": {},
   "outputs": [],
   "source": [
    "# these are the SiteId that have ForecastPeriodMin == 15\n",
    "sid_fpm_15 = df_s_3_split_avg_forecastid_hourmin_15['SiteId'].unique()\n",
    "sid_fpm_15"
   ]
  },
  {
   "cell_type": "code",
   "execution_count": null,
   "metadata": {},
   "outputs": [],
   "source": [
    "sid = 41\n",
    "mask = (df_s_3_split_avg_forecastid_hourmin['SiteId'] == sid) & (df_s_3_split_avg_forecastid_hourmin['isDayOff'] == 0)\n",
    "df_s_3_split_avg_forecastid_hourmin[mask]['Value_Int'].plot()\n",
    "\n",
    "mask = (df_s_3_split_avg_forecastid_hourmin['SiteId'] == sid) & (df_s_3_split_avg_forecastid_hourmin['isDayOff'] == 1)\n",
    "df_s_3_split_avg_forecastid_hourmin[mask]['Value_Int'].plot()"
   ]
  },
  {
   "cell_type": "markdown",
   "metadata": {},
   "source": [
    "# TO DO\n",
    "* timeseries tutorial analytics vidhya\n",
    "* start the presentation: create appendix EDA slides\n",
    "\n",
    "**Today's Goals**\n",
    "* Time Series as Index\n",
    "* Fill NaN / Ignore in train data\n",
    "* Understand train vs. submission time periods\n",
    "    * Use Forecast values as inputs for future forecasts\n",
    "* feature engineering for temp v. surface area v. ppl in building (stand in is vacation days)\n",
    "* \n",
    "    "
   ]
  },
  {
   "cell_type": "code",
   "execution_count": null,
   "metadata": {},
   "outputs": [],
   "source": []
  }
 ],
 "metadata": {
  "kernelspec": {
   "display_name": "Python 3",
   "language": "python",
   "name": "python3"
  },
  "language_info": {
   "codemirror_mode": {
    "name": "ipython",
    "version": 3
   },
   "file_extension": ".py",
   "mimetype": "text/x-python",
   "name": "python",
   "nbconvert_exporter": "python",
   "pygments_lexer": "ipython3",
   "version": "3.6.2"
  },
  "toc": {
   "nav_menu": {},
   "number_sections": true,
   "sideBar": true,
   "skip_h1_title": false,
   "title_cell": "Table of Contents",
   "title_sidebar": "Contents",
   "toc_cell": false,
   "toc_position": {
    "height": "calc(100% - 180px)",
    "left": "10px",
    "top": "150px",
    "width": "391px"
   },
   "toc_section_display": true,
   "toc_window_display": true
  }
 },
 "nbformat": 4,
 "nbformat_minor": 2
}
