{
 "cells": [
  {
   "cell_type": "markdown",
   "metadata": {},
   "source": [
    "# Import Libraries & Data"
   ]
  },
  {
   "cell_type": "code",
   "execution_count": 1,
   "metadata": {},
   "outputs": [],
   "source": [
    "import pandas as pd\n",
    "import numpy as np\n",
    "import matplotlib.pyplot as plt\n",
    "%matplotlib inline"
   ]
  },
  {
   "cell_type": "code",
   "execution_count": 2,
   "metadata": {},
   "outputs": [],
   "source": [
    "df = pd.read_pickle('mldataframe.pkl')"
   ]
  },
  {
   "cell_type": "markdown",
   "metadata": {},
   "source": [
    "# Exploratory Data Analysis"
   ]
  },
  {
   "cell_type": "markdown",
   "metadata": {},
   "source": [
    "## Number of Forecasts by SiteId"
   ]
  },
  {
   "cell_type": "code",
   "execution_count": 3,
   "metadata": {},
   "outputs": [],
   "source": [
    "df_SiteId_Num_Forecasts = df.groupby(['SiteId'], as_index=False).agg({'ForecastId': lambda x: x.nunique()})"
   ]
  },
  {
   "cell_type": "code",
   "execution_count": 4,
   "metadata": {},
   "outputs": [],
   "source": [
    "df_SiteId_Num_Forecasts.columns = ['SiteId', 'ForecastId_nunique']"
   ]
  },
  {
   "cell_type": "code",
   "execution_count": 5,
   "metadata": {},
   "outputs": [
    {
     "data": {
      "text/html": [
       "<div>\n",
       "<style>\n",
       "    .dataframe thead tr:only-child th {\n",
       "        text-align: right;\n",
       "    }\n",
       "\n",
       "    .dataframe thead th {\n",
       "        text-align: left;\n",
       "    }\n",
       "\n",
       "    .dataframe tbody tr th {\n",
       "        vertical-align: top;\n",
       "    }\n",
       "</style>\n",
       "<table border=\"1\" class=\"dataframe\">\n",
       "  <thead>\n",
       "    <tr style=\"text-align: right;\">\n",
       "      <th></th>\n",
       "      <th>SiteId</th>\n",
       "      <th>ForecastId_nunique</th>\n",
       "    </tr>\n",
       "  </thead>\n",
       "  <tbody>\n",
       "    <tr>\n",
       "      <th>0</th>\n",
       "      <td>1</td>\n",
       "      <td>4</td>\n",
       "    </tr>\n",
       "    <tr>\n",
       "      <th>1</th>\n",
       "      <td>2</td>\n",
       "      <td>36</td>\n",
       "    </tr>\n",
       "    <tr>\n",
       "      <th>2</th>\n",
       "      <td>3</td>\n",
       "      <td>1</td>\n",
       "    </tr>\n",
       "    <tr>\n",
       "      <th>3</th>\n",
       "      <td>5</td>\n",
       "      <td>1</td>\n",
       "    </tr>\n",
       "    <tr>\n",
       "      <th>4</th>\n",
       "      <td>6</td>\n",
       "      <td>146</td>\n",
       "    </tr>\n",
       "  </tbody>\n",
       "</table>\n",
       "</div>"
      ],
      "text/plain": [
       "   SiteId  ForecastId_nunique\n",
       "0       1                   4\n",
       "1       2                  36\n",
       "2       3                   1\n",
       "3       5                   1\n",
       "4       6                 146"
      ]
     },
     "execution_count": 5,
     "metadata": {},
     "output_type": "execute_result"
    }
   ],
   "source": [
    "df_SiteId_Num_Forecasts.head()"
   ]
  },
  {
   "cell_type": "code",
   "execution_count": 6,
   "metadata": {},
   "outputs": [
    {
     "data": {
      "image/png": "[encoded data removed]",
      "text/plain": [
       "<matplotlib.figure.Figure at 0x14fd22668>"
      ]
     },
     "metadata": {},
     "output_type": "display_data"
    }
   ],
   "source": [
    "x = df_SiteId_Num_Forecasts['SiteId']\n",
    "y = df_SiteId_Num_Forecasts['ForecastId_nunique']\n",
    "fig = plt.figure(figsize=(6,4))\n",
    "plt.hist(df_SiteId_Num_Forecasts['ForecastId_nunique'], bins=40)\n",
    "plt.title(\"Train.csv: Histogram of SiteId's with # of ForecastId's\", size=12)\n",
    "plt.xlabel(\"# of ForecastId's\", size=12)\n",
    "plt.ylabel(\"Count of SiteId's\", size=12)\n",
    "plt.tight_layout();\n",
    "fig.savefig('EDA_hist_Num_SiteIdswithForecastIds.png')"
   ]
  },
  {
   "cell_type": "markdown",
   "metadata": {},
   "source": [
    "## Number of Forecasts by Submission Frequency"
   ]
  },
  {
   "cell_type": "code",
   "execution_count": 7,
   "metadata": {},
   "outputs": [],
   "source": [
    "df_ForecastId_Num_Timestamps = df.groupby(['SiteId', 'ForecastId'], as_index=False).agg({'Timestamp': 'count'})"
   ]
  },
  {
   "cell_type": "code",
   "execution_count": 8,
   "metadata": {},
   "outputs": [],
   "source": [
    "# Value_counts: Number of Timestamp Observations\n",
    "df_Num_Forecasts_by_Frequency = pd.DataFrame(df_ForecastId_Num_Timestamps.Timestamp.value_counts())\n",
    "df_Num_Forecasts_by_Frequency = df_Num_Forecasts_by_Frequency.reset_index()"
   ]
  },
  {
   "cell_type": "code",
   "execution_count": 9,
   "metadata": {},
   "outputs": [],
   "source": [
    "df_Num_Forecasts_by_Frequency.columns = ['ForecastPeriodMin', 'Count']"
   ]
  },
  {
   "cell_type": "code",
   "execution_count": 11,
   "metadata": {},
   "outputs": [
    {
     "data": {
      "image/png": "[encoded data removed]",
      "text/plain": [
       "<matplotlib.figure.Figure at 0x121242518>"
      ]
     },
     "metadata": {},
     "output_type": "display_data"
    }
   ],
   "source": [
    "x = df_Num_Forecasts_by_Frequency['ForecastPeriodMin']\n",
    "y = df_Num_Forecasts_by_Frequency['Count']\n",
    "fig = plt.figure(figsize=(6,4))\n",
    "plt.bar(range(len(y)),y)\n",
    "plt.xticks(range(len(x)),x)\n",
    "plt.title(\"Train.csv: # of ForecastId's by Submission Frequency\", size=12)\n",
    "plt.xlabel('Submission Frequency of ForecastId (in Minutes)', size=12)\n",
    "plt.ylabel('Count of ForecastId', size=12)\n",
    "plt.tight_layout();\n",
    "fig.savefig('EDA_bar_Num_ForecastPeriodsbyFrequency.png')"
   ]
  },
  {
   "cell_type": "markdown",
   "metadata": {},
   "source": [
    "## EDA TO DO ###\n",
    "* Graph % of NaN per Forecast\n",
    "* Graph data over time per Forecast (for a sample)"
   ]
  },
  {
   "cell_type": "code",
   "execution_count": null,
   "metadata": {},
   "outputs": [],
   "source": []
  },
  {
   "cell_type": "code",
   "execution_count": null,
   "metadata": {},
   "outputs": [],
   "source": []
  },
  {
   "cell_type": "code",
   "execution_count": null,
   "metadata": {},
   "outputs": [],
   "source": []
  },
  {
   "cell_type": "markdown",
   "metadata": {},
   "source": [
    "**TO DO**\n",
    "* timeseries tutorial analytics vidhya\n",
    "* start the presentation: create appendix EDA slides\n",
    "\n",
    "**Today's Goals**\n",
    "* Time Series as Index\n",
    "* Fill NaN / Ignore in train data\n",
    "* Understand train vs. submission time periods\n",
    "    * Use Forecast values as inputs for future forecasts\n",
    "* feature engineering for temp v. surface area v. ppl in building (stand in is vacation days)\n",
    "* \n",
    "    "
   ]
  },
  {
   "cell_type": "code",
   "execution_count": null,
   "metadata": {},
   "outputs": [],
   "source": []
  }
 ],
 "metadata": {
  "kernelspec": {
   "display_name": "Python 3",
   "language": "python",
   "name": "python3"
  },
  "language_info": {
   "codemirror_mode": {
    "name": "ipython",
    "version": 3
   },
   "file_extension": ".py",
   "mimetype": "text/x-python",
   "name": "python",
   "nbconvert_exporter": "python",
   "pygments_lexer": "ipython3",
   "version": "3.6.2"
  },
  "toc": {
   "nav_menu": {},
   "number_sections": true,
   "sideBar": true,
   "skip_h1_title": false,
   "title_cell": "Table of Contents",
   "title_sidebar": "Contents",
   "toc_cell": false,
   "toc_position": {
    "height": "calc(100% - 180px)",
    "left": "10px",
    "top": "150px",
    "width": "391px"
   },
   "toc_section_display": true,
   "toc_window_display": true
  }
 },
 "nbformat": 4,
 "nbformat_minor": 2
}
