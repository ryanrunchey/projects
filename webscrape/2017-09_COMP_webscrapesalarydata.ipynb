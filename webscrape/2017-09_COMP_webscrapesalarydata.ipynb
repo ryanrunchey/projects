{
 "cells": [
  {
   "cell_type": "markdown",
   "metadata": {},
   "source": [
    "# Import Libraries\n",
    "\n",
    "* https://chromedriver.storage.googleapis.com/index.html?path=2.40/"
   ]
  },
  {
   "cell_type": "code",
   "execution_count": 1,
   "metadata": {},
   "outputs": [],
   "source": [
    "import pandas as pd\n",
    "import numpy as np\n",
    "\n",
    "import string\n",
    "from selenium import webdriver\n",
    "from selenium.webdriver.common.by import By\n",
    "from selenium.webdriver.support.ui import WebDriverWait\n",
    "from selenium.webdriver.support import expected_conditions as EC\n",
    "from selenium.common.exceptions import TimeoutException\n",
    "from time import sleep\n",
    "import time"
   ]
  },
  {
   "cell_type": "markdown",
   "metadata": {},
   "source": [
    "# Import Jobs and Locations"
   ]
  },
  {
   "cell_type": "code",
   "execution_count": 2,
   "metadata": {},
   "outputs": [
    {
     "data": {
      "text/html": [
       "<div>\n",
       "<style>\n",
       "    .dataframe thead tr:only-child th {\n",
       "        text-align: right;\n",
       "    }\n",
       "\n",
       "    .dataframe thead th {\n",
       "        text-align: left;\n",
       "    }\n",
       "\n",
       "    .dataframe tbody tr th {\n",
       "        vertical-align: top;\n",
       "    }\n",
       "</style>\n",
       "<table border=\"1\" class=\"dataframe\">\n",
       "  <thead>\n",
       "    <tr style=\"text-align: right;\">\n",
       "      <th></th>\n",
       "      <th>Dash - Salary.com Job Title</th>\n",
       "      <th>Location</th>\n",
       "    </tr>\n",
       "  </thead>\n",
       "  <tbody>\n",
       "    <tr>\n",
       "      <th>0</th>\n",
       "      <td>Accounts-Payable-Clerk</td>\n",
       "      <td>Goleta-CA</td>\n",
       "    </tr>\n",
       "    <tr>\n",
       "      <th>1</th>\n",
       "      <td>Accounts-Payable-Clerk-Sr</td>\n",
       "      <td>Goleta-CA</td>\n",
       "    </tr>\n",
       "    <tr>\n",
       "      <th>2</th>\n",
       "      <td>Accounts-Receivable-Clerk</td>\n",
       "      <td>Goleta-CA</td>\n",
       "    </tr>\n",
       "    <tr>\n",
       "      <th>3</th>\n",
       "      <td>Credit-and-Collections-Manager</td>\n",
       "      <td>Goleta-CA</td>\n",
       "    </tr>\n",
       "    <tr>\n",
       "      <th>4</th>\n",
       "      <td>Accounts-Receivable-Manager</td>\n",
       "      <td>Goleta-CA</td>\n",
       "    </tr>\n",
       "  </tbody>\n",
       "</table>\n",
       "</div>"
      ],
      "text/plain": [
       "      Dash - Salary.com Job Title   Location\n",
       "0          Accounts-Payable-Clerk  Goleta-CA\n",
       "1       Accounts-Payable-Clerk-Sr  Goleta-CA\n",
       "2       Accounts-Receivable-Clerk  Goleta-CA\n",
       "3  Credit-and-Collections-Manager  Goleta-CA\n",
       "4     Accounts-Receivable-Manager  Goleta-CA"
      ]
     },
     "execution_count": 2,
     "metadata": {},
     "output_type": "execute_result"
    }
   ],
   "source": [
    "df = pd.read_csv('2017-09_COMP_input.csv')\n",
    "df.head()"
   ]
  },
  {
   "cell_type": "markdown",
   "metadata": {},
   "source": [
    "# Webscrape Salary.com"
   ]
  },
  {
   "cell_type": "code",
   "execution_count": 3,
   "metadata": {},
   "outputs": [],
   "source": [
    "## start timer\n",
    "\n",
    "time_start = time.time()"
   ]
  },
  {
   "cell_type": "code",
   "execution_count": 4,
   "metadata": {},
   "outputs": [],
   "source": [
    "## function for returning job url\n",
    "## URL FORMAT+SANTA-BARBARA-CA: http://swz.salary.com/SalaryWizard/Accountant-I-Salary-Details-Santa-Barbara-CA.aspx\n",
    "## URL FORMAT+DALLAS-TX: http://swz.salary.com/SalaryWizard/Accountant-I-Salary-Details-Dallas-TX.aspx\n",
    "\n",
    "def get_url_for_job(title, location):\n",
    "    return 'http://swz.salary.com/SalaryWizard/' + title + '-Salary-Details-' + location + '.aspx'"
   ]
  },
  {
   "cell_type": "code",
   "execution_count": 5,
   "metadata": {},
   "outputs": [
    {
     "name": "stdout",
     "output_type": "stream",
     "text": [
      "Going to salary.com\n",
      "done with short sleep 30 seconds\n"
     ]
    }
   ],
   "source": [
    "## webscrape salary.com data\n",
    "\n",
    "driver = webdriver.Chrome('/Users/ryanrunchey/ds/webscrape/chromedriver')\n",
    "print('Going to salary.com')\n",
    "driver.get('http://www.salary.com/category/salary/')\n",
    "sleep(30)\n",
    "print('done with short sleep 30 seconds')"
   ]
  },
  {
   "cell_type": "code",
   "execution_count": 6,
   "metadata": {},
   "outputs": [
    {
     "name": "stdout",
     "output_type": "stream",
     "text": [
      "--------------------------\n",
      "Going to url for title Accounts-Payable-Clerk Goleta-CA\n",
      "in for loop before WebDriverWait\n",
      "+ in try to find element by ID\n",
      "ok, left try\n",
      "median salary for Accounts-Payable-Clerk is $42,279 at Goleta-CA\n",
      "Salaries Scraped: # 1\n",
      "\n",
      "data_salary\n",
      "[[1, 'Accounts-Payable-Clerk', 'Goleta-CA', 'Goleta, CA', '$38,125', '$42,279', '$47,312']]\n",
      "\n",
      "--------------------------\n",
      "Going to url for title Accounts-Payable-Clerk-Sr Goleta-CA\n",
      "in for loop before WebDriverWait\n",
      "+ in try to find element by ID\n",
      "- made it in TimeoutException\n",
      "element = False\n",
      "no data for Accounts-Payable-Clerk-Sr at Goleta-CA\n",
      "ok, left try\n",
      "--------------------------\n",
      "Going to url for title Accounts-Receivable-Clerk Goleta-CA\n",
      "in for loop before WebDriverWait\n",
      "+ in try to find element by ID\n",
      "ok, left try\n",
      "median salary for Accounts-Receivable-Clerk is $41,996 at Goleta-CA\n",
      "Salaries Scraped: # 3\n",
      "\n",
      "data_salary\n",
      "[[1, 'Accounts-Payable-Clerk', 'Goleta-CA', 'Goleta, CA', '$38,125', '$42,279', '$47,312'], [0, 'Accounts-Payable-Clerk-Sr', 'Goleta-CA', 0, 0, 0, 0], [1, 'Accounts-Receivable-Clerk', 'Goleta-CA', 'Goleta, CA', '$37,710', '$41,996', '$46,858']]\n",
      "\n",
      "--------------------------\n",
      "Going to url for title Credit-and-Collections-Manager Goleta-CA\n",
      "in for loop before WebDriverWait\n",
      "+ in try to find element by ID\n",
      "ok, left try\n",
      "median salary for Credit-and-Collections-Manager is $96,500 at Goleta-CA\n",
      "Salaries Scraped: # 4\n",
      "\n",
      "data_salary\n",
      "[[1, 'Accounts-Payable-Clerk', 'Goleta-CA', 'Goleta, CA', '$38,125', '$42,279', '$47,312'], [0, 'Accounts-Payable-Clerk-Sr', 'Goleta-CA', 0, 0, 0, 0], [1, 'Accounts-Receivable-Clerk', 'Goleta-CA', 'Goleta, CA', '$37,710', '$41,996', '$46,858'], [1, 'Credit-and-Collections-Manager', 'Goleta-CA', 'Goleta, CA', '$83,686', '$96,500', '$112,643']]\n",
      "\n",
      "--------------------------\n",
      "Going to url for title Accounts-Receivable-Manager Goleta-CA\n",
      "in for loop before WebDriverWait\n",
      "+ in try to find element by ID\n",
      "ok, left try\n",
      "median salary for Accounts-Receivable-Manager is $90,811 at Goleta-CA\n",
      "Salaries Scraped: # 5\n",
      "\n",
      "data_salary\n",
      "[[1, 'Accounts-Payable-Clerk', 'Goleta-CA', 'Goleta, CA', '$38,125', '$42,279', '$47,312'], [0, 'Accounts-Payable-Clerk-Sr', 'Goleta-CA', 0, 0, 0, 0], [1, 'Accounts-Receivable-Clerk', 'Goleta-CA', 'Goleta, CA', '$37,710', '$41,996', '$46,858'], [1, 'Credit-and-Collections-Manager', 'Goleta-CA', 'Goleta, CA', '$83,686', '$96,500', '$112,643'], [1, 'Accounts-Receivable-Manager', 'Goleta-CA', 'Goleta, CA', '$77,287', '$90,811', '$106,737']]\n",
      "\n",
      "--------------------------\n",
      "Going to url for title Controller-Assistant Goleta-CA\n",
      "in for loop before WebDriverWait\n",
      "+ in try to find element by ID\n",
      "- made it in TimeoutException\n",
      "element = False\n",
      "no data for Controller-Assistant at Goleta-CA\n",
      "ok, left try\n",
      "--------------------------\n",
      "Going to url for title Associate-Product-Brand-Manager Goleta-CA\n",
      "in for loop before WebDriverWait\n",
      "+ in try to find element by ID\n",
      "- made it in TimeoutException\n",
      "element = False\n",
      "no data for Associate-Product-Brand-Manager at Goleta-CA\n",
      "ok, left try\n",
      "--------------------------\n",
      "Going to url for title Customer-Service-Representative-III Goleta-CA\n",
      "in for loop before WebDriverWait\n",
      "+ in try to find element by ID\n",
      "ok, left try\n",
      "median salary for Customer-Service-Representative-III is $49,103 at Goleta-CA\n",
      "--------------------------\n",
      "Going to url for title Sales-Support-Representative Goleta-CA\n",
      "in for loop before WebDriverWait\n",
      "+ in try to find element by ID\n",
      "ok, left try\n",
      "median salary for Sales-Support-Representative is $54,162 at Goleta-CA\n",
      "--------------------------\n",
      "Going to url for title Certified-Respiratory-Therapist Goleta-CA\n",
      "in for loop before WebDriverWait\n",
      "+ in try to find element by ID\n",
      "ok, left try\n",
      "median salary for Certified-Respiratory-Therapist is $64,800 at Goleta-CA\n",
      "--------------------------\n",
      "Going to url for title Registered-Respiratory-Therapist Goleta-CA\n",
      "in for loop before WebDriverWait\n",
      "+ in try to find element by ID\n",
      "ok, left try\n",
      "median salary for Registered-Respiratory-Therapist is $69,766 at Goleta-CA\n"
     ]
    }
   ],
   "source": [
    "labels = ['Scraped', 'Dash - Salary.com Job Title', 'Location', 'City_State', 'Market 25%', 'Median', 'Market 75%']\n",
    "data_salary = []\n",
    "\n",
    "df_data_salary = pd.DataFrame(columns=labels)\n",
    "\n",
    "for i in df.index[:11]: # update to just df.index after test-run\n",
    "    dash_title = df.iloc[i,0]\n",
    "    location = df.iloc[i,1]\n",
    "    url = get_url_for_job(dash_title, location)\n",
    "    print(\"--------------------------\")\n",
    "    print('Going to url for title {} {}'.format(dash_title, location))\n",
    "    driver.get(url)\n",
    "    print('in for loop before WebDriverWait')\n",
    "    try:\n",
    "        print('+ in try to find element by ID')\n",
    "        element = WebDriverWait(driver, 60).until(EC.presence_of_element_located((By.ID, 'mediansalary')))\n",
    "    except TimeoutException:\n",
    "        print('- made it in TimeoutException')\n",
    "        element = False\n",
    "        print('element = False')\n",
    "        city_state = 0\n",
    "        salary_twentyfive = 0\n",
    "        salary_median = 0\n",
    "        salary_seventyfive = 0\n",
    "        scraped = 0\n",
    "        data_salary.append([scraped, dash_title, location, city_state, salary_twentyfive, salary_median, salary_seventyfive])\n",
    "        df_data_salary = pd.concat([df_data_salary, pd.DataFrame(data_salary[-1:], columns=labels)], ignore_index=True)\n",
    "        print('no data for {} at {}'.format(dash_title, location))\n",
    "        continue\n",
    "    finally:\n",
    "        print('ok, left try')\n",
    "    if element:\n",
    "        city_state = driver.find_elements_by_xpath('.//span[@class = \"header_location\"]')[0].text\n",
    "        salary_twentyfive = driver.find_element_by_id('marketv25').text\n",
    "        salary_median = driver.find_element_by_id('mediansalary').text\n",
    "        salary_seventyfive = driver.find_element_by_id('marketv75').text\n",
    "        scraped = 1\n",
    "        data_salary.append([scraped, dash_title, location, city_state, salary_twentyfive, salary_median, salary_seventyfive])\n",
    "        print('median salary for {} is {} at {}'.format(dash_title, salary_median, location))\n",
    "        df_data_salary = pd.concat([df_data_salary, pd.DataFrame(data_salary[-1:], columns=labels)], ignore_index=True)\n",
    "\n",
    "    # print first 5 Salaries Scraped\n",
    "    if i < 5:\n",
    "        print('Salaries Scraped: # {}'.format(len(data_salary)))\n",
    "        print()\n",
    "        print(\"data_salary\")\n",
    "        print(data_salary)\n",
    "        print()        \n",
    "    \n",
    "    # periodically save progress\n",
    "    if i % 10 == 0:\n",
    "        df_data_salary.to_csv('data_salary_up_to_index_' + str(i) + '.csv')"
   ]
  },
  {
   "cell_type": "code",
   "execution_count": 7,
   "metadata": {},
   "outputs": [
    {
     "data": {
      "text/html": [
       "<div>\n",
       "<style>\n",
       "    .dataframe thead tr:only-child th {\n",
       "        text-align: right;\n",
       "    }\n",
       "\n",
       "    .dataframe thead th {\n",
       "        text-align: left;\n",
       "    }\n",
       "\n",
       "    .dataframe tbody tr th {\n",
       "        vertical-align: top;\n",
       "    }\n",
       "</style>\n",
       "<table border=\"1\" class=\"dataframe\">\n",
       "  <thead>\n",
       "    <tr style=\"text-align: right;\">\n",
       "      <th></th>\n",
       "      <th>Scraped</th>\n",
       "      <th>Dash - Salary.com Job Title</th>\n",
       "      <th>Location</th>\n",
       "      <th>City_State</th>\n",
       "      <th>Market 25%</th>\n",
       "      <th>Median</th>\n",
       "      <th>Market 75%</th>\n",
       "    </tr>\n",
       "  </thead>\n",
       "  <tbody>\n",
       "    <tr>\n",
       "      <th>0</th>\n",
       "      <td>1</td>\n",
       "      <td>Accounts-Payable-Clerk</td>\n",
       "      <td>Goleta-CA</td>\n",
       "      <td>Goleta, CA</td>\n",
       "      <td>$38,125</td>\n",
       "      <td>$42,279</td>\n",
       "      <td>$47,312</td>\n",
       "    </tr>\n",
       "    <tr>\n",
       "      <th>1</th>\n",
       "      <td>0</td>\n",
       "      <td>Accounts-Payable-Clerk-Sr</td>\n",
       "      <td>Goleta-CA</td>\n",
       "      <td>0</td>\n",
       "      <td>0</td>\n",
       "      <td>0</td>\n",
       "      <td>0</td>\n",
       "    </tr>\n",
       "    <tr>\n",
       "      <th>2</th>\n",
       "      <td>1</td>\n",
       "      <td>Accounts-Receivable-Clerk</td>\n",
       "      <td>Goleta-CA</td>\n",
       "      <td>Goleta, CA</td>\n",
       "      <td>$37,710</td>\n",
       "      <td>$41,996</td>\n",
       "      <td>$46,858</td>\n",
       "    </tr>\n",
       "    <tr>\n",
       "      <th>3</th>\n",
       "      <td>1</td>\n",
       "      <td>Credit-and-Collections-Manager</td>\n",
       "      <td>Goleta-CA</td>\n",
       "      <td>Goleta, CA</td>\n",
       "      <td>$83,686</td>\n",
       "      <td>$96,500</td>\n",
       "      <td>$112,643</td>\n",
       "    </tr>\n",
       "    <tr>\n",
       "      <th>4</th>\n",
       "      <td>1</td>\n",
       "      <td>Accounts-Receivable-Manager</td>\n",
       "      <td>Goleta-CA</td>\n",
       "      <td>Goleta, CA</td>\n",
       "      <td>$77,287</td>\n",
       "      <td>$90,811</td>\n",
       "      <td>$106,737</td>\n",
       "    </tr>\n",
       "  </tbody>\n",
       "</table>\n",
       "</div>"
      ],
      "text/plain": [
       "  Scraped     Dash - Salary.com Job Title   Location  City_State Market 25%  \\\n",
       "0       1          Accounts-Payable-Clerk  Goleta-CA  Goleta, CA    $38,125   \n",
       "1       0       Accounts-Payable-Clerk-Sr  Goleta-CA           0          0   \n",
       "2       1       Accounts-Receivable-Clerk  Goleta-CA  Goleta, CA    $37,710   \n",
       "3       1  Credit-and-Collections-Manager  Goleta-CA  Goleta, CA    $83,686   \n",
       "4       1     Accounts-Receivable-Manager  Goleta-CA  Goleta, CA    $77,287   \n",
       "\n",
       "    Median Market 75%  \n",
       "0  $42,279    $47,312  \n",
       "1        0          0  \n",
       "2  $41,996    $46,858  \n",
       "3  $96,500   $112,643  \n",
       "4  $90,811   $106,737  "
      ]
     },
     "execution_count": 7,
     "metadata": {},
     "output_type": "execute_result"
    }
   ],
   "source": [
    "df_data_salary.head()"
   ]
  },
  {
   "cell_type": "code",
   "execution_count": 8,
   "metadata": {},
   "outputs": [
    {
     "name": "stdout",
     "output_type": "stream",
     "text": [
      "<class 'pandas.core.frame.DataFrame'>\n",
      "RangeIndex: 11 entries, 0 to 10\n",
      "Data columns (total 7 columns):\n",
      "Scraped                        11 non-null object\n",
      "Dash - Salary.com Job Title    11 non-null object\n",
      "Location                       11 non-null object\n",
      "City_State                     11 non-null object\n",
      "Market 25%                     11 non-null object\n",
      "Median                         11 non-null object\n",
      "Market 75%                     11 non-null object\n",
      "dtypes: object(7)\n",
      "memory usage: 696.0+ bytes\n"
     ]
    }
   ],
   "source": [
    "df_data_salary.info()"
   ]
  },
  {
   "cell_type": "markdown",
   "metadata": {},
   "source": [
    "## Clean-Up Salaries: Text to Int"
   ]
  },
  {
   "cell_type": "code",
   "execution_count": 9,
   "metadata": {},
   "outputs": [],
   "source": [
    "def text_cleaner(s):\n",
    "    if type(s) == str:\n",
    "        translator = str.maketrans('','',string.punctuation)\n",
    "        s = s.translate(translator)\n",
    "        s = s.replace(\"$\", \"\")\n",
    "    return s"
   ]
  },
  {
   "cell_type": "code",
   "execution_count": 10,
   "metadata": {},
   "outputs": [],
   "source": [
    "df_data_salary['Market 25%'] = df_data_salary['Market 25%'].map(text_cleaner).astype(int)\n",
    "df_data_salary['Median'] = df_data_salary['Median'].map(text_cleaner).astype(int)\n",
    "df_data_salary['Market 75%'] = df_data_salary['Market 75%'].map(text_cleaner).astype(int)"
   ]
  },
  {
   "cell_type": "code",
   "execution_count": 11,
   "metadata": {},
   "outputs": [
    {
     "data": {
      "text/html": [
       "<div>\n",
       "<style>\n",
       "    .dataframe thead tr:only-child th {\n",
       "        text-align: right;\n",
       "    }\n",
       "\n",
       "    .dataframe thead th {\n",
       "        text-align: left;\n",
       "    }\n",
       "\n",
       "    .dataframe tbody tr th {\n",
       "        vertical-align: top;\n",
       "    }\n",
       "</style>\n",
       "<table border=\"1\" class=\"dataframe\">\n",
       "  <thead>\n",
       "    <tr style=\"text-align: right;\">\n",
       "      <th></th>\n",
       "      <th>Scraped</th>\n",
       "      <th>Dash - Salary.com Job Title</th>\n",
       "      <th>Location</th>\n",
       "      <th>City_State</th>\n",
       "      <th>Market 25%</th>\n",
       "      <th>Median</th>\n",
       "      <th>Market 75%</th>\n",
       "    </tr>\n",
       "  </thead>\n",
       "  <tbody>\n",
       "    <tr>\n",
       "      <th>0</th>\n",
       "      <td>1</td>\n",
       "      <td>Accounts-Payable-Clerk</td>\n",
       "      <td>Goleta-CA</td>\n",
       "      <td>Goleta, CA</td>\n",
       "      <td>38125</td>\n",
       "      <td>42279</td>\n",
       "      <td>47312</td>\n",
       "    </tr>\n",
       "    <tr>\n",
       "      <th>1</th>\n",
       "      <td>0</td>\n",
       "      <td>Accounts-Payable-Clerk-Sr</td>\n",
       "      <td>Goleta-CA</td>\n",
       "      <td>0</td>\n",
       "      <td>0</td>\n",
       "      <td>0</td>\n",
       "      <td>0</td>\n",
       "    </tr>\n",
       "    <tr>\n",
       "      <th>2</th>\n",
       "      <td>1</td>\n",
       "      <td>Accounts-Receivable-Clerk</td>\n",
       "      <td>Goleta-CA</td>\n",
       "      <td>Goleta, CA</td>\n",
       "      <td>37710</td>\n",
       "      <td>41996</td>\n",
       "      <td>46858</td>\n",
       "    </tr>\n",
       "    <tr>\n",
       "      <th>3</th>\n",
       "      <td>1</td>\n",
       "      <td>Credit-and-Collections-Manager</td>\n",
       "      <td>Goleta-CA</td>\n",
       "      <td>Goleta, CA</td>\n",
       "      <td>83686</td>\n",
       "      <td>96500</td>\n",
       "      <td>112643</td>\n",
       "    </tr>\n",
       "    <tr>\n",
       "      <th>4</th>\n",
       "      <td>1</td>\n",
       "      <td>Accounts-Receivable-Manager</td>\n",
       "      <td>Goleta-CA</td>\n",
       "      <td>Goleta, CA</td>\n",
       "      <td>77287</td>\n",
       "      <td>90811</td>\n",
       "      <td>106737</td>\n",
       "    </tr>\n",
       "  </tbody>\n",
       "</table>\n",
       "</div>"
      ],
      "text/plain": [
       "  Scraped     Dash - Salary.com Job Title   Location  City_State  Market 25%  \\\n",
       "0       1          Accounts-Payable-Clerk  Goleta-CA  Goleta, CA       38125   \n",
       "1       0       Accounts-Payable-Clerk-Sr  Goleta-CA           0           0   \n",
       "2       1       Accounts-Receivable-Clerk  Goleta-CA  Goleta, CA       37710   \n",
       "3       1  Credit-and-Collections-Manager  Goleta-CA  Goleta, CA       83686   \n",
       "4       1     Accounts-Receivable-Manager  Goleta-CA  Goleta, CA       77287   \n",
       "\n",
       "   Median  Market 75%  \n",
       "0   42279       47312  \n",
       "1       0           0  \n",
       "2   41996       46858  \n",
       "3   96500      112643  \n",
       "4   90811      106737  "
      ]
     },
     "execution_count": 11,
     "metadata": {},
     "output_type": "execute_result"
    }
   ],
   "source": [
    "df_data_salary.head()"
   ]
  },
  {
   "cell_type": "code",
   "execution_count": 12,
   "metadata": {},
   "outputs": [
    {
     "name": "stdout",
     "output_type": "stream",
     "text": [
      "<class 'pandas.core.frame.DataFrame'>\n",
      "RangeIndex: 11 entries, 0 to 10\n",
      "Data columns (total 7 columns):\n",
      "Scraped                        11 non-null object\n",
      "Dash - Salary.com Job Title    11 non-null object\n",
      "Location                       11 non-null object\n",
      "City_State                     11 non-null object\n",
      "Market 25%                     11 non-null int64\n",
      "Median                         11 non-null int64\n",
      "Market 75%                     11 non-null int64\n",
      "dtypes: int64(3), object(4)\n",
      "memory usage: 696.0+ bytes\n"
     ]
    }
   ],
   "source": [
    "df_data_salary.info()"
   ]
  },
  {
   "cell_type": "markdown",
   "metadata": {},
   "source": [
    "## Print Webscrape Info"
   ]
  },
  {
   "cell_type": "code",
   "execution_count": 13,
   "metadata": {},
   "outputs": [
    {
     "name": "stdout",
     "output_type": "stream",
     "text": [
      "salaries # \t \t 8\n",
      "no salary data # \t 3\n",
      "total jobs # \t \t 374\n",
      "\n",
      "8 of 374 job salaries downloaded\n"
     ]
    }
   ],
   "source": [
    "size_input = str(df.index.size)\n",
    "size_nodata = str((df_data_salary['Median'] == 0).sum())\n",
    "size_data_salary = str((df_data_salary['Median'] != 0).sum())\n",
    "\n",
    "print(\"salaries # \\t \\t {}\".format(size_data_salary))\n",
    "print(\"no salary data # \\t {}\".format(size_nodata))\n",
    "print(\"total jobs # \\t \\t {}\".format(size_input))\n",
    "print()\n",
    "print(size_data_salary + \" of \" + size_input + \" job salaries downloaded\")"
   ]
  },
  {
   "cell_type": "markdown",
   "metadata": {},
   "source": [
    "## Save to_csv"
   ]
  },
  {
   "cell_type": "code",
   "execution_count": 14,
   "metadata": {},
   "outputs": [],
   "source": [
    "df_data_salary.to_csv('data_salary.csv')"
   ]
  },
  {
   "cell_type": "code",
   "execution_count": 15,
   "metadata": {},
   "outputs": [
    {
     "name": "stdout",
     "output_type": "stream",
     "text": [
      "Calculations Runtime: 00:04:12.31\n"
     ]
    }
   ],
   "source": [
    "# print program runtime\n",
    "time_end = time.time()\n",
    "\n",
    "def timer(start,end):\n",
    "    hours, rem = divmod(end-start, 3600)\n",
    "    minutes, seconds = divmod(rem, 60)\n",
    "    print(\"Calculations Runtime: {:0>2}:{:0>2}:{:05.2f}\".format(int(hours),int(minutes),seconds))\n",
    "\n",
    "timer(time_start, time_end)"
   ]
  },
  {
   "cell_type": "code",
   "execution_count": null,
   "metadata": {},
   "outputs": [],
   "source": []
  }
 ],
 "metadata": {
  "kernelspec": {
   "display_name": "Python 3",
   "language": "python",
   "name": "python3"
  },
  "language_info": {
   "codemirror_mode": {
    "name": "ipython",
    "version": 3
   },
   "file_extension": ".py",
   "mimetype": "text/x-python",
   "name": "python",
   "nbconvert_exporter": "python",
   "pygments_lexer": "ipython3",
   "version": "3.6.2"
  },
  "toc": {
   "nav_menu": {},
   "number_sections": true,
   "sideBar": true,
   "skip_h1_title": false,
   "title_cell": "Table of Contents",
   "title_sidebar": "Contents",
   "toc_cell": false,
   "toc_position": {},
   "toc_section_display": true,
   "toc_window_display": true
  }
 },
 "nbformat": 4,
 "nbformat_minor": 2
}
